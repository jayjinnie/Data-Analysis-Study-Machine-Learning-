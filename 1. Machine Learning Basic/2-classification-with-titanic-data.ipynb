{
 "cells": [
  {
   "cell_type": "markdown",
   "id": "bc9e0982",
   "metadata": {
    "papermill": {
     "duration": 0.020724,
     "end_time": "2022-04-26T00:52:56.916992",
     "exception": false,
     "start_time": "2022-04-26T00:52:56.896268",
     "status": "completed"
    },
    "tags": []
   },
   "source": [
    "# 타이타닉 데이터를 통한 분류 (Classification) 실습\n",
    "### 0) Titanic Dataset Preprocessing (타이타닉 데이터셋 전처리)\n",
    "### 1) Decision Tree (의사결정 나무)\n",
    "### 2) Random Forest (랜덤 포레스트)\n",
    "### 3) Naive Bayes (나이브 베이즈)\n",
    "### 4) Decision Tree vs. Random Forest vs. Naive Bayes Classifier\n",
    "### 5) ROC Curves\n",
    "### 6) K-NN (K-Nearest Neighbors, K 최근접 이웃)"
   ]
  },
  {
   "cell_type": "markdown",
   "id": "6e393c22",
   "metadata": {
    "papermill": {
     "duration": 0.01735,
     "end_time": "2022-04-26T00:52:56.951737",
     "exception": false,
     "start_time": "2022-04-26T00:52:56.934387",
     "status": "completed"
    },
    "tags": []
   },
   "source": [
    "# 0) Titanic Dataset Preprocessing\n",
    "### 데이터 구조 확인"
   ]
  },
  {
   "cell_type": "code",
   "execution_count": 1,
   "id": "806fbe59",
   "metadata": {
    "execution": {
     "iopub.execute_input": "2022-04-26T00:52:56.990686Z",
     "iopub.status.busy": "2022-04-26T00:52:56.988618Z",
     "iopub.status.idle": "2022-04-26T00:56:47.772219Z",
     "shell.execute_reply": "2022-04-26T00:56:47.770251Z"
    },
    "papermill": {
     "duration": 230.807994,
     "end_time": "2022-04-26T00:56:47.777233",
     "exception": false,
     "start_time": "2022-04-26T00:52:56.969239",
     "status": "completed"
    },
    "tags": []
   },
   "outputs": [
    {
     "name": "stderr",
     "output_type": "stream",
     "text": [
      "Installing package into ‘/usr/local/lib/R/site-library’\n",
      "(as ‘lib’ is unspecified)\n",
      "\n",
      "also installing the dependencies ‘nloptr’, ‘pbkrtest’, ‘lme4’, ‘car’, ‘laeken’\n",
      "\n",
      "\n",
      "\n",
      "Attaching package: ‘dplyr’\n",
      "\n",
      "\n",
      "The following objects are masked from ‘package:stats’:\n",
      "\n",
      "    filter, lag\n",
      "\n",
      "\n",
      "The following objects are masked from ‘package:base’:\n",
      "\n",
      "    intersect, setdiff, setequal, union\n",
      "\n",
      "\n",
      "Loading required package: colorspace\n",
      "\n",
      "Loading required package: grid\n",
      "\n",
      "VIM is ready to use.\n",
      "\n",
      "\n",
      "Suggestions and bug-reports can be submitted at: https://github.com/statistikat/VIM/issues\n",
      "\n",
      "\n",
      "Attaching package: ‘VIM’\n",
      "\n",
      "\n",
      "The following object is masked from ‘package:datasets’:\n",
      "\n",
      "    sleep\n",
      "\n",
      "\n",
      "\n",
      "Attaching package: ‘mice’\n",
      "\n",
      "\n",
      "The following object is masked from ‘package:stats’:\n",
      "\n",
      "    filter\n",
      "\n",
      "\n",
      "The following objects are masked from ‘package:base’:\n",
      "\n",
      "    cbind, rbind\n",
      "\n",
      "\n"
     ]
    }
   ],
   "source": [
    "install.packages(\"VIM\")\n",
    "\n",
    "library(dplyr)\n",
    "library(VIM)\n",
    "library(mice)"
   ]
  },
  {
   "cell_type": "code",
   "execution_count": 2,
   "id": "da7c6e6c",
   "metadata": {
    "execution": {
     "iopub.execute_input": "2022-04-26T00:56:47.856805Z",
     "iopub.status.busy": "2022-04-26T00:56:47.825243Z",
     "iopub.status.idle": "2022-04-26T00:56:47.957379Z",
     "shell.execute_reply": "2022-04-26T00:56:47.955025Z"
    },
    "papermill": {
     "duration": 0.155142,
     "end_time": "2022-04-26T00:56:47.960228",
     "exception": false,
     "start_time": "2022-04-26T00:56:47.805086",
     "status": "completed"
    },
    "tags": []
   },
   "outputs": [
    {
     "name": "stdout",
     "output_type": "stream",
     "text": [
      "[1] \"Train Dataset\"\n"
     ]
    },
    {
     "data": {
      "text/html": [
       "<table class=\"dataframe\">\n",
       "<caption>A data.frame: 6 × 12</caption>\n",
       "<thead>\n",
       "\t<tr><th></th><th scope=col>PassengerId</th><th scope=col>Survived</th><th scope=col>Pclass</th><th scope=col>Name</th><th scope=col>Sex</th><th scope=col>Age</th><th scope=col>SibSp</th><th scope=col>Parch</th><th scope=col>Ticket</th><th scope=col>Fare</th><th scope=col>Cabin</th><th scope=col>Embarked</th></tr>\n",
       "\t<tr><th></th><th scope=col>&lt;int&gt;</th><th scope=col>&lt;int&gt;</th><th scope=col>&lt;int&gt;</th><th scope=col>&lt;chr&gt;</th><th scope=col>&lt;chr&gt;</th><th scope=col>&lt;dbl&gt;</th><th scope=col>&lt;int&gt;</th><th scope=col>&lt;int&gt;</th><th scope=col>&lt;chr&gt;</th><th scope=col>&lt;dbl&gt;</th><th scope=col>&lt;chr&gt;</th><th scope=col>&lt;chr&gt;</th></tr>\n",
       "</thead>\n",
       "<tbody>\n",
       "\t<tr><th scope=row>1</th><td>1</td><td>0</td><td>3</td><td>Braund, Mr. Owen Harris                            </td><td>male  </td><td>22</td><td>1</td><td>0</td><td>A/5 21171       </td><td> 7.2500</td><td>NA  </td><td>S</td></tr>\n",
       "\t<tr><th scope=row>2</th><td>2</td><td>1</td><td>1</td><td>Cumings, Mrs. John Bradley (Florence Briggs Thayer)</td><td>female</td><td>38</td><td>1</td><td>0</td><td>PC 17599        </td><td>71.2833</td><td>C85 </td><td>C</td></tr>\n",
       "\t<tr><th scope=row>3</th><td>3</td><td>1</td><td>3</td><td>Heikkinen, Miss. Laina                             </td><td>female</td><td>26</td><td>0</td><td>0</td><td>STON/O2. 3101282</td><td> 7.9250</td><td>NA  </td><td>S</td></tr>\n",
       "\t<tr><th scope=row>4</th><td>4</td><td>1</td><td>1</td><td>Futrelle, Mrs. Jacques Heath (Lily May Peel)       </td><td>female</td><td>35</td><td>1</td><td>0</td><td>113803          </td><td>53.1000</td><td>C123</td><td>S</td></tr>\n",
       "\t<tr><th scope=row>5</th><td>5</td><td>0</td><td>3</td><td>Allen, Mr. William Henry                           </td><td>male  </td><td>35</td><td>0</td><td>0</td><td>373450          </td><td> 8.0500</td><td>NA  </td><td>S</td></tr>\n",
       "\t<tr><th scope=row>6</th><td>6</td><td>0</td><td>3</td><td>Moran, Mr. James                                   </td><td>male  </td><td>NA</td><td>0</td><td>0</td><td>330877          </td><td> 8.4583</td><td>NA  </td><td>Q</td></tr>\n",
       "</tbody>\n",
       "</table>\n"
      ],
      "text/latex": [
       "A data.frame: 6 × 12\n",
       "\\begin{tabular}{r|llllllllllll}\n",
       "  & PassengerId & Survived & Pclass & Name & Sex & Age & SibSp & Parch & Ticket & Fare & Cabin & Embarked\\\\\n",
       "  & <int> & <int> & <int> & <chr> & <chr> & <dbl> & <int> & <int> & <chr> & <dbl> & <chr> & <chr>\\\\\n",
       "\\hline\n",
       "\t1 & 1 & 0 & 3 & Braund, Mr. Owen Harris                             & male   & 22 & 1 & 0 & A/5 21171        &  7.2500 & NA   & S\\\\\n",
       "\t2 & 2 & 1 & 1 & Cumings, Mrs. John Bradley (Florence Briggs Thayer) & female & 38 & 1 & 0 & PC 17599         & 71.2833 & C85  & C\\\\\n",
       "\t3 & 3 & 1 & 3 & Heikkinen, Miss. Laina                              & female & 26 & 0 & 0 & STON/O2. 3101282 &  7.9250 & NA   & S\\\\\n",
       "\t4 & 4 & 1 & 1 & Futrelle, Mrs. Jacques Heath (Lily May Peel)        & female & 35 & 1 & 0 & 113803           & 53.1000 & C123 & S\\\\\n",
       "\t5 & 5 & 0 & 3 & Allen, Mr. William Henry                            & male   & 35 & 0 & 0 & 373450           &  8.0500 & NA   & S\\\\\n",
       "\t6 & 6 & 0 & 3 & Moran, Mr. James                                    & male   & NA & 0 & 0 & 330877           &  8.4583 & NA   & Q\\\\\n",
       "\\end{tabular}\n"
      ],
      "text/markdown": [
       "\n",
       "A data.frame: 6 × 12\n",
       "\n",
       "| <!--/--> | PassengerId &lt;int&gt; | Survived &lt;int&gt; | Pclass &lt;int&gt; | Name &lt;chr&gt; | Sex &lt;chr&gt; | Age &lt;dbl&gt; | SibSp &lt;int&gt; | Parch &lt;int&gt; | Ticket &lt;chr&gt; | Fare &lt;dbl&gt; | Cabin &lt;chr&gt; | Embarked &lt;chr&gt; |\n",
       "|---|---|---|---|---|---|---|---|---|---|---|---|---|\n",
       "| 1 | 1 | 0 | 3 | Braund, Mr. Owen Harris                             | male   | 22 | 1 | 0 | A/5 21171        |  7.2500 | NA   | S |\n",
       "| 2 | 2 | 1 | 1 | Cumings, Mrs. John Bradley (Florence Briggs Thayer) | female | 38 | 1 | 0 | PC 17599         | 71.2833 | C85  | C |\n",
       "| 3 | 3 | 1 | 3 | Heikkinen, Miss. Laina                              | female | 26 | 0 | 0 | STON/O2. 3101282 |  7.9250 | NA   | S |\n",
       "| 4 | 4 | 1 | 1 | Futrelle, Mrs. Jacques Heath (Lily May Peel)        | female | 35 | 1 | 0 | 113803           | 53.1000 | C123 | S |\n",
       "| 5 | 5 | 0 | 3 | Allen, Mr. William Henry                            | male   | 35 | 0 | 0 | 373450           |  8.0500 | NA   | S |\n",
       "| 6 | 6 | 0 | 3 | Moran, Mr. James                                    | male   | NA | 0 | 0 | 330877           |  8.4583 | NA   | Q |\n",
       "\n"
      ],
      "text/plain": [
       "  PassengerId Survived Pclass\n",
       "1 1           0        3     \n",
       "2 2           1        1     \n",
       "3 3           1        3     \n",
       "4 4           1        1     \n",
       "5 5           0        3     \n",
       "6 6           0        3     \n",
       "  Name                                                Sex    Age SibSp Parch\n",
       "1 Braund, Mr. Owen Harris                             male   22  1     0    \n",
       "2 Cumings, Mrs. John Bradley (Florence Briggs Thayer) female 38  1     0    \n",
       "3 Heikkinen, Miss. Laina                              female 26  0     0    \n",
       "4 Futrelle, Mrs. Jacques Heath (Lily May Peel)        female 35  1     0    \n",
       "5 Allen, Mr. William Henry                            male   35  0     0    \n",
       "6 Moran, Mr. James                                    male   NA  0     0    \n",
       "  Ticket           Fare    Cabin Embarked\n",
       "1 A/5 21171         7.2500 NA    S       \n",
       "2 PC 17599         71.2833 C85   C       \n",
       "3 STON/O2. 3101282  7.9250 NA    S       \n",
       "4 113803           53.1000 C123  S       \n",
       "5 373450            8.0500 NA    S       \n",
       "6 330877            8.4583 NA    Q       "
      ]
     },
     "metadata": {},
     "output_type": "display_data"
    },
    {
     "name": "stdout",
     "output_type": "stream",
     "text": [
      "[1] \"Test Dataset\"\n"
     ]
    },
    {
     "data": {
      "text/html": [
       "<table class=\"dataframe\">\n",
       "<caption>A data.frame: 6 × 11</caption>\n",
       "<thead>\n",
       "\t<tr><th></th><th scope=col>PassengerId</th><th scope=col>Pclass</th><th scope=col>Name</th><th scope=col>Sex</th><th scope=col>Age</th><th scope=col>SibSp</th><th scope=col>Parch</th><th scope=col>Ticket</th><th scope=col>Fare</th><th scope=col>Cabin</th><th scope=col>Embarked</th></tr>\n",
       "\t<tr><th></th><th scope=col>&lt;int&gt;</th><th scope=col>&lt;int&gt;</th><th scope=col>&lt;chr&gt;</th><th scope=col>&lt;chr&gt;</th><th scope=col>&lt;dbl&gt;</th><th scope=col>&lt;int&gt;</th><th scope=col>&lt;int&gt;</th><th scope=col>&lt;chr&gt;</th><th scope=col>&lt;dbl&gt;</th><th scope=col>&lt;chr&gt;</th><th scope=col>&lt;chr&gt;</th></tr>\n",
       "</thead>\n",
       "<tbody>\n",
       "\t<tr><th scope=row>1</th><td>892</td><td>3</td><td>Kelly, Mr. James                            </td><td>male  </td><td>34.5</td><td>0</td><td>0</td><td>330911 </td><td> 7.8292</td><td>NA</td><td>Q</td></tr>\n",
       "\t<tr><th scope=row>2</th><td>893</td><td>3</td><td>Wilkes, Mrs. James (Ellen Needs)            </td><td>female</td><td>47.0</td><td>1</td><td>0</td><td>363272 </td><td> 7.0000</td><td>NA</td><td>S</td></tr>\n",
       "\t<tr><th scope=row>3</th><td>894</td><td>2</td><td>Myles, Mr. Thomas Francis                   </td><td>male  </td><td>62.0</td><td>0</td><td>0</td><td>240276 </td><td> 9.6875</td><td>NA</td><td>Q</td></tr>\n",
       "\t<tr><th scope=row>4</th><td>895</td><td>3</td><td>Wirz, Mr. Albert                            </td><td>male  </td><td>27.0</td><td>0</td><td>0</td><td>315154 </td><td> 8.6625</td><td>NA</td><td>S</td></tr>\n",
       "\t<tr><th scope=row>5</th><td>896</td><td>3</td><td>Hirvonen, Mrs. Alexander (Helga E Lindqvist)</td><td>female</td><td>22.0</td><td>1</td><td>1</td><td>3101298</td><td>12.2875</td><td>NA</td><td>S</td></tr>\n",
       "\t<tr><th scope=row>6</th><td>897</td><td>3</td><td>Svensson, Mr. Johan Cervin                  </td><td>male  </td><td>14.0</td><td>0</td><td>0</td><td>7538   </td><td> 9.2250</td><td>NA</td><td>S</td></tr>\n",
       "</tbody>\n",
       "</table>\n"
      ],
      "text/latex": [
       "A data.frame: 6 × 11\n",
       "\\begin{tabular}{r|lllllllllll}\n",
       "  & PassengerId & Pclass & Name & Sex & Age & SibSp & Parch & Ticket & Fare & Cabin & Embarked\\\\\n",
       "  & <int> & <int> & <chr> & <chr> & <dbl> & <int> & <int> & <chr> & <dbl> & <chr> & <chr>\\\\\n",
       "\\hline\n",
       "\t1 & 892 & 3 & Kelly, Mr. James                             & male   & 34.5 & 0 & 0 & 330911  &  7.8292 & NA & Q\\\\\n",
       "\t2 & 893 & 3 & Wilkes, Mrs. James (Ellen Needs)             & female & 47.0 & 1 & 0 & 363272  &  7.0000 & NA & S\\\\\n",
       "\t3 & 894 & 2 & Myles, Mr. Thomas Francis                    & male   & 62.0 & 0 & 0 & 240276  &  9.6875 & NA & Q\\\\\n",
       "\t4 & 895 & 3 & Wirz, Mr. Albert                             & male   & 27.0 & 0 & 0 & 315154  &  8.6625 & NA & S\\\\\n",
       "\t5 & 896 & 3 & Hirvonen, Mrs. Alexander (Helga E Lindqvist) & female & 22.0 & 1 & 1 & 3101298 & 12.2875 & NA & S\\\\\n",
       "\t6 & 897 & 3 & Svensson, Mr. Johan Cervin                   & male   & 14.0 & 0 & 0 & 7538    &  9.2250 & NA & S\\\\\n",
       "\\end{tabular}\n"
      ],
      "text/markdown": [
       "\n",
       "A data.frame: 6 × 11\n",
       "\n",
       "| <!--/--> | PassengerId &lt;int&gt; | Pclass &lt;int&gt; | Name &lt;chr&gt; | Sex &lt;chr&gt; | Age &lt;dbl&gt; | SibSp &lt;int&gt; | Parch &lt;int&gt; | Ticket &lt;chr&gt; | Fare &lt;dbl&gt; | Cabin &lt;chr&gt; | Embarked &lt;chr&gt; |\n",
       "|---|---|---|---|---|---|---|---|---|---|---|---|\n",
       "| 1 | 892 | 3 | Kelly, Mr. James                             | male   | 34.5 | 0 | 0 | 330911  |  7.8292 | NA | Q |\n",
       "| 2 | 893 | 3 | Wilkes, Mrs. James (Ellen Needs)             | female | 47.0 | 1 | 0 | 363272  |  7.0000 | NA | S |\n",
       "| 3 | 894 | 2 | Myles, Mr. Thomas Francis                    | male   | 62.0 | 0 | 0 | 240276  |  9.6875 | NA | Q |\n",
       "| 4 | 895 | 3 | Wirz, Mr. Albert                             | male   | 27.0 | 0 | 0 | 315154  |  8.6625 | NA | S |\n",
       "| 5 | 896 | 3 | Hirvonen, Mrs. Alexander (Helga E Lindqvist) | female | 22.0 | 1 | 1 | 3101298 | 12.2875 | NA | S |\n",
       "| 6 | 897 | 3 | Svensson, Mr. Johan Cervin                   | male   | 14.0 | 0 | 0 | 7538    |  9.2250 | NA | S |\n",
       "\n"
      ],
      "text/plain": [
       "  PassengerId Pclass Name                                         Sex    Age \n",
       "1 892         3      Kelly, Mr. James                             male   34.5\n",
       "2 893         3      Wilkes, Mrs. James (Ellen Needs)             female 47.0\n",
       "3 894         2      Myles, Mr. Thomas Francis                    male   62.0\n",
       "4 895         3      Wirz, Mr. Albert                             male   27.0\n",
       "5 896         3      Hirvonen, Mrs. Alexander (Helga E Lindqvist) female 22.0\n",
       "6 897         3      Svensson, Mr. Johan Cervin                   male   14.0\n",
       "  SibSp Parch Ticket  Fare    Cabin Embarked\n",
       "1 0     0     330911   7.8292 NA    Q       \n",
       "2 1     0     363272   7.0000 NA    S       \n",
       "3 0     0     240276   9.6875 NA    Q       \n",
       "4 0     0     315154   8.6625 NA    S       \n",
       "5 1     1     3101298 12.2875 NA    S       \n",
       "6 0     0     7538     9.2250 NA    S       "
      ]
     },
     "metadata": {},
     "output_type": "display_data"
    }
   ],
   "source": [
    "# import와 동시에 결측값 처리 (\"\", \" \", \"NA\"를 모두 결측치로 인식)\n",
    "train <- read.csv(\"/kaggle/input/titanic/train.csv\", na.strings=c(\"\", \" \", \"NA\"))\n",
    "test <- read.csv(\"/kaggle/input/titanic/test.csv\", na.strings=c(\"\", \" \", \"NA\"))\n",
    "\n",
    "print(\"Train Dataset\")\n",
    "head(train)\n",
    "\n",
    "print(\"Test Dataset\")\n",
    "head(test)"
   ]
  },
  {
   "cell_type": "markdown",
   "id": "077073d4",
   "metadata": {
    "papermill": {
     "duration": 0.018875,
     "end_time": "2022-04-26T00:56:47.998062",
     "exception": false,
     "start_time": "2022-04-26T00:56:47.979187",
     "status": "completed"
    },
    "tags": []
   },
   "source": [
    "### 데이터타입 변환\n",
    "* **Factorization**이 필요한 변수: PassengerId, Survived, Pclass, Sex, Embarked"
   ]
  },
  {
   "cell_type": "code",
   "execution_count": 3,
   "id": "43108402",
   "metadata": {
    "execution": {
     "iopub.execute_input": "2022-04-26T00:56:48.040137Z",
     "iopub.status.busy": "2022-04-26T00:56:48.038362Z",
     "iopub.status.idle": "2022-04-26T00:56:48.066287Z",
     "shell.execute_reply": "2022-04-26T00:56:48.064271Z"
    },
    "papermill": {
     "duration": 0.051979,
     "end_time": "2022-04-26T00:56:48.069357",
     "exception": false,
     "start_time": "2022-04-26T00:56:48.017378",
     "status": "completed"
    },
    "tags": []
   },
   "outputs": [],
   "source": [
    "train <- train %>% mutate(PassengerId = as.factor(PassengerId),\n",
    "                          Survived = as.factor(Survived),\n",
    "                          Pclass = as.factor(Pclass),\n",
    "                          Sex = as.factor(Sex),\n",
    "                          Embarked = as.factor(Embarked))"
   ]
  },
  {
   "cell_type": "code",
   "execution_count": 4,
   "id": "d0c5ead7",
   "metadata": {
    "execution": {
     "iopub.execute_input": "2022-04-26T00:56:48.111642Z",
     "iopub.status.busy": "2022-04-26T00:56:48.109839Z",
     "iopub.status.idle": "2022-04-26T00:56:48.141983Z",
     "shell.execute_reply": "2022-04-26T00:56:48.139825Z"
    },
    "papermill": {
     "duration": 0.056792,
     "end_time": "2022-04-26T00:56:48.145215",
     "exception": false,
     "start_time": "2022-04-26T00:56:48.088423",
     "status": "completed"
    },
    "tags": []
   },
   "outputs": [
    {
     "name": "stdout",
     "output_type": "stream",
     "text": [
      "'data.frame':\t891 obs. of  12 variables:\n",
      " $ PassengerId: Factor w/ 891 levels \"1\",\"2\",\"3\",\"4\",..: 1 2 3 4 5 6 7 8 9 10 ...\n",
      " $ Survived   : Factor w/ 2 levels \"0\",\"1\": 1 2 2 2 1 1 1 1 2 2 ...\n",
      " $ Pclass     : Factor w/ 3 levels \"1\",\"2\",\"3\": 3 1 3 1 3 3 1 3 3 2 ...\n",
      " $ Name       : chr  \"Braund, Mr. Owen Harris\" \"Cumings, Mrs. John Bradley (Florence Briggs Thayer)\" \"Heikkinen, Miss. Laina\" \"Futrelle, Mrs. Jacques Heath (Lily May Peel)\" ...\n",
      " $ Sex        : Factor w/ 2 levels \"female\",\"male\": 2 1 1 1 2 2 2 2 1 1 ...\n",
      " $ Age        : num  22 38 26 35 35 NA 54 2 27 14 ...\n",
      " $ SibSp      : int  1 1 0 1 0 0 0 3 0 1 ...\n",
      " $ Parch      : int  0 0 0 0 0 0 0 1 2 0 ...\n",
      " $ Ticket     : chr  \"A/5 21171\" \"PC 17599\" \"STON/O2. 3101282\" \"113803\" ...\n",
      " $ Fare       : num  7.25 71.28 7.92 53.1 8.05 ...\n",
      " $ Cabin      : chr  NA \"C85\" NA \"C123\" ...\n",
      " $ Embarked   : Factor w/ 3 levels \"C\",\"Q\",\"S\": 3 1 3 3 3 2 3 3 3 1 ...\n"
     ]
    }
   ],
   "source": [
    "str(train)"
   ]
  },
  {
   "cell_type": "code",
   "execution_count": 5,
   "id": "eb9c043c",
   "metadata": {
    "execution": {
     "iopub.execute_input": "2022-04-26T00:56:48.187095Z",
     "iopub.status.busy": "2022-04-26T00:56:48.185426Z",
     "iopub.status.idle": "2022-04-26T00:56:48.205239Z",
     "shell.execute_reply": "2022-04-26T00:56:48.203013Z"
    },
    "papermill": {
     "duration": 0.043708,
     "end_time": "2022-04-26T00:56:48.208292",
     "exception": false,
     "start_time": "2022-04-26T00:56:48.164584",
     "status": "completed"
    },
    "tags": []
   },
   "outputs": [
    {
     "data": {
      "text/html": [
       "891"
      ],
      "text/latex": [
       "891"
      ],
      "text/markdown": [
       "891"
      ],
      "text/plain": [
       "[1] 891"
      ]
     },
     "metadata": {},
     "output_type": "display_data"
    }
   ],
   "source": [
    "nrow(train)"
   ]
  },
  {
   "cell_type": "markdown",
   "id": "2dcadd27",
   "metadata": {
    "papermill": {
     "duration": 0.019102,
     "end_time": "2022-04-26T00:56:48.246785",
     "exception": false,
     "start_time": "2022-04-26T00:56:48.227683",
     "status": "completed"
    },
    "tags": []
   },
   "source": [
    "### 결측값 처리\n",
    "* **VIM Library**: 데이터프레임 내 변수별 Missing Values(결측치)를 그래프화해주는 라이브러리\n",
    "* **mice Library**: 결측치 처리 라이브러리"
   ]
  },
  {
   "cell_type": "code",
   "execution_count": 6,
   "id": "0772b123",
   "metadata": {
    "execution": {
     "iopub.execute_input": "2022-04-26T00:56:48.288795Z",
     "iopub.status.busy": "2022-04-26T00:56:48.287188Z",
     "iopub.status.idle": "2022-04-26T00:56:48.566927Z",
     "shell.execute_reply": "2022-04-26T00:56:48.564051Z"
    },
    "papermill": {
     "duration": 0.30392,
     "end_time": "2022-04-26T00:56:48.569920",
     "exception": false,
     "start_time": "2022-04-26T00:56:48.266000",
     "status": "completed"
    },
    "tags": []
   },
   "outputs": [
    {
     "data": {
      "image/png": "[encoded data removed]"
     },
     "metadata": {
      "image/png": {
       "height": 420,
       "width": 420
      }
     },
     "output_type": "display_data"
    }
   ],
   "source": [
    "aggr(train) # train dataset의 결측치 시각화\n",
    "\n",
    "# Cabin column은 결측치가 전체 데이터 중 70% 이상, 모델에서 배제\n",
    "# Age에 존재하는 20%의 결측치는 Imputation (결측값 대체)을 통해 처리"
   ]
  },
  {
   "cell_type": "code",
   "execution_count": 7,
   "id": "e28c8b30",
   "metadata": {
    "execution": {
     "iopub.execute_input": "2022-04-26T00:56:48.613161Z",
     "iopub.status.busy": "2022-04-26T00:56:48.611641Z",
     "iopub.status.idle": "2022-04-26T00:56:48.683973Z",
     "shell.execute_reply": "2022-04-26T00:56:48.682129Z"
    },
    "papermill": {
     "duration": 0.096554,
     "end_time": "2022-04-26T00:56:48.686674",
     "exception": false,
     "start_time": "2022-04-26T00:56:48.590120",
     "status": "completed"
    },
    "tags": []
   },
   "outputs": [
    {
     "data": {
      "text/html": [
       "<table class=\"dataframe\">\n",
       "<caption>A data.frame: 6 × 8</caption>\n",
       "<thead>\n",
       "\t<tr><th></th><th scope=col>Survived</th><th scope=col>Pclass</th><th scope=col>Sex</th><th scope=col>Age</th><th scope=col>SibSp</th><th scope=col>Parch</th><th scope=col>Fare</th><th scope=col>Embarked</th></tr>\n",
       "\t<tr><th></th><th scope=col>&lt;fct&gt;</th><th scope=col>&lt;fct&gt;</th><th scope=col>&lt;fct&gt;</th><th scope=col>&lt;dbl&gt;</th><th scope=col>&lt;int&gt;</th><th scope=col>&lt;int&gt;</th><th scope=col>&lt;dbl&gt;</th><th scope=col>&lt;fct&gt;</th></tr>\n",
       "</thead>\n",
       "<tbody>\n",
       "\t<tr><th scope=row>1</th><td>0</td><td>3</td><td>male  </td><td>22</td><td>1</td><td>0</td><td> 7.2500</td><td>S</td></tr>\n",
       "\t<tr><th scope=row>2</th><td>1</td><td>1</td><td>female</td><td>38</td><td>1</td><td>0</td><td>71.2833</td><td>C</td></tr>\n",
       "\t<tr><th scope=row>3</th><td>1</td><td>3</td><td>female</td><td>26</td><td>0</td><td>0</td><td> 7.9250</td><td>S</td></tr>\n",
       "\t<tr><th scope=row>4</th><td>1</td><td>1</td><td>female</td><td>35</td><td>1</td><td>0</td><td>53.1000</td><td>S</td></tr>\n",
       "\t<tr><th scope=row>5</th><td>0</td><td>3</td><td>male  </td><td>35</td><td>0</td><td>0</td><td> 8.0500</td><td>S</td></tr>\n",
       "\t<tr><th scope=row>6</th><td>0</td><td>3</td><td>male  </td><td>NA</td><td>0</td><td>0</td><td> 8.4583</td><td>Q</td></tr>\n",
       "</tbody>\n",
       "</table>\n"
      ],
      "text/latex": [
       "A data.frame: 6 × 8\n",
       "\\begin{tabular}{r|llllllll}\n",
       "  & Survived & Pclass & Sex & Age & SibSp & Parch & Fare & Embarked\\\\\n",
       "  & <fct> & <fct> & <fct> & <dbl> & <int> & <int> & <dbl> & <fct>\\\\\n",
       "\\hline\n",
       "\t1 & 0 & 3 & male   & 22 & 1 & 0 &  7.2500 & S\\\\\n",
       "\t2 & 1 & 1 & female & 38 & 1 & 0 & 71.2833 & C\\\\\n",
       "\t3 & 1 & 3 & female & 26 & 0 & 0 &  7.9250 & S\\\\\n",
       "\t4 & 1 & 1 & female & 35 & 1 & 0 & 53.1000 & S\\\\\n",
       "\t5 & 0 & 3 & male   & 35 & 0 & 0 &  8.0500 & S\\\\\n",
       "\t6 & 0 & 3 & male   & NA & 0 & 0 &  8.4583 & Q\\\\\n",
       "\\end{tabular}\n"
      ],
      "text/markdown": [
       "\n",
       "A data.frame: 6 × 8\n",
       "\n",
       "| <!--/--> | Survived &lt;fct&gt; | Pclass &lt;fct&gt; | Sex &lt;fct&gt; | Age &lt;dbl&gt; | SibSp &lt;int&gt; | Parch &lt;int&gt; | Fare &lt;dbl&gt; | Embarked &lt;fct&gt; |\n",
       "|---|---|---|---|---|---|---|---|---|\n",
       "| 1 | 0 | 3 | male   | 22 | 1 | 0 |  7.2500 | S |\n",
       "| 2 | 1 | 1 | female | 38 | 1 | 0 | 71.2833 | C |\n",
       "| 3 | 1 | 3 | female | 26 | 0 | 0 |  7.9250 | S |\n",
       "| 4 | 1 | 1 | female | 35 | 1 | 0 | 53.1000 | S |\n",
       "| 5 | 0 | 3 | male   | 35 | 0 | 0 |  8.0500 | S |\n",
       "| 6 | 0 | 3 | male   | NA | 0 | 0 |  8.4583 | Q |\n",
       "\n"
      ],
      "text/plain": [
       "  Survived Pclass Sex    Age SibSp Parch Fare    Embarked\n",
       "1 0        3      male   22  1     0      7.2500 S       \n",
       "2 1        1      female 38  1     0     71.2833 C       \n",
       "3 1        3      female 26  0     0      7.9250 S       \n",
       "4 1        1      female 35  1     0     53.1000 S       \n",
       "5 0        3      male   35  0     0      8.0500 S       \n",
       "6 0        3      male   NA  0     0      8.4583 Q       "
      ]
     },
     "metadata": {},
     "output_type": "display_data"
    }
   ],
   "source": [
    "train_new <- train %>% select(Survived, Pclass, Sex, Age, \n",
    "                              SibSp, Parch, Fare, Embarked)\n",
    "head(train_new)"
   ]
  },
  {
   "cell_type": "code",
   "execution_count": 8,
   "id": "b466edb8",
   "metadata": {
    "execution": {
     "iopub.execute_input": "2022-04-26T00:56:48.730263Z",
     "iopub.status.busy": "2022-04-26T00:56:48.728651Z",
     "iopub.status.idle": "2022-04-26T00:56:50.896512Z",
     "shell.execute_reply": "2022-04-26T00:56:50.894207Z"
    },
    "papermill": {
     "duration": 2.19315,
     "end_time": "2022-04-26T00:56:50.899797",
     "exception": false,
     "start_time": "2022-04-26T00:56:48.706647",
     "status": "completed"
    },
    "tags": []
   },
   "outputs": [
    {
     "name": "stdout",
     "output_type": "stream",
     "text": [
      "\n",
      " iter imp variable\n",
      "  1   1  Age  Embarked\n",
      "  1   2  Age  Embarked\n",
      "  1   3  Age  Embarked\n",
      "  1   4  Age  Embarked\n",
      "  1   5  Age  Embarked\n",
      "  2   1  Age  Embarked\n",
      "  2   2  Age  Embarked\n",
      "  2   3  Age  Embarked\n",
      "  2   4  Age  Embarked\n",
      "  2   5  Age  Embarked\n",
      "  3   1  Age  Embarked\n",
      "  3   2  Age  Embarked\n",
      "  3   3  Age  Embarked\n",
      "  3   4  Age  Embarked\n",
      "  3   5  Age  Embarked\n",
      "  4   1  Age  Embarked\n",
      "  4   2  Age  Embarked\n",
      "  4   3  Age  Embarked\n",
      "  4   4  Age  Embarked\n",
      "  4   5  Age  Embarked\n",
      "  5   1  Age  Embarked\n",
      "  5   2  Age  Embarked\n",
      "  5   3  Age  Embarked\n",
      "  5   4  Age  Embarked\n",
      "  5   5  Age  Embarked\n",
      "Class: mids\n",
      "Number of multiple imputations:  5 \n",
      "Imputation methods:\n",
      "Survived   Pclass      Sex      Age    SibSp    Parch     Fare Embarked \n",
      "      \"\"       \"\"       \"\"     \"rf\"       \"\"       \"\"       \"\"     \"rf\" \n",
      "PredictorMatrix:\n",
      "         Survived Pclass Sex Age SibSp Parch Fare Embarked\n",
      "Survived        0      1   1   1     1     1    1        1\n",
      "Pclass          1      0   1   1     1     1    1        1\n",
      "Sex             1      1   0   1     1     1    1        1\n",
      "Age             1      1   1   0     1     1    1        1\n",
      "SibSp           1      1   1   1     0     1    1        1\n",
      "Parch           1      1   1   1     1     0    1        1\n"
     ]
    }
   ],
   "source": [
    "# Age 칼럼에서 결측치가 아닌 값들을 'rf (랜덤 포레스트)' 방식으로 선정해 결측치를 대체\n",
    "train_imputed <- mice(train_new, method='rf', seed=1234)\n",
    "summary(train_imputed)"
   ]
  },
  {
   "cell_type": "code",
   "execution_count": 9,
   "id": "4d73efea",
   "metadata": {
    "execution": {
     "iopub.execute_input": "2022-04-26T00:56:50.946626Z",
     "iopub.status.busy": "2022-04-26T00:56:50.944908Z",
     "iopub.status.idle": "2022-04-26T00:56:50.977421Z",
     "shell.execute_reply": "2022-04-26T00:56:50.975193Z"
    },
    "papermill": {
     "duration": 0.05947,
     "end_time": "2022-04-26T00:56:50.980424",
     "exception": false,
     "start_time": "2022-04-26T00:56:50.920954",
     "status": "completed"
    },
    "tags": []
   },
   "outputs": [
    {
     "data": {
      "text/html": [
       "<table class=\"dataframe\">\n",
       "<caption>A data.frame: 6 × 8</caption>\n",
       "<thead>\n",
       "\t<tr><th></th><th scope=col>Survived</th><th scope=col>Pclass</th><th scope=col>Sex</th><th scope=col>Age</th><th scope=col>SibSp</th><th scope=col>Parch</th><th scope=col>Fare</th><th scope=col>Embarked</th></tr>\n",
       "\t<tr><th></th><th scope=col>&lt;fct&gt;</th><th scope=col>&lt;fct&gt;</th><th scope=col>&lt;fct&gt;</th><th scope=col>&lt;dbl&gt;</th><th scope=col>&lt;int&gt;</th><th scope=col>&lt;int&gt;</th><th scope=col>&lt;dbl&gt;</th><th scope=col>&lt;fct&gt;</th></tr>\n",
       "</thead>\n",
       "<tbody>\n",
       "\t<tr><th scope=row>1</th><td>0</td><td>3</td><td>male  </td><td>22</td><td>1</td><td>0</td><td> 7.2500</td><td>S</td></tr>\n",
       "\t<tr><th scope=row>2</th><td>1</td><td>1</td><td>female</td><td>38</td><td>1</td><td>0</td><td>71.2833</td><td>C</td></tr>\n",
       "\t<tr><th scope=row>3</th><td>1</td><td>3</td><td>female</td><td>26</td><td>0</td><td>0</td><td> 7.9250</td><td>S</td></tr>\n",
       "\t<tr><th scope=row>4</th><td>1</td><td>1</td><td>female</td><td>35</td><td>1</td><td>0</td><td>53.1000</td><td>S</td></tr>\n",
       "\t<tr><th scope=row>5</th><td>0</td><td>3</td><td>male  </td><td>35</td><td>0</td><td>0</td><td> 8.0500</td><td>S</td></tr>\n",
       "\t<tr><th scope=row>6</th><td>0</td><td>3</td><td>male  </td><td>31</td><td>0</td><td>0</td><td> 8.4583</td><td>Q</td></tr>\n",
       "</tbody>\n",
       "</table>\n"
      ],
      "text/latex": [
       "A data.frame: 6 × 8\n",
       "\\begin{tabular}{r|llllllll}\n",
       "  & Survived & Pclass & Sex & Age & SibSp & Parch & Fare & Embarked\\\\\n",
       "  & <fct> & <fct> & <fct> & <dbl> & <int> & <int> & <dbl> & <fct>\\\\\n",
       "\\hline\n",
       "\t1 & 0 & 3 & male   & 22 & 1 & 0 &  7.2500 & S\\\\\n",
       "\t2 & 1 & 1 & female & 38 & 1 & 0 & 71.2833 & C\\\\\n",
       "\t3 & 1 & 3 & female & 26 & 0 & 0 &  7.9250 & S\\\\\n",
       "\t4 & 1 & 1 & female & 35 & 1 & 0 & 53.1000 & S\\\\\n",
       "\t5 & 0 & 3 & male   & 35 & 0 & 0 &  8.0500 & S\\\\\n",
       "\t6 & 0 & 3 & male   & 31 & 0 & 0 &  8.4583 & Q\\\\\n",
       "\\end{tabular}\n"
      ],
      "text/markdown": [
       "\n",
       "A data.frame: 6 × 8\n",
       "\n",
       "| <!--/--> | Survived &lt;fct&gt; | Pclass &lt;fct&gt; | Sex &lt;fct&gt; | Age &lt;dbl&gt; | SibSp &lt;int&gt; | Parch &lt;int&gt; | Fare &lt;dbl&gt; | Embarked &lt;fct&gt; |\n",
       "|---|---|---|---|---|---|---|---|---|\n",
       "| 1 | 0 | 3 | male   | 22 | 1 | 0 |  7.2500 | S |\n",
       "| 2 | 1 | 1 | female | 38 | 1 | 0 | 71.2833 | C |\n",
       "| 3 | 1 | 3 | female | 26 | 0 | 0 |  7.9250 | S |\n",
       "| 4 | 1 | 1 | female | 35 | 1 | 0 | 53.1000 | S |\n",
       "| 5 | 0 | 3 | male   | 35 | 0 | 0 |  8.0500 | S |\n",
       "| 6 | 0 | 3 | male   | 31 | 0 | 0 |  8.4583 | Q |\n",
       "\n"
      ],
      "text/plain": [
       "  Survived Pclass Sex    Age SibSp Parch Fare    Embarked\n",
       "1 0        3      male   22  1     0      7.2500 S       \n",
       "2 1        1      female 38  1     0     71.2833 C       \n",
       "3 1        3      female 26  0     0      7.9250 S       \n",
       "4 1        1      female 35  1     0     53.1000 S       \n",
       "5 0        3      male   35  0     0      8.0500 S       \n",
       "6 0        3      male   31  0     0      8.4583 Q       "
      ]
     },
     "metadata": {},
     "output_type": "display_data"
    }
   ],
   "source": [
    "# complete()를 활용해 train 데이터 imputation\n",
    "train_final <- complete(train_imputed, 1)\n",
    "head(train_final)"
   ]
  },
  {
   "cell_type": "code",
   "execution_count": 10,
   "id": "e0e650bf",
   "metadata": {
    "execution": {
     "iopub.execute_input": "2022-04-26T00:56:51.026229Z",
     "iopub.status.busy": "2022-04-26T00:56:51.024561Z",
     "iopub.status.idle": "2022-04-26T00:56:51.149049Z",
     "shell.execute_reply": "2022-04-26T00:56:51.145965Z"
    },
    "papermill": {
     "duration": 0.151184,
     "end_time": "2022-04-26T00:56:51.152250",
     "exception": false,
     "start_time": "2022-04-26T00:56:51.001066",
     "status": "completed"
    },
    "tags": []
   },
   "outputs": [
    {
     "data": {
      "image/png": "[encoded data removed]"
     },
     "metadata": {
      "image/png": {
       "height": 420,
       "width": 420
      }
     },
     "output_type": "display_data"
    }
   ],
   "source": [
    "aggr(train_final)\n",
    "# 결측치 처리 완료"
   ]
  },
  {
   "cell_type": "code",
   "execution_count": 11,
   "id": "b795f4b8",
   "metadata": {
    "execution": {
     "iopub.execute_input": "2022-04-26T00:56:51.199086Z",
     "iopub.status.busy": "2022-04-26T00:56:51.197405Z",
     "iopub.status.idle": "2022-04-26T00:56:51.228374Z",
     "shell.execute_reply": "2022-04-26T00:56:51.226159Z"
    },
    "papermill": {
     "duration": 0.057884,
     "end_time": "2022-04-26T00:56:51.231617",
     "exception": false,
     "start_time": "2022-04-26T00:56:51.173733",
     "status": "completed"
    },
    "tags": []
   },
   "outputs": [
    {
     "name": "stdout",
     "output_type": "stream",
     "text": [
      "Rows: 891\n",
      "Columns: 8\n",
      "$ Survived \u001b[3m\u001b[90m<fct>\u001b[39m\u001b[23m 0, 1, 1, 1, 0, 0, 0, 0, 1, 1, 1, 1, 0, 0, 0, 1, 0, 1, 0, 1, 0…\n",
      "$ Pclass   \u001b[3m\u001b[90m<fct>\u001b[39m\u001b[23m 3, 1, 3, 1, 3, 3, 1, 3, 3, 2, 3, 1, 3, 3, 3, 2, 3, 2, 3, 3, 2…\n",
      "$ Sex      \u001b[3m\u001b[90m<fct>\u001b[39m\u001b[23m male, female, female, female, male, male, male, male, female,…\n",
      "$ Age      \u001b[3m\u001b[90m<dbl>\u001b[39m\u001b[23m 22, 38, 26, 35, 35, 31, 54, 2, 27, 14, 4, 58, 20, 39, 14, 55,…\n",
      "$ SibSp    \u001b[3m\u001b[90m<int>\u001b[39m\u001b[23m 1, 1, 0, 1, 0, 0, 0, 3, 0, 1, 1, 0, 0, 1, 0, 0, 4, 0, 1, 0, 0…\n",
      "$ Parch    \u001b[3m\u001b[90m<int>\u001b[39m\u001b[23m 0, 0, 0, 0, 0, 0, 0, 1, 2, 0, 1, 0, 0, 5, 0, 0, 1, 0, 0, 0, 0…\n",
      "$ Fare     \u001b[3m\u001b[90m<dbl>\u001b[39m\u001b[23m 7.2500, 71.2833, 7.9250, 53.1000, 8.0500, 8.4583, 51.8625, 21…\n",
      "$ Embarked \u001b[3m\u001b[90m<fct>\u001b[39m\u001b[23m S, C, S, S, S, Q, S, S, S, C, S, S, S, S, S, S, Q, S, S, C, S…\n"
     ]
    }
   ],
   "source": [
    "glimpse(train_final)"
   ]
  },
  {
   "cell_type": "markdown",
   "id": "0e7085b5",
   "metadata": {
    "papermill": {
     "duration": 0.022453,
     "end_time": "2022-04-26T00:56:51.276837",
     "exception": false,
     "start_time": "2022-04-26T00:56:51.254384",
     "status": "completed"
    },
    "tags": []
   },
   "source": [
    "# 1) Decision Tree\n",
    "## **타이타닉 데이터로 보는 의사결정나무 모델**\n",
    "* **rpart** Library 사용"
   ]
  },
  {
   "cell_type": "code",
   "execution_count": 12,
   "id": "2a31e30e",
   "metadata": {
    "execution": {
     "iopub.execute_input": "2022-04-26T00:56:51.325802Z",
     "iopub.status.busy": "2022-04-26T00:56:51.324094Z",
     "iopub.status.idle": "2022-04-26T00:56:51.393740Z",
     "shell.execute_reply": "2022-04-26T00:56:51.391812Z"
    },
    "papermill": {
     "duration": 0.096971,
     "end_time": "2022-04-26T00:56:51.396399",
     "exception": false,
     "start_time": "2022-04-26T00:56:51.299428",
     "status": "completed"
    },
    "tags": []
   },
   "outputs": [],
   "source": [
    "library(rpart)\n",
    "library(rpart.plot)"
   ]
  },
  {
   "cell_type": "markdown",
   "id": "4d823feb",
   "metadata": {
    "papermill": {
     "duration": 0.022157,
     "end_time": "2022-04-26T00:56:51.440780",
     "exception": false,
     "start_time": "2022-04-26T00:56:51.418623",
     "status": "completed"
    },
    "tags": []
   },
   "source": [
    "## **Training** with Decision Tree\n",
    "* Decision Tree 모델 학습"
   ]
  },
  {
   "cell_type": "code",
   "execution_count": 13,
   "id": "76a98a41",
   "metadata": {
    "execution": {
     "iopub.execute_input": "2022-04-26T00:56:51.487563Z",
     "iopub.status.busy": "2022-04-26T00:56:51.485902Z",
     "iopub.status.idle": "2022-04-26T00:56:51.523150Z",
     "shell.execute_reply": "2022-04-26T00:56:51.521346Z"
    },
    "papermill": {
     "duration": 0.063313,
     "end_time": "2022-04-26T00:56:51.525667",
     "exception": false,
     "start_time": "2022-04-26T00:56:51.462354",
     "status": "completed"
    },
    "tags": []
   },
   "outputs": [],
   "source": [
    "# 종속변수: Survived\n",
    "# 독립변수: Survived를 제외한 나머지\n",
    "model_tree <- rpart(Survived ~ .,\n",
    "                   data = train_final, method='class')"
   ]
  },
  {
   "cell_type": "code",
   "execution_count": 14,
   "id": "45fb71d7",
   "metadata": {
    "execution": {
     "iopub.execute_input": "2022-04-26T00:56:51.573141Z",
     "iopub.status.busy": "2022-04-26T00:56:51.571599Z",
     "iopub.status.idle": "2022-04-26T00:56:51.596783Z",
     "shell.execute_reply": "2022-04-26T00:56:51.594391Z"
    },
    "papermill": {
     "duration": 0.052924,
     "end_time": "2022-04-26T00:56:51.600635",
     "exception": false,
     "start_time": "2022-04-26T00:56:51.547711",
     "status": "completed"
    },
    "tags": []
   },
   "outputs": [
    {
     "name": "stdout",
     "output_type": "stream",
     "text": [
      "Call:\n",
      "rpart(formula = Survived ~ ., data = train_final, method = \"class\")\n",
      "  n= 891 \n",
      "\n",
      "          CP nsplit rel error    xerror       xstd\n",
      "1 0.44444444      0 1.0000000 1.0000000 0.04244576\n",
      "2 0.03070175      1 0.5555556 0.5555556 0.03574957\n",
      "3 0.02631579      3 0.4941520 0.5350877 0.03525959\n",
      "4 0.02046784      4 0.4678363 0.5292398 0.03511588\n",
      "5 0.01461988      5 0.4473684 0.5087719 0.03459945\n",
      "6 0.01000000      6 0.4327485 0.4941520 0.03421740\n",
      "\n",
      "Variable importance\n",
      "     Sex     Fare   Pclass      Age    SibSp    Parch Embarked \n",
      "      46       15       13       11        6        6        3 \n",
      "\n",
      "Node number 1: 891 observations,    complexity param=0.4444444\n",
      "  predicted class=0  expected loss=0.3838384  P(node) =1\n",
      "    class counts:   549   342\n",
      "   probabilities: 0.616 0.384 \n",
      "  left son=2 (577 obs) right son=3 (314 obs)\n",
      "  Primary splits:\n",
      "      Sex      splits as  RL,           improve=124.42630, (0 missing)\n",
      "      Pclass   splits as  RRL,          improve= 43.78183, (0 missing)\n",
      "      Fare     < 10.48125 to the left,  improve= 37.94194, (0 missing)\n",
      "      Embarked splits as  RLL,          improve= 12.39378, (0 missing)\n",
      "      Age      < 5.5      to the right, improve= 11.44224, (0 missing)\n",
      "  Surrogate splits:\n",
      "      Fare  < 77.6229  to the left,  agree=0.679, adj=0.089, (0 split)\n",
      "      Parch < 0.5      to the left,  agree=0.678, adj=0.086, (0 split)\n",
      "      Age   < 15.5     to the right, agree=0.661, adj=0.038, (0 split)\n",
      "\n",
      "Node number 2: 577 observations,    complexity param=0.02631579\n",
      "  predicted class=0  expected loss=0.1889081  P(node) =0.647587\n",
      "    class counts:   468   109\n",
      "   probabilities: 0.811 0.189 \n",
      "  left son=4 (552 obs) right son=5 (25 obs)\n",
      "  Primary splits:\n",
      "      Age      < 6.5      to the right, improve=12.604690, (0 missing)\n",
      "      Fare     < 26.26875 to the left,  improve=10.216720, (0 missing)\n",
      "      Pclass   splits as  RLL,          improve=10.019140, (0 missing)\n",
      "      Parch    < 0.5      to the left,  improve= 3.350327, (0 missing)\n",
      "      Embarked splits as  RLL,          improve= 3.079304, (0 missing)\n",
      "\n",
      "Node number 3: 314 observations,    complexity param=0.03070175\n",
      "  predicted class=1  expected loss=0.2579618  P(node) =0.352413\n",
      "    class counts:    81   233\n",
      "   probabilities: 0.258 0.742 \n",
      "  left son=6 (144 obs) right son=7 (170 obs)\n",
      "  Primary splits:\n",
      "      Pclass   splits as  RRL,          improve=31.163130, (0 missing)\n",
      "      Fare     < 48.2     to the left,  improve=10.114210, (0 missing)\n",
      "      SibSp    < 2.5      to the right, improve= 9.372551, (0 missing)\n",
      "      Parch    < 3.5      to the right, improve= 5.140857, (0 missing)\n",
      "      Embarked splits as  RLL,          improve= 3.599380, (0 missing)\n",
      "  Surrogate splits:\n",
      "      Fare     < 25.69795 to the left,  agree=0.799, adj=0.563, (0 split)\n",
      "      Age      < 22.5     to the left,  agree=0.666, adj=0.271, (0 split)\n",
      "      Embarked splits as  RLR,          agree=0.637, adj=0.208, (0 split)\n",
      "      SibSp    < 1.5      to the right, agree=0.592, adj=0.111, (0 split)\n",
      "      Parch    < 1.5      to the right, agree=0.567, adj=0.056, (0 split)\n",
      "\n",
      "Node number 4: 552 observations\n",
      "  predicted class=0  expected loss=0.1666667  P(node) =0.6195286\n",
      "    class counts:   460    92\n",
      "   probabilities: 0.833 0.167 \n",
      "\n",
      "Node number 5: 25 observations,    complexity param=0.02046784\n",
      "  predicted class=1  expected loss=0.32  P(node) =0.02805836\n",
      "    class counts:     8    17\n",
      "   probabilities: 0.320 0.680 \n",
      "  left son=10 (9 obs) right son=11 (16 obs)\n",
      "  Primary splits:\n",
      "      SibSp  < 2.5      to the right, improve=9.102222, (0 missing)\n",
      "      Pclass splits as  RRL,          improve=3.413333, (0 missing)\n",
      "      Fare   < 20.825   to the right, improve=2.880000, (0 missing)\n",
      "      Age    < 1.5      to the right, improve=0.480000, (0 missing)\n",
      "      Parch  < 1.5      to the right, improve=0.005000, (0 missing)\n",
      "  Surrogate splits:\n",
      "      Pclass   splits as  RRL,          agree=0.76, adj=0.333, (0 split)\n",
      "      Fare     < 26.95    to the right, agree=0.76, adj=0.333, (0 split)\n",
      "      Embarked splits as  RLR,          agree=0.72, adj=0.222, (0 split)\n",
      "\n",
      "Node number 6: 144 observations,    complexity param=0.03070175\n",
      "  predicted class=0  expected loss=0.5  P(node) =0.1616162\n",
      "    class counts:    72    72\n",
      "   probabilities: 0.500 0.500 \n",
      "  left son=12 (27 obs) right son=13 (117 obs)\n",
      "  Primary splits:\n",
      "      Fare     < 23.35    to the right, improve=10.051280, (0 missing)\n",
      "      Embarked splits as  RRL,          improve= 7.071429, (0 missing)\n",
      "      SibSp    < 2.5      to the right, improve= 4.571429, (0 missing)\n",
      "      Age      < 38.5     to the right, improve= 4.545455, (0 missing)\n",
      "      Parch    < 1.5      to the right, improve= 3.773262, (0 missing)\n",
      "  Surrogate splits:\n",
      "      SibSp < 2.5      to the right, agree=0.882, adj=0.370, (0 split)\n",
      "      Parch < 1.5      to the right, agree=0.882, adj=0.370, (0 split)\n",
      "      Age   < 37.5     to the right, agree=0.819, adj=0.037, (0 split)\n",
      "\n",
      "Node number 7: 170 observations\n",
      "  predicted class=1  expected loss=0.05294118  P(node) =0.1907969\n",
      "    class counts:     9   161\n",
      "   probabilities: 0.053 0.947 \n",
      "\n",
      "Node number 10: 9 observations\n",
      "  predicted class=0  expected loss=0.1111111  P(node) =0.01010101\n",
      "    class counts:     8     1\n",
      "   probabilities: 0.889 0.111 \n",
      "\n",
      "Node number 11: 16 observations\n",
      "  predicted class=1  expected loss=0  P(node) =0.01795735\n",
      "    class counts:     0    16\n",
      "   probabilities: 0.000 1.000 \n",
      "\n",
      "Node number 12: 27 observations\n",
      "  predicted class=0  expected loss=0.1111111  P(node) =0.03030303\n",
      "    class counts:    24     3\n",
      "   probabilities: 0.889 0.111 \n",
      "\n",
      "Node number 13: 117 observations,    complexity param=0.01461988\n",
      "  predicted class=1  expected loss=0.4102564  P(node) =0.1313131\n",
      "    class counts:    48    69\n",
      "   probabilities: 0.410 0.590 \n",
      "  left son=26 (7 obs) right son=27 (110 obs)\n",
      "  Primary splits:\n",
      "      Age      < 36.5     to the right, improve=2.9738260, (0 missing)\n",
      "      Embarked splits as  RRL,          improve=2.6048030, (0 missing)\n",
      "      Fare     < 7.8875   to the right, improve=2.0325270, (0 missing)\n",
      "      SibSp    < 0.5      to the right, improve=0.3076923, (0 missing)\n",
      "      Parch    < 1.5      to the left,  improve=0.1582418, (0 missing)\n",
      "\n",
      "Node number 26: 7 observations\n",
      "  predicted class=0  expected loss=0.1428571  P(node) =0.007856341\n",
      "    class counts:     6     1\n",
      "   probabilities: 0.857 0.143 \n",
      "\n",
      "Node number 27: 110 observations\n",
      "  predicted class=1  expected loss=0.3818182  P(node) =0.1234568\n",
      "    class counts:    42    68\n",
      "   probabilities: 0.382 0.618 \n",
      "\n"
     ]
    }
   ],
   "source": [
    "summary(model_tree)"
   ]
  },
  {
   "cell_type": "code",
   "execution_count": 15,
   "id": "21175581",
   "metadata": {
    "execution": {
     "iopub.execute_input": "2022-04-26T00:56:51.649411Z",
     "iopub.status.busy": "2022-04-26T00:56:51.647783Z",
     "iopub.status.idle": "2022-04-26T00:56:51.964309Z",
     "shell.execute_reply": "2022-04-26T00:56:51.962520Z"
    },
    "papermill": {
     "duration": 0.343087,
     "end_time": "2022-04-26T00:56:51.966949",
     "exception": false,
     "start_time": "2022-04-26T00:56:51.623862",
     "status": "completed"
    },
    "tags": []
   },
   "outputs": [
    {
     "data": {
      "image/png": "[encoded data removed]"
     },
     "metadata": {
      "image/png": {
       "height": 420,
       "width": 420
      }
     },
     "output_type": "display_data"
    }
   ],
   "source": [
    "# 의사결정나무 시각화\n",
    "rpart.plot(model_tree, type=4, branch.lty=3, extra=100, box.palette =\"RdPu\")"
   ]
  },
  {
   "cell_type": "markdown",
   "id": "c144055a",
   "metadata": {
    "papermill": {
     "duration": 0.023201,
     "end_time": "2022-04-26T00:56:52.013448",
     "exception": false,
     "start_time": "2022-04-26T00:56:51.990247",
     "status": "completed"
    },
    "tags": []
   },
   "source": [
    "## **Prediction** with Decision Tree\n",
    "* 학습시킨 Decision Tree 모델로 Survived(생존여부) 예측"
   ]
  },
  {
   "cell_type": "code",
   "execution_count": 16,
   "id": "da176501",
   "metadata": {
    "execution": {
     "iopub.execute_input": "2022-04-26T00:56:52.063409Z",
     "iopub.status.busy": "2022-04-26T00:56:52.061853Z",
     "iopub.status.idle": "2022-04-26T00:56:52.102843Z",
     "shell.execute_reply": "2022-04-26T00:56:52.101044Z"
    },
    "papermill": {
     "duration": 0.067876,
     "end_time": "2022-04-26T00:56:52.105036",
     "exception": false,
     "start_time": "2022-04-26T00:56:52.037160",
     "status": "completed"
    },
    "tags": []
   },
   "outputs": [
    {
     "data": {
      "text/html": [
       "<table class=\"dataframe\">\n",
       "<caption>A data.frame: 10 × 8</caption>\n",
       "<thead>\n",
       "\t<tr><th scope=col>Survived</th><th scope=col>Pclass</th><th scope=col>Sex</th><th scope=col>Age</th><th scope=col>SibSp</th><th scope=col>Parch</th><th scope=col>Fare</th><th scope=col>Embarked</th></tr>\n",
       "\t<tr><th scope=col>&lt;fct&gt;</th><th scope=col>&lt;fct&gt;</th><th scope=col>&lt;fct&gt;</th><th scope=col>&lt;dbl&gt;</th><th scope=col>&lt;int&gt;</th><th scope=col>&lt;int&gt;</th><th scope=col>&lt;dbl&gt;</th><th scope=col>&lt;fct&gt;</th></tr>\n",
       "</thead>\n",
       "<tbody>\n",
       "\t<tr><td>1</td><td>3</td><td>male  </td><td>19.00</td><td>0</td><td>0</td><td> 8.0500</td><td>S</td></tr>\n",
       "\t<tr><td>0</td><td>3</td><td>male  </td><td>35.00</td><td>0</td><td>0</td><td> 7.8958</td><td>C</td></tr>\n",
       "\t<tr><td>0</td><td>3</td><td>female</td><td>28.00</td><td>0</td><td>0</td><td> 7.8958</td><td>S</td></tr>\n",
       "\t<tr><td>1</td><td>3</td><td>male  </td><td>20.00</td><td>1</td><td>1</td><td>15.7417</td><td>C</td></tr>\n",
       "\t<tr><td>1</td><td>3</td><td>female</td><td> 0.75</td><td>2</td><td>1</td><td>19.2583</td><td>C</td></tr>\n",
       "\t<tr><td>1</td><td>2</td><td>female</td><td>28.00</td><td>0</td><td>0</td><td>12.6500</td><td>S</td></tr>\n",
       "\t<tr><td>1</td><td>1</td><td>male  </td><td>23.00</td><td>0</td><td>1</td><td>63.3583</td><td>C</td></tr>\n",
       "\t<tr><td>0</td><td>1</td><td>male  </td><td>21.00</td><td>0</td><td>1</td><td>77.2875</td><td>S</td></tr>\n",
       "\t<tr><td>0</td><td>3</td><td>male  </td><td>20.00</td><td>0</td><td>0</td><td> 8.6625</td><td>S</td></tr>\n",
       "\t<tr><td>0</td><td>3</td><td>male  </td><td>38.00</td><td>0</td><td>0</td><td> 7.8958</td><td>S</td></tr>\n",
       "</tbody>\n",
       "</table>\n"
      ],
      "text/latex": [
       "A data.frame: 10 × 8\n",
       "\\begin{tabular}{llllllll}\n",
       " Survived & Pclass & Sex & Age & SibSp & Parch & Fare & Embarked\\\\\n",
       " <fct> & <fct> & <fct> & <dbl> & <int> & <int> & <dbl> & <fct>\\\\\n",
       "\\hline\n",
       "\t 1 & 3 & male   & 19.00 & 0 & 0 &  8.0500 & S\\\\\n",
       "\t 0 & 3 & male   & 35.00 & 0 & 0 &  7.8958 & C\\\\\n",
       "\t 0 & 3 & female & 28.00 & 0 & 0 &  7.8958 & S\\\\\n",
       "\t 1 & 3 & male   & 20.00 & 1 & 1 & 15.7417 & C\\\\\n",
       "\t 1 & 3 & female &  0.75 & 2 & 1 & 19.2583 & C\\\\\n",
       "\t 1 & 2 & female & 28.00 & 0 & 0 & 12.6500 & S\\\\\n",
       "\t 1 & 1 & male   & 23.00 & 0 & 1 & 63.3583 & C\\\\\n",
       "\t 0 & 1 & male   & 21.00 & 0 & 1 & 77.2875 & S\\\\\n",
       "\t 0 & 3 & male   & 20.00 & 0 & 0 &  8.6625 & S\\\\\n",
       "\t 0 & 3 & male   & 38.00 & 0 & 0 &  7.8958 & S\\\\\n",
       "\\end{tabular}\n"
      ],
      "text/markdown": [
       "\n",
       "A data.frame: 10 × 8\n",
       "\n",
       "| Survived &lt;fct&gt; | Pclass &lt;fct&gt; | Sex &lt;fct&gt; | Age &lt;dbl&gt; | SibSp &lt;int&gt; | Parch &lt;int&gt; | Fare &lt;dbl&gt; | Embarked &lt;fct&gt; |\n",
       "|---|---|---|---|---|---|---|---|\n",
       "| 1 | 3 | male   | 19.00 | 0 | 0 |  8.0500 | S |\n",
       "| 0 | 3 | male   | 35.00 | 0 | 0 |  7.8958 | C |\n",
       "| 0 | 3 | female | 28.00 | 0 | 0 |  7.8958 | S |\n",
       "| 1 | 3 | male   | 20.00 | 1 | 1 | 15.7417 | C |\n",
       "| 1 | 3 | female |  0.75 | 2 | 1 | 19.2583 | C |\n",
       "| 1 | 2 | female | 28.00 | 0 | 0 | 12.6500 | S |\n",
       "| 1 | 1 | male   | 23.00 | 0 | 1 | 63.3583 | C |\n",
       "| 0 | 1 | male   | 21.00 | 0 | 1 | 77.2875 | S |\n",
       "| 0 | 3 | male   | 20.00 | 0 | 0 |  8.6625 | S |\n",
       "| 0 | 3 | male   | 38.00 | 0 | 0 |  7.8958 | S |\n",
       "\n"
      ],
      "text/plain": [
       "   Survived Pclass Sex    Age   SibSp Parch Fare    Embarked\n",
       "1  1        3      male   19.00 0     0      8.0500 S       \n",
       "2  0        3      male   35.00 0     0      7.8958 C       \n",
       "3  0        3      female 28.00 0     0      7.8958 S       \n",
       "4  1        3      male   20.00 1     1     15.7417 C       \n",
       "5  1        3      female  0.75 2     1     19.2583 C       \n",
       "6  1        2      female 28.00 0     0     12.6500 S       \n",
       "7  1        1      male   23.00 0     1     63.3583 C       \n",
       "8  0        1      male   21.00 0     1     77.2875 S       \n",
       "9  0        3      male   20.00 0     0      8.6625 S       \n",
       "10 0        3      male   38.00 0     0      7.8958 S       "
      ]
     },
     "metadata": {},
     "output_type": "display_data"
    }
   ],
   "source": [
    "# 랜덤으로 row 10개 선정 및 예측\n",
    "set.seed(1234)\n",
    "test_sample <- train_final %>% sample_n(10)\n",
    "test_sample"
   ]
  },
  {
   "cell_type": "code",
   "execution_count": 17,
   "id": "67492ffc",
   "metadata": {
    "execution": {
     "iopub.execute_input": "2022-04-26T00:56:52.154752Z",
     "iopub.status.busy": "2022-04-26T00:56:52.153252Z",
     "iopub.status.idle": "2022-04-26T00:56:52.198174Z",
     "shell.execute_reply": "2022-04-26T00:56:52.196489Z"
    },
    "papermill": {
     "duration": 0.072012,
     "end_time": "2022-04-26T00:56:52.200255",
     "exception": false,
     "start_time": "2022-04-26T00:56:52.128243",
     "status": "completed"
    },
    "tags": []
   },
   "outputs": [
    {
     "name": "stdout",
     "output_type": "stream",
     "text": [
      "[1] \"확률 기반 예측, 0 -> Pred 'Dead', 1 -> Pred 'Survived'\"\n"
     ]
    },
    {
     "data": {
      "text/html": [
       "<table class=\"dataframe\">\n",
       "<caption>A matrix: 10 × 2 of type dbl</caption>\n",
       "<thead>\n",
       "\t<tr><th></th><th scope=col>0</th><th scope=col>1</th></tr>\n",
       "</thead>\n",
       "<tbody>\n",
       "\t<tr><th scope=row>1</th><td>0.83333333</td><td>0.1666667</td></tr>\n",
       "\t<tr><th scope=row>2</th><td>0.83333333</td><td>0.1666667</td></tr>\n",
       "\t<tr><th scope=row>3</th><td>0.38181818</td><td>0.6181818</td></tr>\n",
       "\t<tr><th scope=row>4</th><td>0.83333333</td><td>0.1666667</td></tr>\n",
       "\t<tr><th scope=row>5</th><td>0.38181818</td><td>0.6181818</td></tr>\n",
       "\t<tr><th scope=row>6</th><td>0.05294118</td><td>0.9470588</td></tr>\n",
       "\t<tr><th scope=row>7</th><td>0.83333333</td><td>0.1666667</td></tr>\n",
       "\t<tr><th scope=row>8</th><td>0.83333333</td><td>0.1666667</td></tr>\n",
       "\t<tr><th scope=row>9</th><td>0.83333333</td><td>0.1666667</td></tr>\n",
       "\t<tr><th scope=row>10</th><td>0.83333333</td><td>0.1666667</td></tr>\n",
       "</tbody>\n",
       "</table>\n"
      ],
      "text/latex": [
       "A matrix: 10 × 2 of type dbl\n",
       "\\begin{tabular}{r|ll}\n",
       "  & 0 & 1\\\\\n",
       "\\hline\n",
       "\t1 & 0.83333333 & 0.1666667\\\\\n",
       "\t2 & 0.83333333 & 0.1666667\\\\\n",
       "\t3 & 0.38181818 & 0.6181818\\\\\n",
       "\t4 & 0.83333333 & 0.1666667\\\\\n",
       "\t5 & 0.38181818 & 0.6181818\\\\\n",
       "\t6 & 0.05294118 & 0.9470588\\\\\n",
       "\t7 & 0.83333333 & 0.1666667\\\\\n",
       "\t8 & 0.83333333 & 0.1666667\\\\\n",
       "\t9 & 0.83333333 & 0.1666667\\\\\n",
       "\t10 & 0.83333333 & 0.1666667\\\\\n",
       "\\end{tabular}\n"
      ],
      "text/markdown": [
       "\n",
       "A matrix: 10 × 2 of type dbl\n",
       "\n",
       "| <!--/--> | 0 | 1 |\n",
       "|---|---|---|\n",
       "| 1 | 0.83333333 | 0.1666667 |\n",
       "| 2 | 0.83333333 | 0.1666667 |\n",
       "| 3 | 0.38181818 | 0.6181818 |\n",
       "| 4 | 0.83333333 | 0.1666667 |\n",
       "| 5 | 0.38181818 | 0.6181818 |\n",
       "| 6 | 0.05294118 | 0.9470588 |\n",
       "| 7 | 0.83333333 | 0.1666667 |\n",
       "| 8 | 0.83333333 | 0.1666667 |\n",
       "| 9 | 0.83333333 | 0.1666667 |\n",
       "| 10 | 0.83333333 | 0.1666667 |\n",
       "\n"
      ],
      "text/plain": [
       "   0          1        \n",
       "1  0.83333333 0.1666667\n",
       "2  0.83333333 0.1666667\n",
       "3  0.38181818 0.6181818\n",
       "4  0.83333333 0.1666667\n",
       "5  0.38181818 0.6181818\n",
       "6  0.05294118 0.9470588\n",
       "7  0.83333333 0.1666667\n",
       "8  0.83333333 0.1666667\n",
       "9  0.83333333 0.1666667\n",
       "10 0.83333333 0.1666667"
      ]
     },
     "metadata": {},
     "output_type": "display_data"
    },
    {
     "name": "stdout",
     "output_type": "stream",
     "text": [
      "[1] \"확률에 따른 생존여부 분류\"\n"
     ]
    },
    {
     "data": {
      "text/html": [
       "<style>\n",
       ".dl-inline {width: auto; margin:0; padding: 0}\n",
       ".dl-inline>dt, .dl-inline>dd {float: none; width: auto; display: inline-block}\n",
       ".dl-inline>dt::after {content: \":\\0020\"; padding-right: .5ex}\n",
       ".dl-inline>dt:not(:first-of-type) {padding-left: .5ex}\n",
       "</style><dl class=dl-inline><dt>1</dt><dd>0</dd><dt>2</dt><dd>0</dd><dt>3</dt><dd>1</dd><dt>4</dt><dd>0</dd><dt>5</dt><dd>1</dd><dt>6</dt><dd>1</dd><dt>7</dt><dd>0</dd><dt>8</dt><dd>0</dd><dt>9</dt><dd>0</dd><dt>10</dt><dd>0</dd></dl>\n",
       "\n",
       "<details>\n",
       "\t<summary style=display:list-item;cursor:pointer>\n",
       "\t\t<strong>Levels</strong>:\n",
       "\t</summary>\n",
       "\t<style>\n",
       "\t.list-inline {list-style: none; margin:0; padding: 0}\n",
       "\t.list-inline>li {display: inline-block}\n",
       "\t.list-inline>li:not(:last-child)::after {content: \"\\00b7\"; padding: 0 .5ex}\n",
       "\t</style>\n",
       "\t<ol class=list-inline><li>'0'</li><li>'1'</li></ol>\n",
       "</details>"
      ],
      "text/latex": [
       "\\begin{description*}\n",
       "\\item[1] 0\n",
       "\\item[2] 0\n",
       "\\item[3] 1\n",
       "\\item[4] 0\n",
       "\\item[5] 1\n",
       "\\item[6] 1\n",
       "\\item[7] 0\n",
       "\\item[8] 0\n",
       "\\item[9] 0\n",
       "\\item[10] 0\n",
       "\\end{description*}\n",
       "\n",
       "\\emph{Levels}: \\begin{enumerate*}\n",
       "\\item '0'\n",
       "\\item '1'\n",
       "\\end{enumerate*}\n"
      ],
      "text/markdown": [
       "1\n",
       ":   02\n",
       ":   03\n",
       ":   14\n",
       ":   05\n",
       ":   16\n",
       ":   17\n",
       ":   08\n",
       ":   09\n",
       ":   010\n",
       ":   0\n",
       "\n",
       "\n",
       "**Levels**: 1. '0'\n",
       "2. '1'\n",
       "\n",
       "\n"
      ],
      "text/plain": [
       " 1  2  3  4  5  6  7  8  9 10 \n",
       " 0  0  1  0  1  1  0  0  0  0 \n",
       "Levels: 0 1"
      ]
     },
     "metadata": {},
     "output_type": "display_data"
    }
   ],
   "source": [
    "independent <- test_sample[c(-1)] # 종속변수 Survived 예측에 사용할 독립변수\n",
    "\n",
    "print(\"확률 기반 예측, 0 -> Pred 'Dead', 1 -> Pred 'Survived'\")\n",
    "predict(model_tree, newdata = independent)\n",
    "\n",
    "print(\"확률에 따른 생존여부 분류\")\n",
    "predict(model_tree, newdata = independent, type='class')"
   ]
  },
  {
   "cell_type": "code",
   "execution_count": 18,
   "id": "64800ccd",
   "metadata": {
    "execution": {
     "iopub.execute_input": "2022-04-26T00:56:52.251553Z",
     "iopub.status.busy": "2022-04-26T00:56:52.249861Z",
     "iopub.status.idle": "2022-04-26T00:56:52.291788Z",
     "shell.execute_reply": "2022-04-26T00:56:52.289992Z"
    },
    "papermill": {
     "duration": 0.069655,
     "end_time": "2022-04-26T00:56:52.294009",
     "exception": false,
     "start_time": "2022-04-26T00:56:52.224354",
     "status": "completed"
    },
    "tags": []
   },
   "outputs": [
    {
     "data": {
      "text/html": [
       "<table class=\"dataframe\">\n",
       "<caption>A data.frame: 10 × 2</caption>\n",
       "<thead>\n",
       "\t<tr><th></th><th scope=col>reference</th><th scope=col>predict</th></tr>\n",
       "\t<tr><th></th><th scope=col>&lt;fct&gt;</th><th scope=col>&lt;fct&gt;</th></tr>\n",
       "</thead>\n",
       "<tbody>\n",
       "\t<tr><th scope=row>1</th><td>1</td><td>0</td></tr>\n",
       "\t<tr><th scope=row>2</th><td>0</td><td>0</td></tr>\n",
       "\t<tr><th scope=row>3</th><td>0</td><td>1</td></tr>\n",
       "\t<tr><th scope=row>4</th><td>1</td><td>0</td></tr>\n",
       "\t<tr><th scope=row>5</th><td>1</td><td>1</td></tr>\n",
       "\t<tr><th scope=row>6</th><td>1</td><td>1</td></tr>\n",
       "\t<tr><th scope=row>7</th><td>1</td><td>0</td></tr>\n",
       "\t<tr><th scope=row>8</th><td>0</td><td>0</td></tr>\n",
       "\t<tr><th scope=row>9</th><td>0</td><td>0</td></tr>\n",
       "\t<tr><th scope=row>10</th><td>0</td><td>0</td></tr>\n",
       "</tbody>\n",
       "</table>\n"
      ],
      "text/latex": [
       "A data.frame: 10 × 2\n",
       "\\begin{tabular}{r|ll}\n",
       "  & reference & predict\\\\\n",
       "  & <fct> & <fct>\\\\\n",
       "\\hline\n",
       "\t1 & 1 & 0\\\\\n",
       "\t2 & 0 & 0\\\\\n",
       "\t3 & 0 & 1\\\\\n",
       "\t4 & 1 & 0\\\\\n",
       "\t5 & 1 & 1\\\\\n",
       "\t6 & 1 & 1\\\\\n",
       "\t7 & 1 & 0\\\\\n",
       "\t8 & 0 & 0\\\\\n",
       "\t9 & 0 & 0\\\\\n",
       "\t10 & 0 & 0\\\\\n",
       "\\end{tabular}\n"
      ],
      "text/markdown": [
       "\n",
       "A data.frame: 10 × 2\n",
       "\n",
       "| <!--/--> | reference &lt;fct&gt; | predict &lt;fct&gt; |\n",
       "|---|---|---|\n",
       "| 1 | 1 | 0 |\n",
       "| 2 | 0 | 0 |\n",
       "| 3 | 0 | 1 |\n",
       "| 4 | 1 | 0 |\n",
       "| 5 | 1 | 1 |\n",
       "| 6 | 1 | 1 |\n",
       "| 7 | 1 | 0 |\n",
       "| 8 | 0 | 0 |\n",
       "| 9 | 0 | 0 |\n",
       "| 10 | 0 | 0 |\n",
       "\n"
      ],
      "text/plain": [
       "   reference predict\n",
       "1  1         0      \n",
       "2  0         0      \n",
       "3  0         1      \n",
       "4  1         0      \n",
       "5  1         1      \n",
       "6  1         1      \n",
       "7  1         0      \n",
       "8  0         0      \n",
       "9  0         0      \n",
       "10 0         0      "
      ]
     },
     "metadata": {},
     "output_type": "display_data"
    }
   ],
   "source": [
    "predict_by_tree <- predict(model_tree, newdata = independent, type='class')\n",
    "\n",
    "# 원본 데이터의 생존여부 (정답)과 의사결정나무 모델을 통한 예측 결과를 대조\n",
    "data.frame(reference = test_sample$Survived, \n",
    "           predict = predict_by_tree)"
   ]
  },
  {
   "cell_type": "markdown",
   "id": "a9d34920",
   "metadata": {
    "papermill": {
     "duration": 0.024952,
     "end_time": "2022-04-26T00:56:52.343507",
     "exception": false,
     "start_time": "2022-04-26T00:56:52.318555",
     "status": "completed"
    },
    "tags": []
   },
   "source": [
    "# 2) Random Forest\n",
    "## **타이타닉 데이터로 보는 랜덤포레스트 모델**\n",
    "* **랜덤포레스트**: Decision Tree (의사결정나무) 여러 개를 결합하여 성능을 향상하는 앙상블 기법이 적용된 모델\n",
    "* **randomForest** Library 사용\n",
    "### **랜덤포레스트 모델에 대한 정보**\n",
    "* **Number of trees**: 학습에 이용된 결정트리의 개수\n",
    "* **No. of variables tried at each split**: 각 분기점별로 랜덤으로 선택된 변수의 개수\n",
    "* **OOB (Out Of Bag) estimate of error rate**: 오류율\n",
    "\n",
    "    오류율 - 랜덤포레스트 모델 성능 평가의 지표, \n",
    "* **Confusion matrix**: 혼동행렬 (모델 정확도 평가 지표)\n",
    "* **class.error**: 분류(class)별 오류율"
   ]
  },
  {
   "cell_type": "code",
   "execution_count": 19,
   "id": "c0054207",
   "metadata": {
    "execution": {
     "iopub.execute_input": "2022-04-26T00:56:52.395570Z",
     "iopub.status.busy": "2022-04-26T00:56:52.394036Z",
     "iopub.status.idle": "2022-04-26T00:56:52.440815Z",
     "shell.execute_reply": "2022-04-26T00:56:52.439213Z"
    },
    "papermill": {
     "duration": 0.075042,
     "end_time": "2022-04-26T00:56:52.443032",
     "exception": false,
     "start_time": "2022-04-26T00:56:52.367990",
     "status": "completed"
    },
    "tags": []
   },
   "outputs": [
    {
     "name": "stderr",
     "output_type": "stream",
     "text": [
      "randomForest 4.6-14\n",
      "\n",
      "Type rfNews() to see new features/changes/bug fixes.\n",
      "\n",
      "\n",
      "Attaching package: ‘randomForest’\n",
      "\n",
      "\n",
      "The following object is masked from ‘package:dplyr’:\n",
      "\n",
      "    combine\n",
      "\n",
      "\n"
     ]
    }
   ],
   "source": [
    "library(randomForest)"
   ]
  },
  {
   "cell_type": "markdown",
   "id": "f330a270",
   "metadata": {
    "papermill": {
     "duration": 0.024319,
     "end_time": "2022-04-26T00:56:52.492105",
     "exception": false,
     "start_time": "2022-04-26T00:56:52.467786",
     "status": "completed"
    },
    "tags": []
   },
   "source": [
    "## **Training** with Random Forest\n",
    "* Random Forest 모델 학습"
   ]
  },
  {
   "cell_type": "code",
   "execution_count": 20,
   "id": "fa1f2700",
   "metadata": {
    "execution": {
     "iopub.execute_input": "2022-04-26T00:56:52.544645Z",
     "iopub.status.busy": "2022-04-26T00:56:52.542984Z",
     "iopub.status.idle": "2022-04-26T00:56:53.135024Z",
     "shell.execute_reply": "2022-04-26T00:56:53.133016Z"
    },
    "papermill": {
     "duration": 0.620842,
     "end_time": "2022-04-26T00:56:53.137650",
     "exception": false,
     "start_time": "2022-04-26T00:56:52.516808",
     "status": "completed"
    },
    "tags": []
   },
   "outputs": [],
   "source": [
    "model_rf <- randomForest(Survived ~ .,\n",
    "                         data = train_final)"
   ]
  },
  {
   "cell_type": "code",
   "execution_count": 21,
   "id": "dbcc62ff",
   "metadata": {
    "execution": {
     "iopub.execute_input": "2022-04-26T00:56:53.190222Z",
     "iopub.status.busy": "2022-04-26T00:56:53.188590Z",
     "iopub.status.idle": "2022-04-26T00:56:53.205338Z",
     "shell.execute_reply": "2022-04-26T00:56:53.203579Z"
    },
    "papermill": {
     "duration": 0.045487,
     "end_time": "2022-04-26T00:56:53.207754",
     "exception": false,
     "start_time": "2022-04-26T00:56:53.162267",
     "status": "completed"
    },
    "tags": []
   },
   "outputs": [
    {
     "data": {
      "text/plain": [
       "\n",
       "Call:\n",
       " randomForest(formula = Survived ~ ., data = train_final) \n",
       "               Type of random forest: classification\n",
       "                     Number of trees: 500\n",
       "No. of variables tried at each split: 2\n",
       "\n",
       "        OOB estimate of  error rate: 16.5%\n",
       "Confusion matrix:\n",
       "    0   1 class.error\n",
       "0 499  50  0.09107468\n",
       "1  97 245  0.28362573"
      ]
     },
     "metadata": {},
     "output_type": "display_data"
    }
   ],
   "source": [
    "model_rf"
   ]
  },
  {
   "cell_type": "markdown",
   "id": "518f6131",
   "metadata": {
    "papermill": {
     "duration": 0.025333,
     "end_time": "2022-04-26T00:56:53.257888",
     "exception": false,
     "start_time": "2022-04-26T00:56:53.232555",
     "status": "completed"
    },
    "tags": []
   },
   "source": [
    "## Random Forest Plot\n",
    "* **결정트리 개수에 따른 랜덤 포레스트의 오류율** 차트 시각화\n",
    "* x축: 결정트리 개수\n",
    "* y축: 랜덤 포레스트 오류율\n",
    "* Black Line: 평균 오류율 (OOB)\n",
    "* Red Line: '사망' 클래스에 대한 오류율\n",
    "* Green Line: '생존' 클래스에 대한 오류율\n",
    "* 결정트리 개수가 많아질수록 오류율이 낮아지며, 100개를 넘어가며 오류율이 일정하게 수렴함"
   ]
  },
  {
   "cell_type": "code",
   "execution_count": 22,
   "id": "7f955bc3",
   "metadata": {
    "execution": {
     "iopub.execute_input": "2022-04-26T00:56:53.311490Z",
     "iopub.status.busy": "2022-04-26T00:56:53.309800Z",
     "iopub.status.idle": "2022-04-26T00:56:53.424913Z",
     "shell.execute_reply": "2022-04-26T00:56:53.422894Z"
    },
    "papermill": {
     "duration": 0.144806,
     "end_time": "2022-04-26T00:56:53.427604",
     "exception": false,
     "start_time": "2022-04-26T00:56:53.282798",
     "status": "completed"
    },
    "tags": []
   },
   "outputs": [
    {
     "data": {
      "image/png": "[encoded data removed]"
     },
     "metadata": {
      "image/png": {
       "height": 420,
       "width": 420
      }
     },
     "output_type": "display_data"
    }
   ],
   "source": [
    "layout(matrix(c(1,2),nrow=1),width=c(5,1))\n",
    "\n",
    "# 랜덤포레스트 모델 오류율 차트 시각화\n",
    "par(mar=c(5,4,4,0))\n",
    "plot(model_rf)\n",
    "\n",
    "# 범례 표시\n",
    "par(mar=c(2,0,2,0)) \n",
    "plot(c(0,1), type=\"n\", axes = F, xlab=\"\", ylab=\"\")\n",
    "legend(\"top\", colnames(model_rf$err.rate),col=1:4,cex=0.8,fill=1:4)"
   ]
  },
  {
   "cell_type": "markdown",
   "id": "701e67bb",
   "metadata": {
    "papermill": {
     "duration": 0.027081,
     "end_time": "2022-04-26T00:56:53.481651",
     "exception": false,
     "start_time": "2022-04-26T00:56:53.454570",
     "status": "completed"
    },
    "tags": []
   },
   "source": [
    "## 설명변수별 중요도 확인\n",
    "* 모델 학습에 이용된 설명변수별로 그 중요도를 확인\n",
    "\n",
    "* 중요도는 각 변수가 얼마나 **'효율적인 분류'**를 수행하는가에 따라 결정됨\n",
    "\n",
    "    효율적인 분류: Reducing, Lowering, Decreasing the Impurity Level (불순도의 감소)\n",
    "    \n",
    "    랜덤포레스트에서는 의사결정나무에서와 달리 모든 변수가 사용되므로, 변수 중요도 평가가 유용함\n",
    "\n",
    "* **varUsed**: 각 설명변수가 랜덤포레스트 내 결정트리에 사용된 횟수를 보여줌"
   ]
  },
  {
   "cell_type": "code",
   "execution_count": 23,
   "id": "4e831cf4",
   "metadata": {
    "execution": {
     "iopub.execute_input": "2022-04-26T00:56:53.537126Z",
     "iopub.status.busy": "2022-04-26T00:56:53.535634Z",
     "iopub.status.idle": "2022-04-26T00:56:53.562009Z",
     "shell.execute_reply": "2022-04-26T00:56:53.560248Z"
    },
    "papermill": {
     "duration": 0.056542,
     "end_time": "2022-04-26T00:56:53.564290",
     "exception": false,
     "start_time": "2022-04-26T00:56:53.507748",
     "status": "completed"
    },
    "tags": []
   },
   "outputs": [
    {
     "data": {
      "text/html": [
       "<style>\n",
       ".list-inline {list-style: none; margin:0; padding: 0}\n",
       ".list-inline>li {display: inline-block}\n",
       ".list-inline>li:not(:last-child)::after {content: \"\\00b7\"; padding: 0 .5ex}\n",
       "</style>\n",
       "<ol class=list-inline><li>'Survived'</li><li>'Pclass'</li><li>'Sex'</li><li>'Age'</li><li>'SibSp'</li><li>'Parch'</li><li>'Fare'</li><li>'Embarked'</li></ol>\n"
      ],
      "text/latex": [
       "\\begin{enumerate*}\n",
       "\\item 'Survived'\n",
       "\\item 'Pclass'\n",
       "\\item 'Sex'\n",
       "\\item 'Age'\n",
       "\\item 'SibSp'\n",
       "\\item 'Parch'\n",
       "\\item 'Fare'\n",
       "\\item 'Embarked'\n",
       "\\end{enumerate*}\n"
      ],
      "text/markdown": [
       "1. 'Survived'\n",
       "2. 'Pclass'\n",
       "3. 'Sex'\n",
       "4. 'Age'\n",
       "5. 'SibSp'\n",
       "6. 'Parch'\n",
       "7. 'Fare'\n",
       "8. 'Embarked'\n",
       "\n",
       "\n"
      ],
      "text/plain": [
       "[1] \"Survived\" \"Pclass\"   \"Sex\"      \"Age\"      \"SibSp\"    \"Parch\"    \"Fare\"    \n",
       "[8] \"Embarked\""
      ]
     },
     "metadata": {},
     "output_type": "display_data"
    },
    {
     "data": {
      "text/html": [
       "<style>\n",
       ".list-inline {list-style: none; margin:0; padding: 0}\n",
       ".list-inline>li {display: inline-block}\n",
       ".list-inline>li:not(:last-child)::after {content: \"\\00b7\"; padding: 0 .5ex}\n",
       "</style>\n",
       "<ol class=list-inline><li>3171</li><li>2272</li><li>12950</li><li>5440</li><li>4449</li><li>12590</li><li>4080</li></ol>\n"
      ],
      "text/latex": [
       "\\begin{enumerate*}\n",
       "\\item 3171\n",
       "\\item 2272\n",
       "\\item 12950\n",
       "\\item 5440\n",
       "\\item 4449\n",
       "\\item 12590\n",
       "\\item 4080\n",
       "\\end{enumerate*}\n"
      ],
      "text/markdown": [
       "1. 3171\n",
       "2. 2272\n",
       "3. 12950\n",
       "4. 5440\n",
       "5. 4449\n",
       "6. 12590\n",
       "7. 4080\n",
       "\n",
       "\n"
      ],
      "text/plain": [
       "[1]  3171  2272 12950  5440  4449 12590  4080"
      ]
     },
     "metadata": {},
     "output_type": "display_data"
    }
   ],
   "source": [
    "names(train_final)\n",
    "varUsed(model_rf)"
   ]
  },
  {
   "cell_type": "markdown",
   "id": "390fed87",
   "metadata": {
    "papermill": {
     "duration": 0.026737,
     "end_time": "2022-04-26T00:56:53.653745",
     "exception": false,
     "start_time": "2022-04-26T00:56:53.627008",
     "status": "completed"
    },
    "tags": []
   },
   "source": [
    "* **MeanDecreaseGini (=Gini important score)**: 해당 설명변수(feature)가 모델에 적용되면서, 분류의 불순도(impurity)를 얼마나 감소시키는가에 대한 지표\n",
    "    \n",
    "    각 트리의 분기점에서, 분류기에서 쓰이는 설명변수들이 얼마나 **효율적으로 분류**하는가에 대한 평균값을 나타냄\n",
    "* **varlmpPlot (variable important)**: 분류에 결정적인 기여를 하는 변수들의 순위를 시각화"
   ]
  },
  {
   "cell_type": "code",
   "execution_count": 24,
   "id": "8eb338cc",
   "metadata": {
    "execution": {
     "iopub.execute_input": "2022-04-26T00:56:53.710989Z",
     "iopub.status.busy": "2022-04-26T00:56:53.709373Z",
     "iopub.status.idle": "2022-04-26T00:56:53.731399Z",
     "shell.execute_reply": "2022-04-26T00:56:53.729587Z"
    },
    "papermill": {
     "duration": 0.053551,
     "end_time": "2022-04-26T00:56:53.733845",
     "exception": false,
     "start_time": "2022-04-26T00:56:53.680294",
     "status": "completed"
    },
    "tags": []
   },
   "outputs": [
    {
     "data": {
      "text/html": [
       "<table class=\"dataframe\">\n",
       "<caption>A matrix: 7 × 1 of type dbl</caption>\n",
       "<thead>\n",
       "\t<tr><th></th><th scope=col>MeanDecreaseGini</th></tr>\n",
       "</thead>\n",
       "<tbody>\n",
       "\t<tr><th scope=row>Pclass</th><td> 34.36502</td></tr>\n",
       "\t<tr><th scope=row>Sex</th><td>101.50663</td></tr>\n",
       "\t<tr><th scope=row>Age</th><td> 59.78682</td></tr>\n",
       "\t<tr><th scope=row>SibSp</th><td> 16.07446</td></tr>\n",
       "\t<tr><th scope=row>Parch</th><td> 12.22787</td></tr>\n",
       "\t<tr><th scope=row>Fare</th><td> 65.43525</td></tr>\n",
       "\t<tr><th scope=row>Embarked</th><td> 11.72015</td></tr>\n",
       "</tbody>\n",
       "</table>\n"
      ],
      "text/latex": [
       "A matrix: 7 × 1 of type dbl\n",
       "\\begin{tabular}{r|l}\n",
       "  & MeanDecreaseGini\\\\\n",
       "\\hline\n",
       "\tPclass &  34.36502\\\\\n",
       "\tSex & 101.50663\\\\\n",
       "\tAge &  59.78682\\\\\n",
       "\tSibSp &  16.07446\\\\\n",
       "\tParch &  12.22787\\\\\n",
       "\tFare &  65.43525\\\\\n",
       "\tEmbarked &  11.72015\\\\\n",
       "\\end{tabular}\n"
      ],
      "text/markdown": [
       "\n",
       "A matrix: 7 × 1 of type dbl\n",
       "\n",
       "| <!--/--> | MeanDecreaseGini |\n",
       "|---|---|\n",
       "| Pclass |  34.36502 |\n",
       "| Sex | 101.50663 |\n",
       "| Age |  59.78682 |\n",
       "| SibSp |  16.07446 |\n",
       "| Parch |  12.22787 |\n",
       "| Fare |  65.43525 |\n",
       "| Embarked |  11.72015 |\n",
       "\n"
      ],
      "text/plain": [
       "         MeanDecreaseGini\n",
       "Pclass    34.36502       \n",
       "Sex      101.50663       \n",
       "Age       59.78682       \n",
       "SibSp     16.07446       \n",
       "Parch     12.22787       \n",
       "Fare      65.43525       \n",
       "Embarked  11.72015       "
      ]
     },
     "metadata": {},
     "output_type": "display_data"
    }
   ],
   "source": [
    "model_rf$importance"
   ]
  },
  {
   "cell_type": "code",
   "execution_count": 25,
   "id": "07fe06c6",
   "metadata": {
    "execution": {
     "iopub.execute_input": "2022-04-26T00:56:53.790983Z",
     "iopub.status.busy": "2022-04-26T00:56:53.789392Z",
     "iopub.status.idle": "2022-04-26T00:56:53.867269Z",
     "shell.execute_reply": "2022-04-26T00:56:53.864161Z"
    },
    "papermill": {
     "duration": 0.109519,
     "end_time": "2022-04-26T00:56:53.870168",
     "exception": false,
     "start_time": "2022-04-26T00:56:53.760649",
     "status": "completed"
    },
    "tags": []
   },
   "outputs": [
    {
     "data": {
      "image/png": "[encoded data removed]"
     },
     "metadata": {
      "image/png": {
       "height": 420,
       "width": 420
      }
     },
     "output_type": "display_data"
    }
   ],
   "source": [
    "varImpPlot(model_rf)"
   ]
  },
  {
   "cell_type": "markdown",
   "id": "62e47d1c",
   "metadata": {
    "papermill": {
     "duration": 0.027978,
     "end_time": "2022-04-26T00:56:53.926803",
     "exception": false,
     "start_time": "2022-04-26T00:56:53.898825",
     "status": "completed"
    },
    "tags": []
   },
   "source": [
    "* **treesize**: 결정트리별로 리프 노드(leaf node)의 개수를 출력"
   ]
  },
  {
   "cell_type": "code",
   "execution_count": 26,
   "id": "5098542c",
   "metadata": {
    "execution": {
     "iopub.execute_input": "2022-04-26T00:56:53.986314Z",
     "iopub.status.busy": "2022-04-26T00:56:53.984529Z",
     "iopub.status.idle": "2022-04-26T00:56:54.010268Z",
     "shell.execute_reply": "2022-04-26T00:56:54.007188Z"
    },
    "papermill": {
     "duration": 0.058042,
     "end_time": "2022-04-26T00:56:54.013326",
     "exception": false,
     "start_time": "2022-04-26T00:56:53.955284",
     "status": "completed"
    },
    "tags": []
   },
   "outputs": [
    {
     "data": {
      "text/html": [
       "<style>\n",
       ".list-inline {list-style: none; margin:0; padding: 0}\n",
       ".list-inline>li {display: inline-block}\n",
       ".list-inline>li:not(:last-child)::after {content: \"\\00b7\"; padding: 0 .5ex}\n",
       "</style>\n",
       "<ol class=list-inline><li>67</li><li>92</li><li>60</li><li>91</li><li>96</li><li>85</li><li>73</li><li>125</li><li>72</li><li>78</li><li>105</li><li>89</li><li>113</li><li>69</li><li>61</li><li>110</li><li>79</li><li>78</li><li>85</li><li>103</li><li>105</li><li>87</li><li>89</li><li>72</li><li>79</li><li>82</li><li>91</li><li>95</li><li>125</li><li>107</li><li>96</li><li>84</li><li>84</li><li>100</li><li>87</li><li>66</li><li>104</li><li>111</li><li>100</li><li>81</li><li>71</li><li>93</li><li>114</li><li>63</li><li>123</li><li>102</li><li>120</li><li>105</li><li>108</li><li>82</li><li>80</li><li>74</li><li>74</li><li>111</li><li>80</li><li>91</li><li>94</li><li>77</li><li>81</li><li>79</li><li>89</li><li>74</li><li>72</li><li>61</li><li>101</li><li>82</li><li>121</li><li>88</li><li>69</li><li>84</li><li>114</li><li>104</li><li>69</li><li>111</li><li>97</li><li>81</li><li>58</li><li>89</li><li>100</li><li>73</li><li>75</li><li>105</li><li>84</li><li>85</li><li>51</li><li>133</li><li>62</li><li>81</li><li>95</li><li>85</li><li>73</li><li>85</li><li>76</li><li>87</li><li>104</li><li>103</li><li>76</li><li>92</li><li>112</li><li>60</li><li>105</li><li>71</li><li>104</li><li>50</li><li>68</li><li>86</li><li>107</li><li>68</li><li>82</li><li>70</li><li>93</li><li>97</li><li>88</li><li>61</li><li>86</li><li>75</li><li>75</li><li>82</li><li>92</li><li>116</li><li>114</li><li>80</li><li>118</li><li>86</li><li>97</li><li>68</li><li>108</li><li>88</li><li>96</li><li>105</li><li>114</li><li>120</li><li>95</li><li>74</li><li>109</li><li>62</li><li>61</li><li>112</li><li>113</li><li>101</li><li>71</li><li>95</li><li>79</li><li>104</li><li>94</li><li>69</li><li>72</li><li>95</li><li>58</li><li>90</li><li>106</li><li>82</li><li>104</li><li>100</li><li>101</li><li>113</li><li>104</li><li>91</li><li>99</li><li>101</li><li>56</li><li>95</li><li>85</li><li>82</li><li>97</li><li>57</li><li>94</li><li>80</li><li>97</li><li>83</li><li>112</li><li>98</li><li>79</li><li>107</li><li>93</li><li>66</li><li>101</li><li>78</li><li>100</li><li>94</li><li>78</li><li>72</li><li>90</li><li>106</li><li>92</li><li>99</li><li>73</li><li>99</li><li>84</li><li>75</li><li>120</li><li>91</li><li>78</li><li>90</li><li>105</li><li>74</li><li>90</li><li>110</li><li>107</li><li>98</li><li>⋯</li><li>124</li><li>90</li><li>144</li><li>83</li><li>120</li><li>81</li><li>78</li><li>105</li><li>96</li><li>75</li><li>72</li><li>107</li><li>54</li><li>61</li><li>102</li><li>86</li><li>90</li><li>108</li><li>117</li><li>82</li><li>110</li><li>102</li><li>70</li><li>102</li><li>89</li><li>122</li><li>90</li><li>110</li><li>92</li><li>110</li><li>88</li><li>121</li><li>76</li><li>83</li><li>77</li><li>98</li><li>75</li><li>106</li><li>96</li><li>91</li><li>106</li><li>72</li><li>64</li><li>71</li><li>81</li><li>102</li><li>56</li><li>90</li><li>82</li><li>93</li><li>70</li><li>92</li><li>103</li><li>65</li><li>58</li><li>76</li><li>93</li><li>111</li><li>94</li><li>87</li><li>82</li><li>119</li><li>98</li><li>86</li><li>68</li><li>91</li><li>84</li><li>105</li><li>88</li><li>97</li><li>85</li><li>115</li><li>107</li><li>86</li><li>39</li><li>71</li><li>97</li><li>66</li><li>115</li><li>97</li><li>79</li><li>93</li><li>79</li><li>124</li><li>91</li><li>73</li><li>77</li><li>103</li><li>112</li><li>113</li><li>112</li><li>111</li><li>77</li><li>114</li><li>115</li><li>60</li><li>68</li><li>130</li><li>73</li><li>67</li><li>105</li><li>67</li><li>96</li><li>88</li><li>108</li><li>80</li><li>83</li><li>121</li><li>67</li><li>68</li><li>94</li><li>84</li><li>91</li><li>100</li><li>114</li><li>89</li><li>90</li><li>121</li><li>81</li><li>115</li><li>66</li><li>98</li><li>74</li><li>99</li><li>85</li><li>85</li><li>120</li><li>80</li><li>83</li><li>104</li><li>122</li><li>93</li><li>69</li><li>70</li><li>123</li><li>80</li><li>95</li><li>102</li><li>70</li><li>71</li><li>75</li><li>84</li><li>82</li><li>108</li><li>105</li><li>101</li><li>86</li><li>83</li><li>85</li><li>114</li><li>93</li><li>103</li><li>109</li><li>96</li><li>64</li><li>106</li><li>85</li><li>104</li><li>85</li><li>108</li><li>83</li><li>101</li><li>87</li><li>71</li><li>84</li><li>91</li><li>88</li><li>105</li><li>99</li><li>95</li><li>76</li><li>123</li><li>97</li><li>60</li><li>64</li><li>100</li><li>112</li><li>92</li><li>93</li><li>110</li><li>108</li><li>89</li><li>75</li><li>105</li><li>72</li><li>67</li><li>79</li><li>96</li><li>53</li><li>97</li><li>98</li><li>73</li><li>90</li><li>99</li><li>59</li><li>112</li><li>112</li><li>111</li><li>88</li><li>98</li></ol>\n"
      ],
      "text/latex": [
       "\\begin{enumerate*}\n",
       "\\item 67\n",
       "\\item 92\n",
       "\\item 60\n",
       "\\item 91\n",
       "\\item 96\n",
       "\\item 85\n",
       "\\item 73\n",
       "\\item 125\n",
       "\\item 72\n",
       "\\item 78\n",
       "\\item 105\n",
       "\\item 89\n",
       "\\item 113\n",
       "\\item 69\n",
       "\\item 61\n",
       "\\item 110\n",
       "\\item 79\n",
       "\\item 78\n",
       "\\item 85\n",
       "\\item 103\n",
       "\\item 105\n",
       "\\item 87\n",
       "\\item 89\n",
       "\\item 72\n",
       "\\item 79\n",
       "\\item 82\n",
       "\\item 91\n",
       "\\item 95\n",
       "\\item 125\n",
       "\\item 107\n",
       "\\item 96\n",
       "\\item 84\n",
       "\\item 84\n",
       "\\item 100\n",
       "\\item 87\n",
       "\\item 66\n",
       "\\item 104\n",
       "\\item 111\n",
       "\\item 100\n",
       "\\item 81\n",
       "\\item 71\n",
       "\\item 93\n",
       "\\item 114\n",
       "\\item 63\n",
       "\\item 123\n",
       "\\item 102\n",
       "\\item 120\n",
       "\\item 105\n",
       "\\item 108\n",
       "\\item 82\n",
       "\\item 80\n",
       "\\item 74\n",
       "\\item 74\n",
       "\\item 111\n",
       "\\item 80\n",
       "\\item 91\n",
       "\\item 94\n",
       "\\item 77\n",
       "\\item 81\n",
       "\\item 79\n",
       "\\item 89\n",
       "\\item 74\n",
       "\\item 72\n",
       "\\item 61\n",
       "\\item 101\n",
       "\\item 82\n",
       "\\item 121\n",
       "\\item 88\n",
       "\\item 69\n",
       "\\item 84\n",
       "\\item 114\n",
       "\\item 104\n",
       "\\item 69\n",
       "\\item 111\n",
       "\\item 97\n",
       "\\item 81\n",
       "\\item 58\n",
       "\\item 89\n",
       "\\item 100\n",
       "\\item 73\n",
       "\\item 75\n",
       "\\item 105\n",
       "\\item 84\n",
       "\\item 85\n",
       "\\item 51\n",
       "\\item 133\n",
       "\\item 62\n",
       "\\item 81\n",
       "\\item 95\n",
       "\\item 85\n",
       "\\item 73\n",
       "\\item 85\n",
       "\\item 76\n",
       "\\item 87\n",
       "\\item 104\n",
       "\\item 103\n",
       "\\item 76\n",
       "\\item 92\n",
       "\\item 112\n",
       "\\item 60\n",
       "\\item 105\n",
       "\\item 71\n",
       "\\item 104\n",
       "\\item 50\n",
       "\\item 68\n",
       "\\item 86\n",
       "\\item 107\n",
       "\\item 68\n",
       "\\item 82\n",
       "\\item 70\n",
       "\\item 93\n",
       "\\item 97\n",
       "\\item 88\n",
       "\\item 61\n",
       "\\item 86\n",
       "\\item 75\n",
       "\\item 75\n",
       "\\item 82\n",
       "\\item 92\n",
       "\\item 116\n",
       "\\item 114\n",
       "\\item 80\n",
       "\\item 118\n",
       "\\item 86\n",
       "\\item 97\n",
       "\\item 68\n",
       "\\item 108\n",
       "\\item 88\n",
       "\\item 96\n",
       "\\item 105\n",
       "\\item 114\n",
       "\\item 120\n",
       "\\item 95\n",
       "\\item 74\n",
       "\\item 109\n",
       "\\item 62\n",
       "\\item 61\n",
       "\\item 112\n",
       "\\item 113\n",
       "\\item 101\n",
       "\\item 71\n",
       "\\item 95\n",
       "\\item 79\n",
       "\\item 104\n",
       "\\item 94\n",
       "\\item 69\n",
       "\\item 72\n",
       "\\item 95\n",
       "\\item 58\n",
       "\\item 90\n",
       "\\item 106\n",
       "\\item 82\n",
       "\\item 104\n",
       "\\item 100\n",
       "\\item 101\n",
       "\\item 113\n",
       "\\item 104\n",
       "\\item 91\n",
       "\\item 99\n",
       "\\item 101\n",
       "\\item 56\n",
       "\\item 95\n",
       "\\item 85\n",
       "\\item 82\n",
       "\\item 97\n",
       "\\item 57\n",
       "\\item 94\n",
       "\\item 80\n",
       "\\item 97\n",
       "\\item 83\n",
       "\\item 112\n",
       "\\item 98\n",
       "\\item 79\n",
       "\\item 107\n",
       "\\item 93\n",
       "\\item 66\n",
       "\\item 101\n",
       "\\item 78\n",
       "\\item 100\n",
       "\\item 94\n",
       "\\item 78\n",
       "\\item 72\n",
       "\\item 90\n",
       "\\item 106\n",
       "\\item 92\n",
       "\\item 99\n",
       "\\item 73\n",
       "\\item 99\n",
       "\\item 84\n",
       "\\item 75\n",
       "\\item 120\n",
       "\\item 91\n",
       "\\item 78\n",
       "\\item 90\n",
       "\\item 105\n",
       "\\item 74\n",
       "\\item 90\n",
       "\\item 110\n",
       "\\item 107\n",
       "\\item 98\n",
       "\\item ⋯\n",
       "\\item 124\n",
       "\\item 90\n",
       "\\item 144\n",
       "\\item 83\n",
       "\\item 120\n",
       "\\item 81\n",
       "\\item 78\n",
       "\\item 105\n",
       "\\item 96\n",
       "\\item 75\n",
       "\\item 72\n",
       "\\item 107\n",
       "\\item 54\n",
       "\\item 61\n",
       "\\item 102\n",
       "\\item 86\n",
       "\\item 90\n",
       "\\item 108\n",
       "\\item 117\n",
       "\\item 82\n",
       "\\item 110\n",
       "\\item 102\n",
       "\\item 70\n",
       "\\item 102\n",
       "\\item 89\n",
       "\\item 122\n",
       "\\item 90\n",
       "\\item 110\n",
       "\\item 92\n",
       "\\item 110\n",
       "\\item 88\n",
       "\\item 121\n",
       "\\item 76\n",
       "\\item 83\n",
       "\\item 77\n",
       "\\item 98\n",
       "\\item 75\n",
       "\\item 106\n",
       "\\item 96\n",
       "\\item 91\n",
       "\\item 106\n",
       "\\item 72\n",
       "\\item 64\n",
       "\\item 71\n",
       "\\item 81\n",
       "\\item 102\n",
       "\\item 56\n",
       "\\item 90\n",
       "\\item 82\n",
       "\\item 93\n",
       "\\item 70\n",
       "\\item 92\n",
       "\\item 103\n",
       "\\item 65\n",
       "\\item 58\n",
       "\\item 76\n",
       "\\item 93\n",
       "\\item 111\n",
       "\\item 94\n",
       "\\item 87\n",
       "\\item 82\n",
       "\\item 119\n",
       "\\item 98\n",
       "\\item 86\n",
       "\\item 68\n",
       "\\item 91\n",
       "\\item 84\n",
       "\\item 105\n",
       "\\item 88\n",
       "\\item 97\n",
       "\\item 85\n",
       "\\item 115\n",
       "\\item 107\n",
       "\\item 86\n",
       "\\item 39\n",
       "\\item 71\n",
       "\\item 97\n",
       "\\item 66\n",
       "\\item 115\n",
       "\\item 97\n",
       "\\item 79\n",
       "\\item 93\n",
       "\\item 79\n",
       "\\item 124\n",
       "\\item 91\n",
       "\\item 73\n",
       "\\item 77\n",
       "\\item 103\n",
       "\\item 112\n",
       "\\item 113\n",
       "\\item 112\n",
       "\\item 111\n",
       "\\item 77\n",
       "\\item 114\n",
       "\\item 115\n",
       "\\item 60\n",
       "\\item 68\n",
       "\\item 130\n",
       "\\item 73\n",
       "\\item 67\n",
       "\\item 105\n",
       "\\item 67\n",
       "\\item 96\n",
       "\\item 88\n",
       "\\item 108\n",
       "\\item 80\n",
       "\\item 83\n",
       "\\item 121\n",
       "\\item 67\n",
       "\\item 68\n",
       "\\item 94\n",
       "\\item 84\n",
       "\\item 91\n",
       "\\item 100\n",
       "\\item 114\n",
       "\\item 89\n",
       "\\item 90\n",
       "\\item 121\n",
       "\\item 81\n",
       "\\item 115\n",
       "\\item 66\n",
       "\\item 98\n",
       "\\item 74\n",
       "\\item 99\n",
       "\\item 85\n",
       "\\item 85\n",
       "\\item 120\n",
       "\\item 80\n",
       "\\item 83\n",
       "\\item 104\n",
       "\\item 122\n",
       "\\item 93\n",
       "\\item 69\n",
       "\\item 70\n",
       "\\item 123\n",
       "\\item 80\n",
       "\\item 95\n",
       "\\item 102\n",
       "\\item 70\n",
       "\\item 71\n",
       "\\item 75\n",
       "\\item 84\n",
       "\\item 82\n",
       "\\item 108\n",
       "\\item 105\n",
       "\\item 101\n",
       "\\item 86\n",
       "\\item 83\n",
       "\\item 85\n",
       "\\item 114\n",
       "\\item 93\n",
       "\\item 103\n",
       "\\item 109\n",
       "\\item 96\n",
       "\\item 64\n",
       "\\item 106\n",
       "\\item 85\n",
       "\\item 104\n",
       "\\item 85\n",
       "\\item 108\n",
       "\\item 83\n",
       "\\item 101\n",
       "\\item 87\n",
       "\\item 71\n",
       "\\item 84\n",
       "\\item 91\n",
       "\\item 88\n",
       "\\item 105\n",
       "\\item 99\n",
       "\\item 95\n",
       "\\item 76\n",
       "\\item 123\n",
       "\\item 97\n",
       "\\item 60\n",
       "\\item 64\n",
       "\\item 100\n",
       "\\item 112\n",
       "\\item 92\n",
       "\\item 93\n",
       "\\item 110\n",
       "\\item 108\n",
       "\\item 89\n",
       "\\item 75\n",
       "\\item 105\n",
       "\\item 72\n",
       "\\item 67\n",
       "\\item 79\n",
       "\\item 96\n",
       "\\item 53\n",
       "\\item 97\n",
       "\\item 98\n",
       "\\item 73\n",
       "\\item 90\n",
       "\\item 99\n",
       "\\item 59\n",
       "\\item 112\n",
       "\\item 112\n",
       "\\item 111\n",
       "\\item 88\n",
       "\\item 98\n",
       "\\end{enumerate*}\n"
      ],
      "text/markdown": [
       "1. 67\n",
       "2. 92\n",
       "3. 60\n",
       "4. 91\n",
       "5. 96\n",
       "6. 85\n",
       "7. 73\n",
       "8. 125\n",
       "9. 72\n",
       "10. 78\n",
       "11. 105\n",
       "12. 89\n",
       "13. 113\n",
       "14. 69\n",
       "15. 61\n",
       "16. 110\n",
       "17. 79\n",
       "18. 78\n",
       "19. 85\n",
       "20. 103\n",
       "21. 105\n",
       "22. 87\n",
       "23. 89\n",
       "24. 72\n",
       "25. 79\n",
       "26. 82\n",
       "27. 91\n",
       "28. 95\n",
       "29. 125\n",
       "30. 107\n",
       "31. 96\n",
       "32. 84\n",
       "33. 84\n",
       "34. 100\n",
       "35. 87\n",
       "36. 66\n",
       "37. 104\n",
       "38. 111\n",
       "39. 100\n",
       "40. 81\n",
       "41. 71\n",
       "42. 93\n",
       "43. 114\n",
       "44. 63\n",
       "45. 123\n",
       "46. 102\n",
       "47. 120\n",
       "48. 105\n",
       "49. 108\n",
       "50. 82\n",
       "51. 80\n",
       "52. 74\n",
       "53. 74\n",
       "54. 111\n",
       "55. 80\n",
       "56. 91\n",
       "57. 94\n",
       "58. 77\n",
       "59. 81\n",
       "60. 79\n",
       "61. 89\n",
       "62. 74\n",
       "63. 72\n",
       "64. 61\n",
       "65. 101\n",
       "66. 82\n",
       "67. 121\n",
       "68. 88\n",
       "69. 69\n",
       "70. 84\n",
       "71. 114\n",
       "72. 104\n",
       "73. 69\n",
       "74. 111\n",
       "75. 97\n",
       "76. 81\n",
       "77. 58\n",
       "78. 89\n",
       "79. 100\n",
       "80. 73\n",
       "81. 75\n",
       "82. 105\n",
       "83. 84\n",
       "84. 85\n",
       "85. 51\n",
       "86. 133\n",
       "87. 62\n",
       "88. 81\n",
       "89. 95\n",
       "90. 85\n",
       "91. 73\n",
       "92. 85\n",
       "93. 76\n",
       "94. 87\n",
       "95. 104\n",
       "96. 103\n",
       "97. 76\n",
       "98. 92\n",
       "99. 112\n",
       "100. 60\n",
       "101. 105\n",
       "102. 71\n",
       "103. 104\n",
       "104. 50\n",
       "105. 68\n",
       "106. 86\n",
       "107. 107\n",
       "108. 68\n",
       "109. 82\n",
       "110. 70\n",
       "111. 93\n",
       "112. 97\n",
       "113. 88\n",
       "114. 61\n",
       "115. 86\n",
       "116. 75\n",
       "117. 75\n",
       "118. 82\n",
       "119. 92\n",
       "120. 116\n",
       "121. 114\n",
       "122. 80\n",
       "123. 118\n",
       "124. 86\n",
       "125. 97\n",
       "126. 68\n",
       "127. 108\n",
       "128. 88\n",
       "129. 96\n",
       "130. 105\n",
       "131. 114\n",
       "132. 120\n",
       "133. 95\n",
       "134. 74\n",
       "135. 109\n",
       "136. 62\n",
       "137. 61\n",
       "138. 112\n",
       "139. 113\n",
       "140. 101\n",
       "141. 71\n",
       "142. 95\n",
       "143. 79\n",
       "144. 104\n",
       "145. 94\n",
       "146. 69\n",
       "147. 72\n",
       "148. 95\n",
       "149. 58\n",
       "150. 90\n",
       "151. 106\n",
       "152. 82\n",
       "153. 104\n",
       "154. 100\n",
       "155. 101\n",
       "156. 113\n",
       "157. 104\n",
       "158. 91\n",
       "159. 99\n",
       "160. 101\n",
       "161. 56\n",
       "162. 95\n",
       "163. 85\n",
       "164. 82\n",
       "165. 97\n",
       "166. 57\n",
       "167. 94\n",
       "168. 80\n",
       "169. 97\n",
       "170. 83\n",
       "171. 112\n",
       "172. 98\n",
       "173. 79\n",
       "174. 107\n",
       "175. 93\n",
       "176. 66\n",
       "177. 101\n",
       "178. 78\n",
       "179. 100\n",
       "180. 94\n",
       "181. 78\n",
       "182. 72\n",
       "183. 90\n",
       "184. 106\n",
       "185. 92\n",
       "186. 99\n",
       "187. 73\n",
       "188. 99\n",
       "189. 84\n",
       "190. 75\n",
       "191. 120\n",
       "192. 91\n",
       "193. 78\n",
       "194. 90\n",
       "195. 105\n",
       "196. 74\n",
       "197. 90\n",
       "198. 110\n",
       "199. 107\n",
       "200. 98\n",
       "201. ⋯\n",
       "202. 124\n",
       "203. 90\n",
       "204. 144\n",
       "205. 83\n",
       "206. 120\n",
       "207. 81\n",
       "208. 78\n",
       "209. 105\n",
       "210. 96\n",
       "211. 75\n",
       "212. 72\n",
       "213. 107\n",
       "214. 54\n",
       "215. 61\n",
       "216. 102\n",
       "217. 86\n",
       "218. 90\n",
       "219. 108\n",
       "220. 117\n",
       "221. 82\n",
       "222. 110\n",
       "223. 102\n",
       "224. 70\n",
       "225. 102\n",
       "226. 89\n",
       "227. 122\n",
       "228. 90\n",
       "229. 110\n",
       "230. 92\n",
       "231. 110\n",
       "232. 88\n",
       "233. 121\n",
       "234. 76\n",
       "235. 83\n",
       "236. 77\n",
       "237. 98\n",
       "238. 75\n",
       "239. 106\n",
       "240. 96\n",
       "241. 91\n",
       "242. 106\n",
       "243. 72\n",
       "244. 64\n",
       "245. 71\n",
       "246. 81\n",
       "247. 102\n",
       "248. 56\n",
       "249. 90\n",
       "250. 82\n",
       "251. 93\n",
       "252. 70\n",
       "253. 92\n",
       "254. 103\n",
       "255. 65\n",
       "256. 58\n",
       "257. 76\n",
       "258. 93\n",
       "259. 111\n",
       "260. 94\n",
       "261. 87\n",
       "262. 82\n",
       "263. 119\n",
       "264. 98\n",
       "265. 86\n",
       "266. 68\n",
       "267. 91\n",
       "268. 84\n",
       "269. 105\n",
       "270. 88\n",
       "271. 97\n",
       "272. 85\n",
       "273. 115\n",
       "274. 107\n",
       "275. 86\n",
       "276. 39\n",
       "277. 71\n",
       "278. 97\n",
       "279. 66\n",
       "280. 115\n",
       "281. 97\n",
       "282. 79\n",
       "283. 93\n",
       "284. 79\n",
       "285. 124\n",
       "286. 91\n",
       "287. 73\n",
       "288. 77\n",
       "289. 103\n",
       "290. 112\n",
       "291. 113\n",
       "292. 112\n",
       "293. 111\n",
       "294. 77\n",
       "295. 114\n",
       "296. 115\n",
       "297. 60\n",
       "298. 68\n",
       "299. 130\n",
       "300. 73\n",
       "301. 67\n",
       "302. 105\n",
       "303. 67\n",
       "304. 96\n",
       "305. 88\n",
       "306. 108\n",
       "307. 80\n",
       "308. 83\n",
       "309. 121\n",
       "310. 67\n",
       "311. 68\n",
       "312. 94\n",
       "313. 84\n",
       "314. 91\n",
       "315. 100\n",
       "316. 114\n",
       "317. 89\n",
       "318. 90\n",
       "319. 121\n",
       "320. 81\n",
       "321. 115\n",
       "322. 66\n",
       "323. 98\n",
       "324. 74\n",
       "325. 99\n",
       "326. 85\n",
       "327. 85\n",
       "328. 120\n",
       "329. 80\n",
       "330. 83\n",
       "331. 104\n",
       "332. 122\n",
       "333. 93\n",
       "334. 69\n",
       "335. 70\n",
       "336. 123\n",
       "337. 80\n",
       "338. 95\n",
       "339. 102\n",
       "340. 70\n",
       "341. 71\n",
       "342. 75\n",
       "343. 84\n",
       "344. 82\n",
       "345. 108\n",
       "346. 105\n",
       "347. 101\n",
       "348. 86\n",
       "349. 83\n",
       "350. 85\n",
       "351. 114\n",
       "352. 93\n",
       "353. 103\n",
       "354. 109\n",
       "355. 96\n",
       "356. 64\n",
       "357. 106\n",
       "358. 85\n",
       "359. 104\n",
       "360. 85\n",
       "361. 108\n",
       "362. 83\n",
       "363. 101\n",
       "364. 87\n",
       "365. 71\n",
       "366. 84\n",
       "367. 91\n",
       "368. 88\n",
       "369. 105\n",
       "370. 99\n",
       "371. 95\n",
       "372. 76\n",
       "373. 123\n",
       "374. 97\n",
       "375. 60\n",
       "376. 64\n",
       "377. 100\n",
       "378. 112\n",
       "379. 92\n",
       "380. 93\n",
       "381. 110\n",
       "382. 108\n",
       "383. 89\n",
       "384. 75\n",
       "385. 105\n",
       "386. 72\n",
       "387. 67\n",
       "388. 79\n",
       "389. 96\n",
       "390. 53\n",
       "391. 97\n",
       "392. 98\n",
       "393. 73\n",
       "394. 90\n",
       "395. 99\n",
       "396. 59\n",
       "397. 112\n",
       "398. 112\n",
       "399. 111\n",
       "400. 88\n",
       "401. 98\n",
       "\n",
       "\n"
      ],
      "text/plain": [
       "  [1]  67  92  60  91  96  85  73 125  72  78 105  89 113  69  61 110  79  78\n",
       " [19]  85 103 105  87  89  72  79  82  91  95 125 107  96  84  84 100  87  66\n",
       " [37] 104 111 100  81  71  93 114  63 123 102 120 105 108  82  80  74  74 111\n",
       " [55]  80  91  94  77  81  79  89  74  72  61 101  82 121  88  69  84 114 104\n",
       " [73]  69 111  97  81  58  89 100  73  75 105  84  85  51 133  62  81  95  85\n",
       " [91]  73  85  76  87 104 103  76  92 112  60 105  71 104  50  68  86 107  68\n",
       "[109]  82  70  93  97  88  61  86  75  75  82  92 116 114  80 118  86  97  68\n",
       "[127] 108  88  96 105 114 120  95  74 109  62  61 112 113 101  71  95  79 104\n",
       "[145]  94  69  72  95  58  90 106  82 104 100 101 113 104  91  99 101  56  95\n",
       "[163]  85  82  97  57  94  80  97  83 112  98  79 107  93  66 101  78 100  94\n",
       "[181]  78  72  90 106  92  99  73  99  84  75 120  91  78  90 105  74  90 110\n",
       "[199] 107  98 101 103  79  93  95  74  66  96  96  92  96  77  72  64 116  81\n",
       "[217]  96  73  90 108  70 118  93 107  86  92 106  69  74  55  94  59 103 126\n",
       "[235]  91 101  92  98  75  96  63 124 109 103  88 109  98  58 102 114  62 101\n",
       "[253] 103  87 115  82  98  92  72  80  94 103  74 124 118  91 118 113  84 100\n",
       "[271] 102  74 104 116  98 117  87  70  76  73 122  92  73  73 102  88 108  79\n",
       "[289]  99  78 103  84 144 116  86 102 144  96  84  86 124  90 144  83 120  81\n",
       "[307]  78 105  96  75  72 107  54  61 102  86  90 108 117  82 110 102  70 102\n",
       "[325]  89 122  90 110  92 110  88 121  76  83  77  98  75 106  96  91 106  72\n",
       "[343]  64  71  81 102  56  90  82  93  70  92 103  65  58  76  93 111  94  87\n",
       "[361]  82 119  98  86  68  91  84 105  88  97  85 115 107  86  39  71  97  66\n",
       "[379] 115  97  79  93  79 124  91  73  77 103 112 113 112 111  77 114 115  60\n",
       "[397]  68 130  73  67 105  67  96  88 108  80  83 121  67  68  94  84  91 100\n",
       "[415] 114  89  90 121  81 115  66  98  74  99  85  85 120  80  83 104 122  93\n",
       "[433]  69  70 123  80  95 102  70  71  75  84  82 108 105 101  86  83  85 114\n",
       "[451]  93 103 109  96  64 106  85 104  85 108  83 101  87  71  84  91  88 105\n",
       "[469]  99  95  76 123  97  60  64 100 112  92  93 110 108  89  75 105  72  67\n",
       "[487]  79  96  53  97  98  73  90  99  59 112 112 111  88  98"
      ]
     },
     "metadata": {},
     "output_type": "display_data"
    }
   ],
   "source": [
    "treesize(model_rf)"
   ]
  },
  {
   "cell_type": "markdown",
   "id": "a63d1752",
   "metadata": {
    "papermill": {
     "duration": 0.028328,
     "end_time": "2022-04-26T00:56:54.071300",
     "exception": false,
     "start_time": "2022-04-26T00:56:54.042972",
     "status": "completed"
    },
    "tags": []
   },
   "source": [
    "## **Prediction** with Random Forest\n",
    "* 학습시킨 Random Forest 모델로 Survived(생존여부) 예측"
   ]
  },
  {
   "cell_type": "code",
   "execution_count": 27,
   "id": "d38a318a",
   "metadata": {
    "execution": {
     "iopub.execute_input": "2022-04-26T00:56:54.131555Z",
     "iopub.status.busy": "2022-04-26T00:56:54.129824Z",
     "iopub.status.idle": "2022-04-26T00:56:54.442982Z",
     "shell.execute_reply": "2022-04-26T00:56:54.440448Z"
    },
    "papermill": {
     "duration": 0.346348,
     "end_time": "2022-04-26T00:56:54.446195",
     "exception": false,
     "start_time": "2022-04-26T00:56:54.099847",
     "status": "completed"
    },
    "tags": []
   },
   "outputs": [
    {
     "name": "stdout",
     "output_type": "stream",
     "text": [
      "[1] \"확률 기반 예측, 0 -> Pred 'Dead', 1 -> Pred 'Survived'\"\n"
     ]
    },
    {
     "data": {
      "text/html": [
       "<table class=\"dataframe\">\n",
       "<caption>A matrix: 10 × 2 of type dbl</caption>\n",
       "<thead>\n",
       "\t<tr><th></th><th scope=col>0</th><th scope=col>1</th></tr>\n",
       "</thead>\n",
       "<tbody>\n",
       "\t<tr><th scope=row>1</th><td>0.938</td><td>0.062</td></tr>\n",
       "\t<tr><th scope=row>2</th><td>0.980</td><td>0.020</td></tr>\n",
       "\t<tr><th scope=row>3</th><td>0.628</td><td>0.372</td></tr>\n",
       "\t<tr><th scope=row>4</th><td>0.298</td><td>0.702</td></tr>\n",
       "\t<tr><th scope=row>5</th><td>0.052</td><td>0.948</td></tr>\n",
       "\t<tr><th scope=row>6</th><td>0.028</td><td>0.972</td></tr>\n",
       "\t<tr><th scope=row>7</th><td>0.384</td><td>0.616</td></tr>\n",
       "\t<tr><th scope=row>8</th><td>0.770</td><td>0.230</td></tr>\n",
       "\t<tr><th scope=row>9</th><td>0.998</td><td>0.002</td></tr>\n",
       "\t<tr><th scope=row>10</th><td>0.998</td><td>0.002</td></tr>\n",
       "</tbody>\n",
       "</table>\n"
      ],
      "text/latex": [
       "A matrix: 10 × 2 of type dbl\n",
       "\\begin{tabular}{r|ll}\n",
       "  & 0 & 1\\\\\n",
       "\\hline\n",
       "\t1 & 0.938 & 0.062\\\\\n",
       "\t2 & 0.980 & 0.020\\\\\n",
       "\t3 & 0.628 & 0.372\\\\\n",
       "\t4 & 0.298 & 0.702\\\\\n",
       "\t5 & 0.052 & 0.948\\\\\n",
       "\t6 & 0.028 & 0.972\\\\\n",
       "\t7 & 0.384 & 0.616\\\\\n",
       "\t8 & 0.770 & 0.230\\\\\n",
       "\t9 & 0.998 & 0.002\\\\\n",
       "\t10 & 0.998 & 0.002\\\\\n",
       "\\end{tabular}\n"
      ],
      "text/markdown": [
       "\n",
       "A matrix: 10 × 2 of type dbl\n",
       "\n",
       "| <!--/--> | 0 | 1 |\n",
       "|---|---|---|\n",
       "| 1 | 0.938 | 0.062 |\n",
       "| 2 | 0.980 | 0.020 |\n",
       "| 3 | 0.628 | 0.372 |\n",
       "| 4 | 0.298 | 0.702 |\n",
       "| 5 | 0.052 | 0.948 |\n",
       "| 6 | 0.028 | 0.972 |\n",
       "| 7 | 0.384 | 0.616 |\n",
       "| 8 | 0.770 | 0.230 |\n",
       "| 9 | 0.998 | 0.002 |\n",
       "| 10 | 0.998 | 0.002 |\n",
       "\n"
      ],
      "text/plain": [
       "   0     1    \n",
       "1  0.938 0.062\n",
       "2  0.980 0.020\n",
       "3  0.628 0.372\n",
       "4  0.298 0.702\n",
       "5  0.052 0.948\n",
       "6  0.028 0.972\n",
       "7  0.384 0.616\n",
       "8  0.770 0.230\n",
       "9  0.998 0.002\n",
       "10 0.998 0.002"
      ]
     },
     "metadata": {},
     "output_type": "display_data"
    },
    {
     "name": "stdout",
     "output_type": "stream",
     "text": [
      "[1] \"확률에 따른 생존여부 분류\"\n"
     ]
    },
    {
     "data": {
      "text/html": [
       "<style>\n",
       ".dl-inline {width: auto; margin:0; padding: 0}\n",
       ".dl-inline>dt, .dl-inline>dd {float: none; width: auto; display: inline-block}\n",
       ".dl-inline>dt::after {content: \":\\0020\"; padding-right: .5ex}\n",
       ".dl-inline>dt:not(:first-of-type) {padding-left: .5ex}\n",
       "</style><dl class=dl-inline><dt>1</dt><dd>0</dd><dt>2</dt><dd>0</dd><dt>3</dt><dd>0</dd><dt>4</dt><dd>1</dd><dt>5</dt><dd>1</dd><dt>6</dt><dd>1</dd><dt>7</dt><dd>1</dd><dt>8</dt><dd>0</dd><dt>9</dt><dd>0</dd><dt>10</dt><dd>0</dd></dl>\n",
       "\n",
       "<details>\n",
       "\t<summary style=display:list-item;cursor:pointer>\n",
       "\t\t<strong>Levels</strong>:\n",
       "\t</summary>\n",
       "\t<style>\n",
       "\t.list-inline {list-style: none; margin:0; padding: 0}\n",
       "\t.list-inline>li {display: inline-block}\n",
       "\t.list-inline>li:not(:last-child)::after {content: \"\\00b7\"; padding: 0 .5ex}\n",
       "\t</style>\n",
       "\t<ol class=list-inline><li>'0'</li><li>'1'</li></ol>\n",
       "</details>"
      ],
      "text/latex": [
       "\\begin{description*}\n",
       "\\item[1] 0\n",
       "\\item[2] 0\n",
       "\\item[3] 0\n",
       "\\item[4] 1\n",
       "\\item[5] 1\n",
       "\\item[6] 1\n",
       "\\item[7] 1\n",
       "\\item[8] 0\n",
       "\\item[9] 0\n",
       "\\item[10] 0\n",
       "\\end{description*}\n",
       "\n",
       "\\emph{Levels}: \\begin{enumerate*}\n",
       "\\item '0'\n",
       "\\item '1'\n",
       "\\end{enumerate*}\n"
      ],
      "text/markdown": [
       "1\n",
       ":   02\n",
       ":   03\n",
       ":   04\n",
       ":   15\n",
       ":   16\n",
       ":   17\n",
       ":   18\n",
       ":   09\n",
       ":   010\n",
       ":   0\n",
       "\n",
       "\n",
       "**Levels**: 1. '0'\n",
       "2. '1'\n",
       "\n",
       "\n"
      ],
      "text/plain": [
       " 1  2  3  4  5  6  7  8  9 10 \n",
       " 0  0  0  1  1  1  1  0  0  0 \n",
       "Levels: 0 1"
      ]
     },
     "metadata": {},
     "output_type": "display_data"
    }
   ],
   "source": [
    "print(\"확률 기반 예측, 0 -> Pred 'Dead', 1 -> Pred 'Survived'\")\n",
    "predict(model_rf, newdata = independent, type='prob')\n",
    "\n",
    "print(\"확률에 따른 생존여부 분류\")\n",
    "predict(model_rf, newdata = independent, type='class')"
   ]
  },
  {
   "cell_type": "code",
   "execution_count": 28,
   "id": "f4e42d8d",
   "metadata": {
    "execution": {
     "iopub.execute_input": "2022-04-26T00:56:54.507909Z",
     "iopub.status.busy": "2022-04-26T00:56:54.506217Z",
     "iopub.status.idle": "2022-04-26T00:56:54.543174Z",
     "shell.execute_reply": "2022-04-26T00:56:54.540846Z"
    },
    "papermill": {
     "duration": 0.071019,
     "end_time": "2022-04-26T00:56:54.546225",
     "exception": false,
     "start_time": "2022-04-26T00:56:54.475206",
     "status": "completed"
    },
    "tags": []
   },
   "outputs": [
    {
     "data": {
      "text/html": [
       "<table class=\"dataframe\">\n",
       "<caption>A data.frame: 10 × 2</caption>\n",
       "<thead>\n",
       "\t<tr><th></th><th scope=col>reference</th><th scope=col>predict</th></tr>\n",
       "\t<tr><th></th><th scope=col>&lt;fct&gt;</th><th scope=col>&lt;fct&gt;</th></tr>\n",
       "</thead>\n",
       "<tbody>\n",
       "\t<tr><th scope=row>1</th><td>1</td><td>0</td></tr>\n",
       "\t<tr><th scope=row>2</th><td>0</td><td>0</td></tr>\n",
       "\t<tr><th scope=row>3</th><td>0</td><td>0</td></tr>\n",
       "\t<tr><th scope=row>4</th><td>1</td><td>1</td></tr>\n",
       "\t<tr><th scope=row>5</th><td>1</td><td>1</td></tr>\n",
       "\t<tr><th scope=row>6</th><td>1</td><td>1</td></tr>\n",
       "\t<tr><th scope=row>7</th><td>1</td><td>1</td></tr>\n",
       "\t<tr><th scope=row>8</th><td>0</td><td>0</td></tr>\n",
       "\t<tr><th scope=row>9</th><td>0</td><td>0</td></tr>\n",
       "\t<tr><th scope=row>10</th><td>0</td><td>0</td></tr>\n",
       "</tbody>\n",
       "</table>\n"
      ],
      "text/latex": [
       "A data.frame: 10 × 2\n",
       "\\begin{tabular}{r|ll}\n",
       "  & reference & predict\\\\\n",
       "  & <fct> & <fct>\\\\\n",
       "\\hline\n",
       "\t1 & 1 & 0\\\\\n",
       "\t2 & 0 & 0\\\\\n",
       "\t3 & 0 & 0\\\\\n",
       "\t4 & 1 & 1\\\\\n",
       "\t5 & 1 & 1\\\\\n",
       "\t6 & 1 & 1\\\\\n",
       "\t7 & 1 & 1\\\\\n",
       "\t8 & 0 & 0\\\\\n",
       "\t9 & 0 & 0\\\\\n",
       "\t10 & 0 & 0\\\\\n",
       "\\end{tabular}\n"
      ],
      "text/markdown": [
       "\n",
       "A data.frame: 10 × 2\n",
       "\n",
       "| <!--/--> | reference &lt;fct&gt; | predict &lt;fct&gt; |\n",
       "|---|---|---|\n",
       "| 1 | 1 | 0 |\n",
       "| 2 | 0 | 0 |\n",
       "| 3 | 0 | 0 |\n",
       "| 4 | 1 | 1 |\n",
       "| 5 | 1 | 1 |\n",
       "| 6 | 1 | 1 |\n",
       "| 7 | 1 | 1 |\n",
       "| 8 | 0 | 0 |\n",
       "| 9 | 0 | 0 |\n",
       "| 10 | 0 | 0 |\n",
       "\n"
      ],
      "text/plain": [
       "   reference predict\n",
       "1  1         0      \n",
       "2  0         0      \n",
       "3  0         0      \n",
       "4  1         1      \n",
       "5  1         1      \n",
       "6  1         1      \n",
       "7  1         1      \n",
       "8  0         0      \n",
       "9  0         0      \n",
       "10 0         0      "
      ]
     },
     "metadata": {},
     "output_type": "display_data"
    }
   ],
   "source": [
    "predict_by_rf <- predict(model_rf, newdata = independent, type='class')\n",
    "\n",
    "# 원본 데이터의 생존여부 (정답)과 의사결정나무 모델을 통한 예측 결과를 대조\n",
    "data.frame(reference = test_sample$Survived, \n",
    "           predict = predict_by_rf)"
   ]
  },
  {
   "cell_type": "markdown",
   "id": "d9f37572",
   "metadata": {
    "papermill": {
     "duration": 0.029778,
     "end_time": "2022-04-26T00:56:54.606923",
     "exception": false,
     "start_time": "2022-04-26T00:56:54.577145",
     "status": "completed"
    },
    "tags": []
   },
   "source": [
    "# 3) Naive Bayes Classifier\n",
    "## **타이타닉 데이터로 보는 나이브베이즈 분류 모델**\n",
    "* **나이브 베이즈 분류**: 특성 간의 '독립'을 가정하는 **베이즈 정리**를 적용한 확률 기반 분류기 모델\n",
    "* **naivebayes** Library 사용"
   ]
  },
  {
   "cell_type": "code",
   "execution_count": 29,
   "id": "a816978a",
   "metadata": {
    "execution": {
     "iopub.execute_input": "2022-04-26T00:56:54.669464Z",
     "iopub.status.busy": "2022-04-26T00:56:54.667865Z",
     "iopub.status.idle": "2022-04-26T00:56:54.705087Z",
     "shell.execute_reply": "2022-04-26T00:56:54.703110Z"
    },
    "papermill": {
     "duration": 0.071059,
     "end_time": "2022-04-26T00:56:54.707560",
     "exception": false,
     "start_time": "2022-04-26T00:56:54.636501",
     "status": "completed"
    },
    "tags": []
   },
   "outputs": [
    {
     "name": "stderr",
     "output_type": "stream",
     "text": [
      "naivebayes 0.9.7 loaded\n",
      "\n"
     ]
    }
   ],
   "source": [
    "library(naivebayes)"
   ]
  },
  {
   "cell_type": "markdown",
   "id": "b0d12aca",
   "metadata": {
    "papermill": {
     "duration": 0.029354,
     "end_time": "2022-04-26T00:56:54.766369",
     "exception": false,
     "start_time": "2022-04-26T00:56:54.737015",
     "status": "completed"
    },
    "tags": []
   },
   "source": [
    "## **Training** with Naive Bayes Classifier\n",
    "* Naive Bayes 모델 학습"
   ]
  },
  {
   "cell_type": "code",
   "execution_count": 30,
   "id": "f6e42cea",
   "metadata": {
    "execution": {
     "iopub.execute_input": "2022-04-26T00:56:54.829118Z",
     "iopub.status.busy": "2022-04-26T00:56:54.827596Z",
     "iopub.status.idle": "2022-04-26T00:56:54.851080Z",
     "shell.execute_reply": "2022-04-26T00:56:54.848876Z"
    },
    "papermill": {
     "duration": 0.05762,
     "end_time": "2022-04-26T00:56:54.854022",
     "exception": false,
     "start_time": "2022-04-26T00:56:54.796402",
     "status": "completed"
    },
    "tags": []
   },
   "outputs": [
    {
     "name": "stdout",
     "output_type": "stream",
     "text": [
      "\n",
      "================================== Naive Bayes ================================== \n",
      " \n",
      "- Call: naive_bayes.formula(formula = Survived ~ ., data = train_final) \n",
      "- Laplace: 0 \n",
      "- Classes: 2 \n",
      "- Samples: 891 \n",
      "- Features: 7 \n",
      "- Conditional distributions: \n",
      "    - Bernoulli: 1\n",
      "    - Categorical: 2\n",
      "    - Gaussian: 4\n",
      "- Prior probabilities: \n",
      "    - 0: 0.6162\n",
      "    - 1: 0.3838\n",
      "\n",
      "--------------------------------------------------------------------------------- \n"
     ]
    }
   ],
   "source": [
    "model_nb <- naive_bayes(Survived ~.,\n",
    "                       data = train_final)\n",
    "summary(model_nb)"
   ]
  },
  {
   "cell_type": "code",
   "execution_count": 31,
   "id": "f353a40c",
   "metadata": {
    "execution": {
     "iopub.execute_input": "2022-04-26T00:56:54.917892Z",
     "iopub.status.busy": "2022-04-26T00:56:54.916137Z",
     "iopub.status.idle": "2022-04-26T00:56:55.110857Z",
     "shell.execute_reply": "2022-04-26T00:56:55.107895Z"
    },
    "papermill": {
     "duration": 0.229212,
     "end_time": "2022-04-26T00:56:55.113932",
     "exception": false,
     "start_time": "2022-04-26T00:56:54.884720",
     "status": "completed"
    },
    "tags": []
   },
   "outputs": [
    {
     "data": {
      "image/png": "[encoded data removed]"
     },
     "metadata": {
      "image/png": {
       "height": 420,
       "width": 420
      }
     },
     "output_type": "display_data"
    },
    {
     "data": {
      "image/png": "[encoded data removed]"
     },
     "metadata": {
      "image/png": {
       "height": 420,
       "width": 420
      }
     },
     "output_type": "display_data"
    }
   ],
   "source": [
    "par(mfrow=c(2,2))\n",
    "plot(model_nb)"
   ]
  },
  {
   "cell_type": "markdown",
   "id": "d1e08331",
   "metadata": {
    "papermill": {
     "duration": 0.031556,
     "end_time": "2022-04-26T00:56:55.177337",
     "exception": false,
     "start_time": "2022-04-26T00:56:55.145781",
     "status": "completed"
    },
    "tags": []
   },
   "source": [
    "## **Prediction** with Naive Bayes Classifier\n",
    "* 학습시킨 Naive Bayes Classifier 모델로 Survived(생존여부) 예측"
   ]
  },
  {
   "cell_type": "code",
   "execution_count": 32,
   "id": "d4e0d70d",
   "metadata": {
    "execution": {
     "iopub.execute_input": "2022-04-26T00:56:55.243236Z",
     "iopub.status.busy": "2022-04-26T00:56:55.241477Z",
     "iopub.status.idle": "2022-04-26T00:56:55.271521Z",
     "shell.execute_reply": "2022-04-26T00:56:55.269345Z"
    },
    "papermill": {
     "duration": 0.066183,
     "end_time": "2022-04-26T00:56:55.274831",
     "exception": false,
     "start_time": "2022-04-26T00:56:55.208648",
     "status": "completed"
    },
    "tags": []
   },
   "outputs": [
    {
     "name": "stdout",
     "output_type": "stream",
     "text": [
      "[1] \"생존여부 분류\"\n"
     ]
    },
    {
     "data": {
      "text/html": [
       "<style>\n",
       ".list-inline {list-style: none; margin:0; padding: 0}\n",
       ".list-inline>li {display: inline-block}\n",
       ".list-inline>li:not(:last-child)::after {content: \"\\00b7\"; padding: 0 .5ex}\n",
       "</style>\n",
       "<ol class=list-inline><li>0</li><li>0</li><li>0</li><li>0</li><li>0</li><li>1</li><li>1</li><li>1</li><li>0</li><li>0</li></ol>\n",
       "\n",
       "<details>\n",
       "\t<summary style=display:list-item;cursor:pointer>\n",
       "\t\t<strong>Levels</strong>:\n",
       "\t</summary>\n",
       "\t<style>\n",
       "\t.list-inline {list-style: none; margin:0; padding: 0}\n",
       "\t.list-inline>li {display: inline-block}\n",
       "\t.list-inline>li:not(:last-child)::after {content: \"\\00b7\"; padding: 0 .5ex}\n",
       "\t</style>\n",
       "\t<ol class=list-inline><li>'0'</li><li>'1'</li></ol>\n",
       "</details>"
      ],
      "text/latex": [
       "\\begin{enumerate*}\n",
       "\\item 0\n",
       "\\item 0\n",
       "\\item 0\n",
       "\\item 0\n",
       "\\item 0\n",
       "\\item 1\n",
       "\\item 1\n",
       "\\item 1\n",
       "\\item 0\n",
       "\\item 0\n",
       "\\end{enumerate*}\n",
       "\n",
       "\\emph{Levels}: \\begin{enumerate*}\n",
       "\\item '0'\n",
       "\\item '1'\n",
       "\\end{enumerate*}\n"
      ],
      "text/markdown": [
       "1. 0\n",
       "2. 0\n",
       "3. 0\n",
       "4. 0\n",
       "5. 0\n",
       "6. 1\n",
       "7. 1\n",
       "8. 1\n",
       "9. 0\n",
       "10. 0\n",
       "\n",
       "\n",
       "\n",
       "**Levels**: 1. '0'\n",
       "2. '1'\n",
       "\n",
       "\n"
      ],
      "text/plain": [
       " [1] 0 0 0 0 0 1 1 1 0 0\n",
       "Levels: 0 1"
      ]
     },
     "metadata": {},
     "output_type": "display_data"
    }
   ],
   "source": [
    "print(\"생존여부 분류\")\n",
    "predict(model_nb, newdata = independent, type='class')"
   ]
  },
  {
   "cell_type": "code",
   "execution_count": 33,
   "id": "26848c20",
   "metadata": {
    "execution": {
     "iopub.execute_input": "2022-04-26T00:56:55.341495Z",
     "iopub.status.busy": "2022-04-26T00:56:55.339851Z",
     "iopub.status.idle": "2022-04-26T00:56:55.367502Z",
     "shell.execute_reply": "2022-04-26T00:56:55.365344Z"
    },
    "papermill": {
     "duration": 0.063848,
     "end_time": "2022-04-26T00:56:55.370331",
     "exception": false,
     "start_time": "2022-04-26T00:56:55.306483",
     "status": "completed"
    },
    "tags": []
   },
   "outputs": [
    {
     "data": {
      "text/html": [
       "<table class=\"dataframe\">\n",
       "<caption>A data.frame: 10 × 2</caption>\n",
       "<thead>\n",
       "\t<tr><th scope=col>reference</th><th scope=col>predict</th></tr>\n",
       "\t<tr><th scope=col>&lt;fct&gt;</th><th scope=col>&lt;fct&gt;</th></tr>\n",
       "</thead>\n",
       "<tbody>\n",
       "\t<tr><td>1</td><td>0</td></tr>\n",
       "\t<tr><td>0</td><td>0</td></tr>\n",
       "\t<tr><td>0</td><td>0</td></tr>\n",
       "\t<tr><td>1</td><td>0</td></tr>\n",
       "\t<tr><td>1</td><td>0</td></tr>\n",
       "\t<tr><td>1</td><td>1</td></tr>\n",
       "\t<tr><td>1</td><td>1</td></tr>\n",
       "\t<tr><td>0</td><td>1</td></tr>\n",
       "\t<tr><td>0</td><td>0</td></tr>\n",
       "\t<tr><td>0</td><td>0</td></tr>\n",
       "</tbody>\n",
       "</table>\n"
      ],
      "text/latex": [
       "A data.frame: 10 × 2\n",
       "\\begin{tabular}{ll}\n",
       " reference & predict\\\\\n",
       " <fct> & <fct>\\\\\n",
       "\\hline\n",
       "\t 1 & 0\\\\\n",
       "\t 0 & 0\\\\\n",
       "\t 0 & 0\\\\\n",
       "\t 1 & 0\\\\\n",
       "\t 1 & 0\\\\\n",
       "\t 1 & 1\\\\\n",
       "\t 1 & 1\\\\\n",
       "\t 0 & 1\\\\\n",
       "\t 0 & 0\\\\\n",
       "\t 0 & 0\\\\\n",
       "\\end{tabular}\n"
      ],
      "text/markdown": [
       "\n",
       "A data.frame: 10 × 2\n",
       "\n",
       "| reference &lt;fct&gt; | predict &lt;fct&gt; |\n",
       "|---|---|\n",
       "| 1 | 0 |\n",
       "| 0 | 0 |\n",
       "| 0 | 0 |\n",
       "| 1 | 0 |\n",
       "| 1 | 0 |\n",
       "| 1 | 1 |\n",
       "| 1 | 1 |\n",
       "| 0 | 1 |\n",
       "| 0 | 0 |\n",
       "| 0 | 0 |\n",
       "\n"
      ],
      "text/plain": [
       "   reference predict\n",
       "1  1         0      \n",
       "2  0         0      \n",
       "3  0         0      \n",
       "4  1         0      \n",
       "5  1         0      \n",
       "6  1         1      \n",
       "7  1         1      \n",
       "8  0         1      \n",
       "9  0         0      \n",
       "10 0         0      "
      ]
     },
     "metadata": {},
     "output_type": "display_data"
    }
   ],
   "source": [
    "predict_by_nb <- predict(model_nb, newdata = independent, type='class')\n",
    "\n",
    "# 원본 데이터의 생존여부 (정답)과 의사결정나무 모델을 통한 예측 결과를 대조\n",
    "data.frame(reference = test_sample$Survived, \n",
    "           predict = predict_by_nb)"
   ]
  },
  {
   "cell_type": "markdown",
   "id": "769450ec",
   "metadata": {
    "papermill": {
     "duration": 0.031435,
     "end_time": "2022-04-26T00:56:55.433431",
     "exception": false,
     "start_time": "2022-04-26T00:56:55.401996",
     "status": "completed"
    },
    "tags": []
   },
   "source": [
    "# 4) Decision Tree vs. Random Forest vs. Naive Bayes Classifier\n",
    "* 의사결정나무와 랜덤포레스트, 나이브베이즈 분류기 모델 성능 대조"
   ]
  },
  {
   "cell_type": "code",
   "execution_count": 34,
   "id": "5f4d4e5e",
   "metadata": {
    "execution": {
     "iopub.execute_input": "2022-04-26T00:56:55.500938Z",
     "iopub.status.busy": "2022-04-26T00:56:55.499229Z",
     "iopub.status.idle": "2022-04-26T00:56:55.526025Z",
     "shell.execute_reply": "2022-04-26T00:56:55.524035Z"
    },
    "papermill": {
     "duration": 0.062729,
     "end_time": "2022-04-26T00:56:55.528695",
     "exception": false,
     "start_time": "2022-04-26T00:56:55.465966",
     "status": "completed"
    },
    "tags": []
   },
   "outputs": [
    {
     "data": {
      "text/html": [
       "<table class=\"dataframe\">\n",
       "<caption>A data.frame: 10 × 4</caption>\n",
       "<thead>\n",
       "\t<tr><th></th><th scope=col>reference</th><th scope=col>DT</th><th scope=col>RF</th><th scope=col>NB</th></tr>\n",
       "\t<tr><th></th><th scope=col>&lt;fct&gt;</th><th scope=col>&lt;fct&gt;</th><th scope=col>&lt;fct&gt;</th><th scope=col>&lt;fct&gt;</th></tr>\n",
       "</thead>\n",
       "<tbody>\n",
       "\t<tr><th scope=row>1</th><td>1</td><td>0</td><td>0</td><td>0</td></tr>\n",
       "\t<tr><th scope=row>2</th><td>0</td><td>0</td><td>0</td><td>0</td></tr>\n",
       "\t<tr><th scope=row>3</th><td>0</td><td>1</td><td>0</td><td>0</td></tr>\n",
       "\t<tr><th scope=row>4</th><td>1</td><td>0</td><td>1</td><td>0</td></tr>\n",
       "\t<tr><th scope=row>5</th><td>1</td><td>1</td><td>1</td><td>0</td></tr>\n",
       "\t<tr><th scope=row>6</th><td>1</td><td>1</td><td>1</td><td>1</td></tr>\n",
       "\t<tr><th scope=row>7</th><td>1</td><td>0</td><td>1</td><td>1</td></tr>\n",
       "\t<tr><th scope=row>8</th><td>0</td><td>0</td><td>0</td><td>1</td></tr>\n",
       "\t<tr><th scope=row>9</th><td>0</td><td>0</td><td>0</td><td>0</td></tr>\n",
       "\t<tr><th scope=row>10</th><td>0</td><td>0</td><td>0</td><td>0</td></tr>\n",
       "</tbody>\n",
       "</table>\n"
      ],
      "text/latex": [
       "A data.frame: 10 × 4\n",
       "\\begin{tabular}{r|llll}\n",
       "  & reference & DT & RF & NB\\\\\n",
       "  & <fct> & <fct> & <fct> & <fct>\\\\\n",
       "\\hline\n",
       "\t1 & 1 & 0 & 0 & 0\\\\\n",
       "\t2 & 0 & 0 & 0 & 0\\\\\n",
       "\t3 & 0 & 1 & 0 & 0\\\\\n",
       "\t4 & 1 & 0 & 1 & 0\\\\\n",
       "\t5 & 1 & 1 & 1 & 0\\\\\n",
       "\t6 & 1 & 1 & 1 & 1\\\\\n",
       "\t7 & 1 & 0 & 1 & 1\\\\\n",
       "\t8 & 0 & 0 & 0 & 1\\\\\n",
       "\t9 & 0 & 0 & 0 & 0\\\\\n",
       "\t10 & 0 & 0 & 0 & 0\\\\\n",
       "\\end{tabular}\n"
      ],
      "text/markdown": [
       "\n",
       "A data.frame: 10 × 4\n",
       "\n",
       "| <!--/--> | reference &lt;fct&gt; | DT &lt;fct&gt; | RF &lt;fct&gt; | NB &lt;fct&gt; |\n",
       "|---|---|---|---|---|\n",
       "| 1 | 1 | 0 | 0 | 0 |\n",
       "| 2 | 0 | 0 | 0 | 0 |\n",
       "| 3 | 0 | 1 | 0 | 0 |\n",
       "| 4 | 1 | 0 | 1 | 0 |\n",
       "| 5 | 1 | 1 | 1 | 0 |\n",
       "| 6 | 1 | 1 | 1 | 1 |\n",
       "| 7 | 1 | 0 | 1 | 1 |\n",
       "| 8 | 0 | 0 | 0 | 1 |\n",
       "| 9 | 0 | 0 | 0 | 0 |\n",
       "| 10 | 0 | 0 | 0 | 0 |\n",
       "\n"
      ],
      "text/plain": [
       "   reference DT RF NB\n",
       "1  1         0  0  0 \n",
       "2  0         0  0  0 \n",
       "3  0         1  0  0 \n",
       "4  1         0  1  0 \n",
       "5  1         1  1  0 \n",
       "6  1         1  1  1 \n",
       "7  1         0  1  1 \n",
       "8  0         0  0  1 \n",
       "9  0         0  0  0 \n",
       "10 0         0  0  0 "
      ]
     },
     "metadata": {},
     "output_type": "display_data"
    }
   ],
   "source": [
    "data.frame(reference=test_sample$Survived, \n",
    "           DT = predict_by_tree,\n",
    "           RF = predict_by_rf,\n",
    "           NB = predict_by_nb)"
   ]
  },
  {
   "cell_type": "code",
   "execution_count": 35,
   "id": "77e5c452",
   "metadata": {
    "execution": {
     "iopub.execute_input": "2022-04-26T00:56:55.605277Z",
     "iopub.status.busy": "2022-04-26T00:56:55.602755Z",
     "iopub.status.idle": "2022-04-26T00:56:55.657557Z",
     "shell.execute_reply": "2022-04-26T00:56:55.655487Z"
    },
    "papermill": {
     "duration": 0.098989,
     "end_time": "2022-04-26T00:56:55.660092",
     "exception": false,
     "start_time": "2022-04-26T00:56:55.561103",
     "status": "completed"
    },
    "tags": []
   },
   "outputs": [],
   "source": [
    "# row 100개를 추출해 Decision Tree와 Random Forest 정확도 비교\n",
    "test <- train_final %>% sample_n(100)\n",
    "\n",
    "independent2 <- test[c(-1)]\n",
    "predict_by_tree2 <- predict(model_tree, newdata = independent2, type='class')\n",
    "predict_by_rf2 <- predict(model_rf, newdata = independent2, type='class')\n",
    "predict_by_nb2 <- predict(model_nb, newdata = independent2, type='class')"
   ]
  },
  {
   "cell_type": "code",
   "execution_count": 36,
   "id": "1561a4b3",
   "metadata": {
    "execution": {
     "iopub.execute_input": "2022-04-26T00:56:55.733690Z",
     "iopub.status.busy": "2022-04-26T00:56:55.732018Z",
     "iopub.status.idle": "2022-04-26T00:56:55.776264Z",
     "shell.execute_reply": "2022-04-26T00:56:55.766951Z"
    },
    "papermill": {
     "duration": 0.080918,
     "end_time": "2022-04-26T00:56:55.779136",
     "exception": false,
     "start_time": "2022-04-26T00:56:55.698218",
     "status": "completed"
    },
    "tags": []
   },
   "outputs": [
    {
     "data": {
      "text/html": [
       "<table class=\"dataframe\">\n",
       "<caption>A data.frame: 10 × 7</caption>\n",
       "<thead>\n",
       "\t<tr><th></th><th scope=col>reference</th><th scope=col>DT</th><th scope=col>RF</th><th scope=col>NB</th><th scope=col>DT_score</th><th scope=col>RF_score</th><th scope=col>NB_score</th></tr>\n",
       "\t<tr><th></th><th scope=col>&lt;fct&gt;</th><th scope=col>&lt;fct&gt;</th><th scope=col>&lt;fct&gt;</th><th scope=col>&lt;fct&gt;</th><th scope=col>&lt;dbl&gt;</th><th scope=col>&lt;dbl&gt;</th><th scope=col>&lt;dbl&gt;</th></tr>\n",
       "</thead>\n",
       "<tbody>\n",
       "\t<tr><th scope=row>1</th><td>1</td><td>0</td><td>0</td><td>0</td><td>0</td><td>0</td><td>0</td></tr>\n",
       "\t<tr><th scope=row>2</th><td>1</td><td>1</td><td>1</td><td>0</td><td>1</td><td>1</td><td>0</td></tr>\n",
       "\t<tr><th scope=row>3</th><td>1</td><td>0</td><td>1</td><td>0</td><td>0</td><td>1</td><td>0</td></tr>\n",
       "\t<tr><th scope=row>4</th><td>1</td><td>1</td><td>1</td><td>1</td><td>1</td><td>1</td><td>1</td></tr>\n",
       "\t<tr><th scope=row>5</th><td>0</td><td>1</td><td>0</td><td>1</td><td>0</td><td>1</td><td>0</td></tr>\n",
       "\t<tr><th scope=row>6</th><td>0</td><td>0</td><td>0</td><td>0</td><td>1</td><td>1</td><td>1</td></tr>\n",
       "\t<tr><th scope=row>7</th><td>1</td><td>1</td><td>1</td><td>1</td><td>1</td><td>1</td><td>1</td></tr>\n",
       "\t<tr><th scope=row>8</th><td>1</td><td>1</td><td>1</td><td>1</td><td>1</td><td>1</td><td>1</td></tr>\n",
       "\t<tr><th scope=row>9</th><td>1</td><td>1</td><td>1</td><td>1</td><td>1</td><td>1</td><td>1</td></tr>\n",
       "\t<tr><th scope=row>10</th><td>0</td><td>0</td><td>0</td><td>0</td><td>1</td><td>1</td><td>1</td></tr>\n",
       "</tbody>\n",
       "</table>\n"
      ],
      "text/latex": [
       "A data.frame: 10 × 7\n",
       "\\begin{tabular}{r|lllllll}\n",
       "  & reference & DT & RF & NB & DT\\_score & RF\\_score & NB\\_score\\\\\n",
       "  & <fct> & <fct> & <fct> & <fct> & <dbl> & <dbl> & <dbl>\\\\\n",
       "\\hline\n",
       "\t1 & 1 & 0 & 0 & 0 & 0 & 0 & 0\\\\\n",
       "\t2 & 1 & 1 & 1 & 0 & 1 & 1 & 0\\\\\n",
       "\t3 & 1 & 0 & 1 & 0 & 0 & 1 & 0\\\\\n",
       "\t4 & 1 & 1 & 1 & 1 & 1 & 1 & 1\\\\\n",
       "\t5 & 0 & 1 & 0 & 1 & 0 & 1 & 0\\\\\n",
       "\t6 & 0 & 0 & 0 & 0 & 1 & 1 & 1\\\\\n",
       "\t7 & 1 & 1 & 1 & 1 & 1 & 1 & 1\\\\\n",
       "\t8 & 1 & 1 & 1 & 1 & 1 & 1 & 1\\\\\n",
       "\t9 & 1 & 1 & 1 & 1 & 1 & 1 & 1\\\\\n",
       "\t10 & 0 & 0 & 0 & 0 & 1 & 1 & 1\\\\\n",
       "\\end{tabular}\n"
      ],
      "text/markdown": [
       "\n",
       "A data.frame: 10 × 7\n",
       "\n",
       "| <!--/--> | reference &lt;fct&gt; | DT &lt;fct&gt; | RF &lt;fct&gt; | NB &lt;fct&gt; | DT_score &lt;dbl&gt; | RF_score &lt;dbl&gt; | NB_score &lt;dbl&gt; |\n",
       "|---|---|---|---|---|---|---|---|\n",
       "| 1 | 1 | 0 | 0 | 0 | 0 | 0 | 0 |\n",
       "| 2 | 1 | 1 | 1 | 0 | 1 | 1 | 0 |\n",
       "| 3 | 1 | 0 | 1 | 0 | 0 | 1 | 0 |\n",
       "| 4 | 1 | 1 | 1 | 1 | 1 | 1 | 1 |\n",
       "| 5 | 0 | 1 | 0 | 1 | 0 | 1 | 0 |\n",
       "| 6 | 0 | 0 | 0 | 0 | 1 | 1 | 1 |\n",
       "| 7 | 1 | 1 | 1 | 1 | 1 | 1 | 1 |\n",
       "| 8 | 1 | 1 | 1 | 1 | 1 | 1 | 1 |\n",
       "| 9 | 1 | 1 | 1 | 1 | 1 | 1 | 1 |\n",
       "| 10 | 0 | 0 | 0 | 0 | 1 | 1 | 1 |\n",
       "\n"
      ],
      "text/plain": [
       "   reference DT RF NB DT_score RF_score NB_score\n",
       "1  1         0  0  0  0        0        0       \n",
       "2  1         1  1  0  1        1        0       \n",
       "3  1         0  1  0  0        1        0       \n",
       "4  1         1  1  1  1        1        1       \n",
       "5  0         1  0  1  0        1        0       \n",
       "6  0         0  0  0  1        1        1       \n",
       "7  1         1  1  1  1        1        1       \n",
       "8  1         1  1  1  1        1        1       \n",
       "9  1         1  1  1  1        1        1       \n",
       "10 0         0  0  0  1        1        1       "
      ]
     },
     "metadata": {},
     "output_type": "display_data"
    }
   ],
   "source": [
    "test_df <- data.frame(reference = test$Survived,\n",
    "                      DT = predict_by_tree2,\n",
    "                      RF = predict_by_rf2,\n",
    "                      NB = predict_by_nb2)\n",
    "\n",
    "# 정답값과 일치여부를 DT_score, RF_score 칼럼을 생성해 확인\n",
    "test_score <- test_df %>% mutate(DT_score = ifelse(reference == DT, 1, 0),\n",
    "                                 RF_score = ifelse(reference == RF, 1, 0),\n",
    "                                 NB_score = ifelse(reference == NB, 1, 0))\n",
    "\n",
    "head(test_score, 10)"
   ]
  },
  {
   "cell_type": "markdown",
   "id": "8225d2cc",
   "metadata": {
    "papermill": {
     "duration": 0.032333,
     "end_time": "2022-04-26T00:56:55.843811",
     "exception": false,
     "start_time": "2022-04-26T00:56:55.811478",
     "status": "completed"
    },
    "tags": []
   },
   "source": [
    "* **Accuracy** (정확도) 지표 확인"
   ]
  },
  {
   "cell_type": "code",
   "execution_count": 37,
   "id": "2a7d6752",
   "metadata": {
    "execution": {
     "iopub.execute_input": "2022-04-26T00:56:55.911987Z",
     "iopub.status.busy": "2022-04-26T00:56:55.910367Z",
     "iopub.status.idle": "2022-04-26T00:56:55.929343Z",
     "shell.execute_reply": "2022-04-26T00:56:55.927465Z"
    },
    "papermill": {
     "duration": 0.055527,
     "end_time": "2022-04-26T00:56:55.931734",
     "exception": false,
     "start_time": "2022-04-26T00:56:55.876207",
     "status": "completed"
    },
    "tags": []
   },
   "outputs": [
    {
     "data": {
      "text/html": [
       "<style>\n",
       ".dl-inline {width: auto; margin:0; padding: 0}\n",
       ".dl-inline>dt, .dl-inline>dd {float: none; width: auto; display: inline-block}\n",
       ".dl-inline>dt::after {content: \":\\0020\"; padding-right: .5ex}\n",
       ".dl-inline>dt:not(:first-of-type) {padding-left: .5ex}\n",
       "</style><dl class=dl-inline><dt>DT_score</dt><dd>77</dd><dt>RF_score</dt><dd>90</dd><dt>NB_score</dt><dd>79</dd></dl>\n"
      ],
      "text/latex": [
       "\\begin{description*}\n",
       "\\item[DT\\textbackslash{}\\_score] 77\n",
       "\\item[RF\\textbackslash{}\\_score] 90\n",
       "\\item[NB\\textbackslash{}\\_score] 79\n",
       "\\end{description*}\n"
      ],
      "text/markdown": [
       "DT_score\n",
       ":   77RF_score\n",
       ":   90NB_score\n",
       ":   79\n",
       "\n"
      ],
      "text/plain": [
       "DT_score RF_score NB_score \n",
       "      77       90       79 "
      ]
     },
     "metadata": {},
     "output_type": "display_data"
    }
   ],
   "source": [
    "apply(test_score[c(5:7)], 2, sum)"
   ]
  },
  {
   "attachments": {
    "4d7866e7-7b37-40dc-abda-67a4f623549f.png": {
     "image/png": "[encoded data removed]"
    },
    "5543d0c2-3541-4f8b-ae2e-93569b44f853.png": {
     "image/png": "[encoded data removed]"
    },
    "c2441f9e-1e14-4ec9-8c2d-af9ebe5760e9.png": {
     "image/png": "[encoded data removed]"
    },
    "d41d1277-d056-4c00-80ef-55b6f9751af5.png": {
     "image/png": "[encoded data removed]"
    }
   },
   "cell_type": "markdown",
   "id": "0d674be6",
   "metadata": {
    "papermill": {
     "duration": 0.115756,
     "end_time": "2022-04-26T00:56:56.080070",
     "exception": false,
     "start_time": "2022-04-26T00:56:55.964314",
     "status": "completed"
    },
    "tags": []
   },
   "source": [
    "# 5) ROC Curves\n",
    "### ROC (Receiver Operating Characteristic) Curve\n",
    "* ROC Curve는 모델 성능 평가 지표 중 하나!\n",
    "\n",
    "### ROC Curve 구하는 법\n",
    "* **Confusion Matrix (혼동행렬)**: 실제 정답과 분류 결과 간의 관계를 나타낸 표\n",
    "\n",
    "![image.png](attachment:4d7866e7-7b37-40dc-abda-67a4f623549f.png)\n",
    "\n",
    "* **Recall (재현율)**: *실제로 True*인 것 중, 모델이 *True*라고 분류한 비율\n",
    "\n",
    "![image.png](attachment:c2441f9e-1e14-4ec9-8c2d-af9ebe5760e9.png)\n",
    "\n",
    "* **Fall-out (FRR, False Positive Rate)**: 실제 *False*인 것 중, 모델이 *True라고 분류*한 것의 비율\n",
    "\n",
    "![image.png](attachment:d41d1277-d056-4c00-80ef-55b6f9751af5.png)\n",
    "\n",
    "\n",
    "* **ROC Curve**는 **Fall-out에 따른 Recall의 변화**를 시각화한 것\n",
    "\n",
    "![image.png](attachment:5543d0c2-3541-4f8b-ae2e-93569b44f853.png)\n",
    "\n",
    "* Curve가 왼쪽 위 모서리에 가까워, **Recall이 크고, Fall-out이 작은** 모형이 **예측률이 좋은 모형**!\n",
    "* **pROC** Library 사용"
   ]
  },
  {
   "cell_type": "code",
   "execution_count": 38,
   "id": "7a9bc496",
   "metadata": {
    "execution": {
     "iopub.execute_input": "2022-04-26T00:56:56.151259Z",
     "iopub.status.busy": "2022-04-26T00:56:56.149498Z",
     "iopub.status.idle": "2022-04-26T00:56:56.232789Z",
     "shell.execute_reply": "2022-04-26T00:56:56.229466Z"
    },
    "papermill": {
     "duration": 0.122047,
     "end_time": "2022-04-26T00:56:56.236104",
     "exception": false,
     "start_time": "2022-04-26T00:56:56.114057",
     "status": "completed"
    },
    "tags": []
   },
   "outputs": [
    {
     "name": "stderr",
     "output_type": "stream",
     "text": [
      "Type 'citation(\"pROC\")' for a citation.\n",
      "\n",
      "\n",
      "Attaching package: ‘pROC’\n",
      "\n",
      "\n",
      "The following object is masked from ‘package:colorspace’:\n",
      "\n",
      "    coords\n",
      "\n",
      "\n",
      "The following objects are masked from ‘package:stats’:\n",
      "\n",
      "    cov, smooth, var\n",
      "\n",
      "\n"
     ]
    }
   ],
   "source": [
    "library(pROC)"
   ]
  },
  {
   "cell_type": "code",
   "execution_count": 39,
   "id": "15c4b2a6",
   "metadata": {
    "execution": {
     "iopub.execute_input": "2022-04-26T00:56:56.305104Z",
     "iopub.status.busy": "2022-04-26T00:56:56.303502Z",
     "iopub.status.idle": "2022-04-26T00:56:56.336647Z",
     "shell.execute_reply": "2022-04-26T00:56:56.334814Z"
    },
    "papermill": {
     "duration": 0.070088,
     "end_time": "2022-04-26T00:56:56.338904",
     "exception": false,
     "start_time": "2022-04-26T00:56:56.268816",
     "status": "completed"
    },
    "tags": []
   },
   "outputs": [],
   "source": [
    "predict_by_tree3 <- predict(model_tree, newdata = independent2, type='prob')\n",
    "predict_by_rf3 <- predict(model_rf, newdata = independent2, type='prob')\n",
    "predict_by_nb3 <- predict(model_nb, newdata = independent2, type='prob')"
   ]
  },
  {
   "cell_type": "code",
   "execution_count": 40,
   "id": "50088086",
   "metadata": {
    "execution": {
     "iopub.execute_input": "2022-04-26T00:56:56.408880Z",
     "iopub.status.busy": "2022-04-26T00:56:56.407175Z",
     "iopub.status.idle": "2022-04-26T00:56:56.447877Z",
     "shell.execute_reply": "2022-04-26T00:56:56.446087Z"
    },
    "papermill": {
     "duration": 0.078417,
     "end_time": "2022-04-26T00:56:56.450755",
     "exception": false,
     "start_time": "2022-04-26T00:56:56.372338",
     "status": "completed"
    },
    "tags": []
   },
   "outputs": [
    {
     "name": "stderr",
     "output_type": "stream",
     "text": [
      "Setting levels: control = 0, case = 1\n",
      "\n",
      "Setting direction: controls < cases\n",
      "\n",
      "Setting levels: control = 0, case = 1\n",
      "\n",
      "Setting direction: controls < cases\n",
      "\n",
      "Setting levels: control = 0, case = 1\n",
      "\n",
      "Setting direction: controls < cases\n",
      "\n"
     ]
    }
   ],
   "source": [
    "ROC_tree <- roc(test_score$reference, predict_by_tree3[,2])\n",
    "ROC_rf <- roc(test_score$reference, predict_by_rf3[,2])\n",
    "ROC_nb <- roc(test_score$reference, predict_by_nb3[,2])"
   ]
  },
  {
   "cell_type": "markdown",
   "id": "1041ea05",
   "metadata": {
    "papermill": {
     "duration": 0.033027,
     "end_time": "2022-04-26T00:56:56.516959",
     "exception": false,
     "start_time": "2022-04-26T00:56:56.483932",
     "status": "completed"
    },
    "tags": []
   },
   "source": [
    "### Plot **ROC Curves**"
   ]
  },
  {
   "cell_type": "code",
   "execution_count": 41,
   "id": "360fa708",
   "metadata": {
    "execution": {
     "iopub.execute_input": "2022-04-26T00:56:56.586733Z",
     "iopub.status.busy": "2022-04-26T00:56:56.585170Z",
     "iopub.status.idle": "2022-04-26T00:56:56.694343Z",
     "shell.execute_reply": "2022-04-26T00:56:56.691821Z"
    },
    "papermill": {
     "duration": 0.146521,
     "end_time": "2022-04-26T00:56:56.696861",
     "exception": false,
     "start_time": "2022-04-26T00:56:56.550340",
     "status": "completed"
    },
    "tags": []
   },
   "outputs": [
    {
     "data": {
      "text/html": [
       "<span style=white-space:pre-wrap>'Accuracy % of Decision Tree:  0.77'</span>"
      ],
      "text/latex": [
       "'Accuracy \\% of Decision Tree:  0.77'"
      ],
      "text/markdown": [
       "<span style=white-space:pre-wrap>'Accuracy % of Decision Tree:  0.77'</span>"
      ],
      "text/plain": [
       "[1] \"Accuracy % of Decision Tree:  0.77\""
      ]
     },
     "metadata": {},
     "output_type": "display_data"
    },
    {
     "data": {
      "text/html": [
       "<span style=white-space:pre-wrap>'Accuracy % of Random Forest:  0.9'</span>"
      ],
      "text/latex": [
       "'Accuracy \\% of Random Forest:  0.9'"
      ],
      "text/markdown": [
       "<span style=white-space:pre-wrap>'Accuracy % of Random Forest:  0.9'</span>"
      ],
      "text/plain": [
       "[1] \"Accuracy % of Random Forest:  0.9\""
      ]
     },
     "metadata": {},
     "output_type": "display_data"
    },
    {
     "data": {
      "text/html": [
       "<span style=white-space:pre-wrap>'Accuracy % of Naive Bayes:  0.79'</span>"
      ],
      "text/latex": [
       "'Accuracy \\% of Naive Bayes:  0.79'"
      ],
      "text/markdown": [
       "<span style=white-space:pre-wrap>'Accuracy % of Naive Bayes:  0.79'</span>"
      ],
      "text/plain": [
       "[1] \"Accuracy % of Naive Bayes:  0.79\""
      ]
     },
     "metadata": {},
     "output_type": "display_data"
    },
    {
     "data": {
      "image/png": "[encoded data removed]"
     },
     "metadata": {
      "image/png": {
       "height": 420,
       "width": 420
      }
     },
     "output_type": "display_data"
    }
   ],
   "source": [
    "plot(ROC_tree, col='violet', main = \"ROC For Decision Tree (Pink) vs Random Forest (Purple) vs Naive Bayes (Orange)\")\n",
    "lines(ROC_rf, col = 'Purple')\n",
    "lines(ROC_nb, col = 'orange')\n",
    "\n",
    "paste(\"Accuracy % of Decision Tree: \", mean(test_score$reference == round(predict_by_tree3[,2], digits = 0)))\n",
    "paste(\"Accuracy % of Random Forest: \", mean(test_score$reference == round(predict_by_rf3[,2], digits = 0)))\n",
    "paste(\"Accuracy % of Naive Bayes: \", mean(test_score$reference == round(predict_by_nb3[,2], digits = 0)))"
   ]
  },
  {
   "cell_type": "markdown",
   "id": "6cdf980d",
   "metadata": {
    "papermill": {
     "duration": 0.035568,
     "end_time": "2022-04-26T00:56:56.767627",
     "exception": false,
     "start_time": "2022-04-26T00:56:56.732059",
     "status": "completed"
    },
    "tags": []
   },
   "source": [
    "## **AUC** - ROC Curve 면적 계산\n",
    "* **AUC(Area Under Curve)**: 최댓값 = 1, 좋은 모델일수록 1에 가까운 값이 도출"
   ]
  },
  {
   "cell_type": "code",
   "execution_count": 42,
   "id": "311a5e5f",
   "metadata": {
    "execution": {
     "iopub.execute_input": "2022-04-26T00:56:56.841136Z",
     "iopub.status.busy": "2022-04-26T00:56:56.839383Z",
     "iopub.status.idle": "2022-04-26T00:56:56.858852Z",
     "shell.execute_reply": "2022-04-26T00:56:56.856814Z"
    },
    "papermill": {
     "duration": 0.059006,
     "end_time": "2022-04-26T00:56:56.861354",
     "exception": false,
     "start_time": "2022-04-26T00:56:56.802348",
     "status": "completed"
    },
    "tags": []
   },
   "outputs": [],
   "source": [
    "ROC_dt_auc <- auc(ROC_tree)\n",
    "ROC_rf_auc <- auc(ROC_rf)\n",
    "ROC_nb_auc <- auc(ROC_nb)"
   ]
  },
  {
   "cell_type": "code",
   "execution_count": 43,
   "id": "5609fed7",
   "metadata": {
    "execution": {
     "iopub.execute_input": "2022-04-26T00:56:56.935106Z",
     "iopub.status.busy": "2022-04-26T00:56:56.933364Z",
     "iopub.status.idle": "2022-04-26T00:56:56.962364Z",
     "shell.execute_reply": "2022-04-26T00:56:56.960508Z"
    },
    "papermill": {
     "duration": 0.068458,
     "end_time": "2022-04-26T00:56:56.964740",
     "exception": false,
     "start_time": "2022-04-26T00:56:56.896282",
     "status": "completed"
    },
    "tags": []
   },
   "outputs": [
    {
     "data": {
      "text/html": [
       "<span style=white-space:pre-wrap>'Area under curve of Decision Tree:  0.78'</span>"
      ],
      "text/latex": [
       "'Area under curve of Decision Tree:  0.78'"
      ],
      "text/markdown": [
       "<span style=white-space:pre-wrap>'Area under curve of Decision Tree:  0.78'</span>"
      ],
      "text/plain": [
       "[1] \"Area under curve of Decision Tree:  0.78\""
      ]
     },
     "metadata": {},
     "output_type": "display_data"
    },
    {
     "data": {
      "text/html": [
       "<span style=white-space:pre-wrap>'Area under curve of Random Forest:  0.97'</span>"
      ],
      "text/latex": [
       "'Area under curve of Random Forest:  0.97'"
      ],
      "text/markdown": [
       "<span style=white-space:pre-wrap>'Area under curve of Random Forest:  0.97'</span>"
      ],
      "text/plain": [
       "[1] \"Area under curve of Random Forest:  0.97\""
      ]
     },
     "metadata": {},
     "output_type": "display_data"
    },
    {
     "data": {
      "text/html": [
       "<span style=white-space:pre-wrap>'Area under curve of Naive Bayes:  0.88'</span>"
      ],
      "text/latex": [
       "'Area under curve of Naive Bayes:  0.88'"
      ],
      "text/markdown": [
       "<span style=white-space:pre-wrap>'Area under curve of Naive Bayes:  0.88'</span>"
      ],
      "text/plain": [
       "[1] \"Area under curve of Naive Bayes:  0.88\""
      ]
     },
     "metadata": {},
     "output_type": "display_data"
    }
   ],
   "source": [
    "paste(\"Area under curve of Decision Tree: \", round(ROC_dt_auc, 2))\n",
    "paste(\"Area under curve of Random Forest: \", round(ROC_rf_auc, 2))\n",
    "paste(\"Area under curve of Naive Bayes: \", round(ROC_nb_auc, 2))"
   ]
  },
  {
   "cell_type": "markdown",
   "id": "253b2024",
   "metadata": {
    "papermill": {
     "duration": 0.036147,
     "end_time": "2022-04-26T00:56:57.037257",
     "exception": false,
     "start_time": "2022-04-26T00:56:57.001110",
     "status": "completed"
    },
    "tags": []
   },
   "source": [
    "# 6) K-Nearest Neighbors\n",
    "## **타이타닉 데이터로 보는 K 최근접 이웃 모델**\n",
    "* **K-NN Algorithm**: 특정 값으로부터 가까운 거리에 위치한 **'K개'**의 값을 참조해 분류를 진행하는 모델\n",
    "* **class** Library 사용\n"
   ]
  },
  {
   "cell_type": "code",
   "execution_count": 44,
   "id": "5058ef73",
   "metadata": {
    "execution": {
     "iopub.execute_input": "2022-04-26T00:56:57.111396Z",
     "iopub.status.busy": "2022-04-26T00:56:57.109626Z",
     "iopub.status.idle": "2022-04-26T00:56:57.136925Z",
     "shell.execute_reply": "2022-04-26T00:56:57.134988Z"
    },
    "papermill": {
     "duration": 0.066809,
     "end_time": "2022-04-26T00:56:57.139195",
     "exception": false,
     "start_time": "2022-04-26T00:56:57.072386",
     "status": "completed"
    },
    "tags": []
   },
   "outputs": [],
   "source": [
    "library(class)"
   ]
  },
  {
   "attachments": {
    "b67b7155-233a-4cec-afd8-1756316ff4b2.png": {
     "image/png": "[encoded data removed]"
    }
   },
   "cell_type": "markdown",
   "id": "7a45ec98",
   "metadata": {
    "papermill": {
     "duration": 0.034505,
     "end_time": "2022-04-26T00:56:57.208367",
     "exception": false,
     "start_time": "2022-04-26T00:56:57.173862",
     "status": "completed"
    },
    "tags": []
   },
   "source": [
    "## **Normalization (정규화) 진행**\n",
    "* K-NN 알고리즘에서는 분류 과정에서 모든 특성의 scale을 고르게 반영하기 위해, **정규화 (Normalization)**가 필요함\n",
    "* **Min-Max Normalization**: 최솟값을 0, 최댓값을 1로 고정한 뒤, 모든 값들을 0과 1사이의 값을 변환하는 방법\n",
    "    \n",
    "  ![image.png](attachment:b67b7155-233a-4cec-afd8-1756316ff4b2.png)"
   ]
  },
  {
   "cell_type": "code",
   "execution_count": 45,
   "id": "08d5995b",
   "metadata": {
    "execution": {
     "iopub.execute_input": "2022-04-26T00:56:57.281187Z",
     "iopub.status.busy": "2022-04-26T00:56:57.279463Z",
     "iopub.status.idle": "2022-04-26T00:56:57.294219Z",
     "shell.execute_reply": "2022-04-26T00:56:57.292202Z"
    },
    "papermill": {
     "duration": 0.05387,
     "end_time": "2022-04-26T00:56:57.296948",
     "exception": false,
     "start_time": "2022-04-26T00:56:57.243078",
     "status": "completed"
    },
    "tags": []
   },
   "outputs": [],
   "source": [
    "nor <- function(x) { (x - min(x)) / (max(x) - min(x)) }"
   ]
  },
  {
   "cell_type": "markdown",
   "id": "8e1cc5e9",
   "metadata": {
    "papermill": {
     "duration": 0.036471,
     "end_time": "2022-04-26T00:56:57.372630",
     "exception": false,
     "start_time": "2022-04-26T00:56:57.336159",
     "status": "completed"
    },
    "tags": []
   },
   "source": [
    "* 종속변수 Survived와 명목형 변수 Sex, Embarked를 제외한, **범주형 독립 변수들만** normailization 진행"
   ]
  },
  {
   "cell_type": "code",
   "execution_count": 46,
   "id": "8504cbba",
   "metadata": {
    "execution": {
     "iopub.execute_input": "2022-04-26T00:56:57.448505Z",
     "iopub.status.busy": "2022-04-26T00:56:57.446270Z",
     "iopub.status.idle": "2022-04-26T00:56:57.503511Z",
     "shell.execute_reply": "2022-04-26T00:56:57.501163Z"
    },
    "papermill": {
     "duration": 0.098497,
     "end_time": "2022-04-26T00:56:57.506642",
     "exception": false,
     "start_time": "2022-04-26T00:56:57.408145",
     "status": "completed"
    },
    "tags": []
   },
   "outputs": [
    {
     "data": {
      "text/html": [
       "<table class=\"dataframe\">\n",
       "<caption>A data.frame: 6 × 5</caption>\n",
       "<thead>\n",
       "\t<tr><th></th><th scope=col>Pclass</th><th scope=col>Age</th><th scope=col>SibSp</th><th scope=col>Parch</th><th scope=col>Fare</th></tr>\n",
       "\t<tr><th></th><th scope=col>&lt;fct&gt;</th><th scope=col>&lt;dbl&gt;</th><th scope=col>&lt;dbl&gt;</th><th scope=col>&lt;dbl&gt;</th><th scope=col>&lt;dbl&gt;</th></tr>\n",
       "</thead>\n",
       "<tbody>\n",
       "\t<tr><th scope=row>1</th><td>3</td><td>0.2711737</td><td>0.125</td><td>0</td><td>0.01415106</td></tr>\n",
       "\t<tr><th scope=row>2</th><td>1</td><td>0.4722292</td><td>0.125</td><td>0</td><td>0.13913574</td></tr>\n",
       "\t<tr><th scope=row>3</th><td>3</td><td>0.3214375</td><td>0.000</td><td>0</td><td>0.01546857</td></tr>\n",
       "\t<tr><th scope=row>4</th><td>1</td><td>0.4345313</td><td>0.125</td><td>0</td><td>0.10364430</td></tr>\n",
       "\t<tr><th scope=row>5</th><td>3</td><td>0.4345313</td><td>0.000</td><td>0</td><td>0.01571255</td></tr>\n",
       "\t<tr><th scope=row>6</th><td>3</td><td>0.3842674</td><td>0.000</td><td>0</td><td>0.01650950</td></tr>\n",
       "</tbody>\n",
       "</table>\n"
      ],
      "text/latex": [
       "A data.frame: 6 × 5\n",
       "\\begin{tabular}{r|lllll}\n",
       "  & Pclass & Age & SibSp & Parch & Fare\\\\\n",
       "  & <fct> & <dbl> & <dbl> & <dbl> & <dbl>\\\\\n",
       "\\hline\n",
       "\t1 & 3 & 0.2711737 & 0.125 & 0 & 0.01415106\\\\\n",
       "\t2 & 1 & 0.4722292 & 0.125 & 0 & 0.13913574\\\\\n",
       "\t3 & 3 & 0.3214375 & 0.000 & 0 & 0.01546857\\\\\n",
       "\t4 & 1 & 0.4345313 & 0.125 & 0 & 0.10364430\\\\\n",
       "\t5 & 3 & 0.4345313 & 0.000 & 0 & 0.01571255\\\\\n",
       "\t6 & 3 & 0.3842674 & 0.000 & 0 & 0.01650950\\\\\n",
       "\\end{tabular}\n"
      ],
      "text/markdown": [
       "\n",
       "A data.frame: 6 × 5\n",
       "\n",
       "| <!--/--> | Pclass &lt;fct&gt; | Age &lt;dbl&gt; | SibSp &lt;dbl&gt; | Parch &lt;dbl&gt; | Fare &lt;dbl&gt; |\n",
       "|---|---|---|---|---|---|\n",
       "| 1 | 3 | 0.2711737 | 0.125 | 0 | 0.01415106 |\n",
       "| 2 | 1 | 0.4722292 | 0.125 | 0 | 0.13913574 |\n",
       "| 3 | 3 | 0.3214375 | 0.000 | 0 | 0.01546857 |\n",
       "| 4 | 1 | 0.4345313 | 0.125 | 0 | 0.10364430 |\n",
       "| 5 | 3 | 0.4345313 | 0.000 | 0 | 0.01571255 |\n",
       "| 6 | 3 | 0.3842674 | 0.000 | 0 | 0.01650950 |\n",
       "\n"
      ],
      "text/plain": [
       "  Pclass Age       SibSp Parch Fare      \n",
       "1 3      0.2711737 0.125 0     0.01415106\n",
       "2 1      0.4722292 0.125 0     0.13913574\n",
       "3 3      0.3214375 0.000 0     0.01546857\n",
       "4 1      0.4345313 0.125 0     0.10364430\n",
       "5 3      0.4345313 0.000 0     0.01571255\n",
       "6 3      0.3842674 0.000 0     0.01650950"
      ]
     },
     "metadata": {},
     "output_type": "display_data"
    }
   ],
   "source": [
    "train_nor <- train_final %>% mutate(Age=nor(Age),\n",
    "                                   SibSp=nor(SibSp),\n",
    "                                   Parch=nor(Parch),\n",
    "                                   Fare=nor(Fare)) %>%\n",
    "                            select(-c(Survived, Sex, Embarked))\n",
    "\n",
    "head(train_nor)"
   ]
  },
  {
   "cell_type": "code",
   "execution_count": 47,
   "id": "9620dd89",
   "metadata": {
    "execution": {
     "iopub.execute_input": "2022-04-26T00:56:57.582072Z",
     "iopub.status.busy": "2022-04-26T00:56:57.580317Z",
     "iopub.status.idle": "2022-04-26T00:56:57.604690Z",
     "shell.execute_reply": "2022-04-26T00:56:57.602499Z"
    },
    "papermill": {
     "duration": 0.064902,
     "end_time": "2022-04-26T00:56:57.607612",
     "exception": false,
     "start_time": "2022-04-26T00:56:57.542710",
     "status": "completed"
    },
    "tags": []
   },
   "outputs": [
    {
     "data": {
      "text/plain": [
       " Pclass       Age             SibSp             Parch             Fare        \n",
       " 1:216   Min.   :0.0000   Min.   :0.00000   Min.   :0.0000   Min.   :0.00000  \n",
       " 2:184   1st Qu.:0.2586   1st Qu.:0.00000   1st Qu.:0.0000   1st Qu.:0.01544  \n",
       " 3:491   Median :0.3466   Median :0.00000   Median :0.0000   Median :0.02821  \n",
       "         Mean   :0.3679   Mean   :0.06538   Mean   :0.0636   Mean   :0.06286  \n",
       "         3rd Qu.:0.4722   3rd Qu.:0.12500   3rd Qu.:0.0000   3rd Qu.:0.06051  \n",
       "         Max.   :1.0000   Max.   :1.00000   Max.   :1.0000   Max.   :1.00000  "
      ]
     },
     "metadata": {},
     "output_type": "display_data"
    }
   ],
   "source": [
    "# 범주형 변수들의 scale이 0에서 1사이로 정규화된 것을 확인할 수 있음\n",
    "summary(train_nor)"
   ]
  },
  {
   "cell_type": "code",
   "execution_count": 48,
   "id": "ed086f51",
   "metadata": {
    "execution": {
     "iopub.execute_input": "2022-04-26T00:56:57.682148Z",
     "iopub.status.busy": "2022-04-26T00:56:57.680422Z",
     "iopub.status.idle": "2022-04-26T00:56:57.715780Z",
     "shell.execute_reply": "2022-04-26T00:56:57.713467Z"
    },
    "papermill": {
     "duration": 0.075436,
     "end_time": "2022-04-26T00:56:57.718684",
     "exception": false,
     "start_time": "2022-04-26T00:56:57.643248",
     "status": "completed"
    },
    "tags": []
   },
   "outputs": [
    {
     "data": {
      "text/html": [
       "<table class=\"dataframe\">\n",
       "<caption>A data.frame: 6 × 5</caption>\n",
       "<thead>\n",
       "\t<tr><th></th><th scope=col>Pclass</th><th scope=col>Age</th><th scope=col>SibSp</th><th scope=col>Parch</th><th scope=col>Fare</th></tr>\n",
       "\t<tr><th></th><th scope=col>&lt;fct&gt;</th><th scope=col>&lt;dbl&gt;</th><th scope=col>&lt;dbl&gt;</th><th scope=col>&lt;dbl&gt;</th><th scope=col>&lt;dbl&gt;</th></tr>\n",
       "</thead>\n",
       "<tbody>\n",
       "\t<tr><th scope=row>1</th><td>3</td><td>0.6407014</td><td>0.000</td><td>0.00</td><td>0.007942883</td></tr>\n",
       "\t<tr><th scope=row>2</th><td>3</td><td>0.4969819</td><td>0.125</td><td>0.25</td><td>0.031943668</td></tr>\n",
       "\t<tr><th scope=row>3</th><td>1</td><td>0.5975855</td><td>0.000</td><td>0.00</td><td>0.043821106</td></tr>\n",
       "\t<tr><th scope=row>4</th><td>1</td><td>0.2526588</td><td>0.250</td><td>0.50</td><td>0.508270730</td></tr>\n",
       "\t<tr><th scope=row>5</th><td>3</td><td>0.2023570</td><td>0.125</td><td>0.00</td><td>0.020541721</td></tr>\n",
       "\t<tr><th scope=row>6</th><td>2</td><td>0.2526588</td><td>0.000</td><td>0.00</td><td>0.017680906</td></tr>\n",
       "</tbody>\n",
       "</table>\n"
      ],
      "text/latex": [
       "A data.frame: 6 × 5\n",
       "\\begin{tabular}{r|lllll}\n",
       "  & Pclass & Age & SibSp & Parch & Fare\\\\\n",
       "  & <fct> & <dbl> & <dbl> & <dbl> & <dbl>\\\\\n",
       "\\hline\n",
       "\t1 & 3 & 0.6407014 & 0.000 & 0.00 & 0.007942883\\\\\n",
       "\t2 & 3 & 0.4969819 & 0.125 & 0.25 & 0.031943668\\\\\n",
       "\t3 & 1 & 0.5975855 & 0.000 & 0.00 & 0.043821106\\\\\n",
       "\t4 & 1 & 0.2526588 & 0.250 & 0.50 & 0.508270730\\\\\n",
       "\t5 & 3 & 0.2023570 & 0.125 & 0.00 & 0.020541721\\\\\n",
       "\t6 & 2 & 0.2526588 & 0.000 & 0.00 & 0.017680906\\\\\n",
       "\\end{tabular}\n"
      ],
      "text/markdown": [
       "\n",
       "A data.frame: 6 × 5\n",
       "\n",
       "| <!--/--> | Pclass &lt;fct&gt; | Age &lt;dbl&gt; | SibSp &lt;dbl&gt; | Parch &lt;dbl&gt; | Fare &lt;dbl&gt; |\n",
       "|---|---|---|---|---|---|\n",
       "| 1 | 3 | 0.6407014 | 0.000 | 0.00 | 0.007942883 |\n",
       "| 2 | 3 | 0.4969819 | 0.125 | 0.25 | 0.031943668 |\n",
       "| 3 | 1 | 0.5975855 | 0.000 | 0.00 | 0.043821106 |\n",
       "| 4 | 1 | 0.2526588 | 0.250 | 0.50 | 0.508270730 |\n",
       "| 5 | 3 | 0.2023570 | 0.125 | 0.00 | 0.020541721 |\n",
       "| 6 | 2 | 0.2526588 | 0.000 | 0.00 | 0.017680906 |\n",
       "\n"
      ],
      "text/plain": [
       "  Pclass Age       SibSp Parch Fare       \n",
       "1 3      0.6407014 0.000 0.00  0.007942883\n",
       "2 3      0.4969819 0.125 0.25  0.031943668\n",
       "3 1      0.5975855 0.000 0.00  0.043821106\n",
       "4 1      0.2526588 0.250 0.50  0.508270730\n",
       "5 3      0.2023570 0.125 0.00  0.020541721\n",
       "6 2      0.2526588 0.000 0.00  0.017680906"
      ]
     },
     "metadata": {},
     "output_type": "display_data"
    }
   ],
   "source": [
    "test_nor <- test %>% mutate(Age=nor(Age),\n",
    "                            SibSp=nor(SibSp),\n",
    "                           Parch=nor(Parch),\n",
    "                           Fare=nor(Fare)) %>% \n",
    "                        select(-c(Survived, Sex, Embarked))\n",
    "\n",
    "head(test_nor)"
   ]
  },
  {
   "cell_type": "markdown",
   "id": "d0e3f06a",
   "metadata": {
    "papermill": {
     "duration": 0.035805,
     "end_time": "2022-04-26T00:56:57.790166",
     "exception": false,
     "start_time": "2022-04-26T00:56:57.754361",
     "status": "completed"
    },
    "tags": []
   },
   "source": [
    "## **Training** with K-Nearest Neighbors\n",
    "* KNN 모델 학습\n",
    "* **cl (classification)**: train dataset의 Survive (생존여부) 칼럼을 참조해 KNN 분류 모델 학습\n",
    "* **k 값** 지정: 특정 값 **인근에 위치한 k개 데이터**의 정보를 바탕으로 해당 값을 분류함"
   ]
  },
  {
   "cell_type": "code",
   "execution_count": 49,
   "id": "521a129f",
   "metadata": {
    "execution": {
     "iopub.execute_input": "2022-04-26T00:56:57.867786Z",
     "iopub.status.busy": "2022-04-26T00:56:57.865964Z",
     "iopub.status.idle": "2022-04-26T00:56:57.890711Z",
     "shell.execute_reply": "2022-04-26T00:56:57.888833Z"
    },
    "papermill": {
     "duration": 0.065984,
     "end_time": "2022-04-26T00:56:57.893452",
     "exception": false,
     "start_time": "2022-04-26T00:56:57.827468",
     "status": "completed"
    },
    "tags": []
   },
   "outputs": [],
   "source": [
    "model_KNN <- knn(train_nor, test_nor, cl=train_final$Survived, k=13)"
   ]
  },
  {
   "cell_type": "markdown",
   "id": "82c9d7b4",
   "metadata": {
    "papermill": {
     "duration": 0.037233,
     "end_time": "2022-04-26T00:56:57.968133",
     "exception": false,
     "start_time": "2022-04-26T00:56:57.930900",
     "status": "completed"
    },
    "tags": []
   },
   "source": [
    "## **Prediction** with K-Nearest Neighbors\n",
    "* 학습시킨 KNN 모델로 Survived(생존여부) 예측"
   ]
  },
  {
   "cell_type": "code",
   "execution_count": 50,
   "id": "7f83b728",
   "metadata": {
    "execution": {
     "iopub.execute_input": "2022-04-26T00:56:58.046049Z",
     "iopub.status.busy": "2022-04-26T00:56:58.044444Z",
     "iopub.status.idle": "2022-04-26T00:56:58.064796Z",
     "shell.execute_reply": "2022-04-26T00:56:58.062895Z"
    },
    "papermill": {
     "duration": 0.062373,
     "end_time": "2022-04-26T00:56:58.067299",
     "exception": false,
     "start_time": "2022-04-26T00:56:58.004926",
     "status": "completed"
    },
    "tags": []
   },
   "outputs": [
    {
     "data": {
      "text/plain": [
       "         \n",
       "model_KNN  0  1\n",
       "        0 45 20\n",
       "        1 10 25"
      ]
     },
     "metadata": {},
     "output_type": "display_data"
    }
   ],
   "source": [
    "# Confusion Matrix\n",
    "table_knn <- table(model_KNN, test$Survived)\n",
    "table_knn"
   ]
  },
  {
   "cell_type": "markdown",
   "id": "f4029880",
   "metadata": {
    "papermill": {
     "duration": 0.03591,
     "end_time": "2022-04-26T00:56:58.139964",
     "exception": false,
     "start_time": "2022-04-26T00:56:58.104054",
     "status": "completed"
    },
    "tags": []
   },
   "source": [
    "* **예측 정확도** 지표 확인\n",
    "* 위 혼동행렬의 **대각행렬** -> **예측이 일치**한 결과 개수"
   ]
  },
  {
   "cell_type": "code",
   "execution_count": 51,
   "id": "eb8bad09",
   "metadata": {
    "execution": {
     "iopub.execute_input": "2022-04-26T00:56:58.215053Z",
     "iopub.status.busy": "2022-04-26T00:56:58.213474Z",
     "iopub.status.idle": "2022-04-26T00:56:58.233990Z",
     "shell.execute_reply": "2022-04-26T00:56:58.231765Z"
    },
    "papermill": {
     "duration": 0.061159,
     "end_time": "2022-04-26T00:56:58.236877",
     "exception": false,
     "start_time": "2022-04-26T00:56:58.175718",
     "status": "completed"
    },
    "tags": []
   },
   "outputs": [
    {
     "data": {
      "text/html": [
       "70"
      ],
      "text/latex": [
       "70"
      ],
      "text/markdown": [
       "70"
      ],
      "text/plain": [
       "[1] 70"
      ]
     },
     "metadata": {},
     "output_type": "display_data"
    }
   ],
   "source": [
    "accuracy_knn <- function(x){sum(diag(x) / (sum(rowSums(x)))) * 100}\n",
    "accuracy_knn(table_knn)"
   ]
  }
 ],
 "metadata": {
  "kernelspec": {
   "display_name": "R",
   "language": "R",
   "name": "ir"
  },
  "language_info": {
   "codemirror_mode": "r",
   "file_extension": ".r",
   "mimetype": "text/x-r-source",
   "name": "R",
   "pygments_lexer": "r",
   "version": "4.0.5"
  },
  "papermill": {
   "default_parameters": {},
   "duration": 245.033113,
   "end_time": "2022-04-26T00:56:58.394487",
   "environment_variables": {},
   "exception": null,
   "input_path": "__notebook__.ipynb",
   "output_path": "__notebook__.ipynb",
   "parameters": {},
   "start_time": "2022-04-26T00:52:53.361374",
   "version": "2.3.4"
  }
 },
 "nbformat": 4,
 "nbformat_minor": 5
}
